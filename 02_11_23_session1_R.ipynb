{
  "nbformat": 4,
  "nbformat_minor": 0,
  "metadata": {
    "colab": {
      "provenance": []
    },
    "kernelspec": {
      "name": "ir",
      "display_name": "R"
    },
    "language_info": {
      "name": "R"
    }
  },
  "cells": [
    {
      "cell_type": "markdown",
      "source": [
        "## R Lİnkleri;\n",
        "\n",
        "\n",
        "*   https://www.r-project.org/\n",
        "*   https://r4ds.had.co.nz/\n",
        "\n",
        "*   https://rstudio-education.github.io/hopr/starting.html\n",
        "*   https://intro2r.com/\n",
        "\n",
        "\n",
        "*   https://info201.github.io/r-intro.html\n",
        "\n",
        "\n",
        "\n",
        "\n",
        "\n"
      ],
      "metadata": {
        "id": "oICm3hUgrsWh"
      }
    },
    {
      "cell_type": "code",
      "source": [
        "# R version\n",
        "R.version"
      ],
      "metadata": {
        "colab": {
          "base_uri": "https://localhost:8080/",
          "height": 286
        },
        "id": "suFp_2zwwL1T",
        "outputId": "2a85a62b-6598-4d6e-8b0d-abb7bb08f2ba"
      },
      "execution_count": 2,
      "outputs": [
        {
          "output_type": "display_data",
          "data": {
            "text/plain": [
              "               _                           \n",
              "platform       x86_64-pc-linux-gnu         \n",
              "arch           x86_64                      \n",
              "os             linux-gnu                   \n",
              "system         x86_64, linux-gnu           \n",
              "status                                     \n",
              "major          4                           \n",
              "minor          3.1                         \n",
              "year           2023                        \n",
              "month          06                          \n",
              "day            16                          \n",
              "svn rev        84548                       \n",
              "language       R                           \n",
              "version.string R version 4.3.1 (2023-06-16)\n",
              "nickname       Beagle Scouts               "
            ]
          },
          "metadata": {}
        }
      ]
    },
    {
      "cell_type": "code",
      "execution_count": 3,
      "metadata": {
        "colab": {
          "base_uri": "https://localhost:8080/",
          "height": 34
        },
        "id": "xRicub8SrMI-",
        "outputId": "a285c976-9fae-4a6b-d32f-f4c062af0adc"
      },
      "outputs": [
        {
          "output_type": "display_data",
          "data": {
            "text/html": [
              "'R version 4.3.1 (2023-06-16)'"
            ],
            "text/markdown": "'R version 4.3.1 (2023-06-16)'",
            "text/latex": "'R version 4.3.1 (2023-06-16)'",
            "text/plain": [
              "[1] \"R version 4.3.1 (2023-06-16)\""
            ]
          },
          "metadata": {}
        }
      ],
      "source": [
        "R.version.string"
      ]
    },
    {
      "cell_type": "code",
      "source": [
        "R.Version()"
      ],
      "metadata": {
        "colab": {
          "base_uri": "https://localhost:8080/",
          "height": 531
        },
        "id": "AycxCG6GlZMJ",
        "outputId": "868e1276-93b3-40a9-d469-615d92706263"
      },
      "execution_count": 104,
      "outputs": [
        {
          "output_type": "display_data",
          "data": {
            "text/html": [
              "<dl>\n",
              "\t<dt>$platform</dt>\n",
              "\t\t<dd>'x86_64-pc-linux-gnu'</dd>\n",
              "\t<dt>$arch</dt>\n",
              "\t\t<dd>'x86_64'</dd>\n",
              "\t<dt>$os</dt>\n",
              "\t\t<dd>'linux-gnu'</dd>\n",
              "\t<dt>$system</dt>\n",
              "\t\t<dd>'x86_64, linux-gnu'</dd>\n",
              "\t<dt>$status</dt>\n",
              "\t\t<dd>''</dd>\n",
              "\t<dt>$major</dt>\n",
              "\t\t<dd>'4'</dd>\n",
              "\t<dt>$minor</dt>\n",
              "\t\t<dd>'3.1'</dd>\n",
              "\t<dt>$year</dt>\n",
              "\t\t<dd>'2023'</dd>\n",
              "\t<dt>$month</dt>\n",
              "\t\t<dd>'06'</dd>\n",
              "\t<dt>$day</dt>\n",
              "\t\t<dd>'16'</dd>\n",
              "\t<dt>$`svn rev`</dt>\n",
              "\t\t<dd>'84548'</dd>\n",
              "\t<dt>$language</dt>\n",
              "\t\t<dd>'R'</dd>\n",
              "\t<dt>$version.string</dt>\n",
              "\t\t<dd>'R version 4.3.1 (2023-06-16)'</dd>\n",
              "\t<dt>$nickname</dt>\n",
              "\t\t<dd>'Beagle Scouts'</dd>\n",
              "</dl>\n"
            ],
            "text/markdown": "$platform\n:   'x86_64-pc-linux-gnu'\n$arch\n:   'x86_64'\n$os\n:   'linux-gnu'\n$system\n:   'x86_64, linux-gnu'\n$status\n:   ''\n$major\n:   '4'\n$minor\n:   '3.1'\n$year\n:   '2023'\n$month\n:   '06'\n$day\n:   '16'\n$`svn rev`\n:   '84548'\n$language\n:   'R'\n$version.string\n:   'R version 4.3.1 (2023-06-16)'\n$nickname\n:   'Beagle Scouts'\n\n\n",
            "text/latex": "\\begin{description}\n\\item[\\$platform] 'x86\\_64-pc-linux-gnu'\n\\item[\\$arch] 'x86\\_64'\n\\item[\\$os] 'linux-gnu'\n\\item[\\$system] 'x86\\_64, linux-gnu'\n\\item[\\$status] ''\n\\item[\\$major] '4'\n\\item[\\$minor] '3.1'\n\\item[\\$year] '2023'\n\\item[\\$month] '06'\n\\item[\\$day] '16'\n\\item[\\$`svn rev`] '84548'\n\\item[\\$language] 'R'\n\\item[\\$version.string] 'R version 4.3.1 (2023-06-16)'\n\\item[\\$nickname] 'Beagle Scouts'\n\\end{description}\n",
            "text/plain": [
              "$platform\n",
              "[1] \"x86_64-pc-linux-gnu\"\n",
              "\n",
              "$arch\n",
              "[1] \"x86_64\"\n",
              "\n",
              "$os\n",
              "[1] \"linux-gnu\"\n",
              "\n",
              "$system\n",
              "[1] \"x86_64, linux-gnu\"\n",
              "\n",
              "$status\n",
              "[1] \"\"\n",
              "\n",
              "$major\n",
              "[1] \"4\"\n",
              "\n",
              "$minor\n",
              "[1] \"3.1\"\n",
              "\n",
              "$year\n",
              "[1] \"2023\"\n",
              "\n",
              "$month\n",
              "[1] \"06\"\n",
              "\n",
              "$day\n",
              "[1] \"16\"\n",
              "\n",
              "$`svn rev`\n",
              "[1] \"84548\"\n",
              "\n",
              "$language\n",
              "[1] \"R\"\n",
              "\n",
              "$version.string\n",
              "[1] \"R version 4.3.1 (2023-06-16)\"\n",
              "\n",
              "$nickname\n",
              "[1] \"Beagle Scouts\"\n"
            ]
          },
          "metadata": {}
        }
      ]
    },
    {
      "cell_type": "code",
      "source": [
        "# Kurulum ile gelmeyen bir paketi yüklemek için\n",
        "install.packages(\"dplyr\")"
      ],
      "metadata": {
        "colab": {
          "base_uri": "https://localhost:8080/"
        },
        "id": "vZkgYZRu3qOp",
        "outputId": "f2e0ea1d-8233-410e-8aeb-11a134000941"
      },
      "execution_count": 5,
      "outputs": [
        {
          "output_type": "stream",
          "name": "stderr",
          "text": [
            "Installing package into ‘/usr/local/lib/R/site-library’\n",
            "(as ‘lib’ is unspecified)\n",
            "\n"
          ]
        }
      ]
    },
    {
      "cell_type": "code",
      "source": [
        "library(\"dplyr\")  # programa almak/yüklemek"
      ],
      "metadata": {
        "colab": {
          "base_uri": "https://localhost:8080/"
        },
        "id": "5ol53SdR3_Pa",
        "outputId": "8fe4c22a-2b74-452a-aef3-6c0ca5f7bede"
      },
      "execution_count": 6,
      "outputs": [
        {
          "output_type": "stream",
          "name": "stderr",
          "text": [
            "\n",
            "Attaching package: ‘dplyr’\n",
            "\n",
            "\n",
            "The following objects are masked from ‘package:stats’:\n",
            "\n",
            "    filter, lag\n",
            "\n",
            "\n",
            "The following objects are masked from ‘package:base’:\n",
            "\n",
            "    intersect, setdiff, setequal, union\n",
            "\n",
            "\n"
          ]
        }
      ]
    },
    {
      "cell_type": "code",
      "source": [
        "# Bir R programını başka bir programda çalıştırmak için\n",
        "source(\"test.R\")"
      ],
      "metadata": {
        "colab": {
          "base_uri": "https://localhost:8080/"
        },
        "id": "9u39Jx2l4_Ih",
        "outputId": "60a849e7-ddba-4292-9570-f5b4e7cb9d89"
      },
      "execution_count": 7,
      "outputs": [
        {
          "output_type": "stream",
          "name": "stdout",
          "text": [
            "[1] \"Merhaba8\"\n",
            "[1] \"Merhaba 8\"\n"
          ]
        }
      ]
    },
    {
      "cell_type": "code",
      "source": [
        "# Bir paket hakkında yardım almak\n",
        "help(dplyr)"
      ],
      "metadata": {
        "id": "UxNdhJ9j5X9E"
      },
      "execution_count": 105,
      "outputs": []
    },
    {
      "cell_type": "code",
      "source": [
        "?dplyr"
      ],
      "metadata": {
        "id": "V6HkcN8d5eXR"
      },
      "execution_count": 9,
      "outputs": []
    },
    {
      "cell_type": "code",
      "source": [],
      "metadata": {
        "id": "oBw4bKHs5i3x"
      },
      "execution_count": null,
      "outputs": []
    },
    {
      "cell_type": "code",
      "source": [
        "#paket hakkında daha detaylı bilgi almak için\n",
        "library(help=\"dplyr\")"
      ],
      "metadata": {
        "id": "M8a5jj-m5jP1"
      },
      "execution_count": 10,
      "outputs": []
    },
    {
      "cell_type": "code",
      "source": [
        "vignette(package=\"dplyr\") #paket hakkında özet bilgi verir"
      ],
      "metadata": {
        "id": "iAsyNvkL5urs"
      },
      "execution_count": 11,
      "outputs": []
    },
    {
      "cell_type": "code",
      "source": [
        "?print"
      ],
      "metadata": {
        "id": "TwnWDhOF5-6K"
      },
      "execution_count": 12,
      "outputs": []
    },
    {
      "cell_type": "code",
      "source": [
        "# R web sitesinden yardım almak için de\n",
        "RSiteSearch(\"pow\")"
      ],
      "metadata": {
        "colab": {
          "base_uri": "https://localhost:8080/"
        },
        "id": "ComS4sFh6VD7",
        "outputId": "fe217148-42e7-479c-8393-7d937d5bd8a8"
      },
      "execution_count": 13,
      "outputs": [
        {
          "output_type": "stream",
          "name": "stdout",
          "text": [
            "A search query has been submitted to https://search.r-project.org\n",
            "The results page should open in your browser shortly\n"
          ]
        }
      ]
    },
    {
      "cell_type": "code",
      "source": [
        "# Yüklü paketlerin bir listesi için\n",
        "installed.packages()[,c(\"Package\", \"Version\")]"
      ],
      "metadata": {
        "id": "uHDCergG649L"
      },
      "execution_count": null,
      "outputs": []
    },
    {
      "cell_type": "code",
      "source": [
        "# bir fonksiyonun paketini öğrenmek için\n",
        "find(\"sum\")"
      ],
      "metadata": {
        "colab": {
          "base_uri": "https://localhost:8080/",
          "height": 34
        },
        "id": "OEo6v9qp7vcJ",
        "outputId": "02473058-b60c-4567-bb30-7645d0b678a6"
      },
      "execution_count": 16,
      "outputs": [
        {
          "output_type": "display_data",
          "data": {
            "text/html": [
              "'package:base'"
            ],
            "text/markdown": "'package:base'",
            "text/latex": "'package:base'",
            "text/plain": [
              "[1] \"package:base\""
            ]
          },
          "metadata": {}
        }
      ]
    },
    {
      "cell_type": "code",
      "source": [
        "# bir fonksiyonun örnek kullanımı hakkında bilgi için\n",
        "example(\"sum\")"
      ],
      "metadata": {
        "colab": {
          "base_uri": "https://localhost:8080/"
        },
        "id": "cOcudQnH75Fe",
        "outputId": "27949181-2fb6-419f-eade-5b604a8a9ed4"
      },
      "execution_count": 17,
      "outputs": [
        {
          "output_type": "stream",
          "name": "stdout",
          "text": [
            "\n",
            "sum> ## Pass a vector to sum, and it will add the elements together.\n",
            "sum> sum(1:5)\n",
            "[1] 15\n",
            "\n",
            "sum> ## Pass several numbers to sum, and it also adds the elements.\n",
            "sum> sum(1, 2, 3, 4, 5)\n",
            "[1] 15\n",
            "\n",
            "sum> ## In fact, you can pass vectors into several arguments, and everything gets added.\n",
            "sum> sum(1:2, 3:5)\n",
            "[1] 15\n",
            "\n",
            "sum> ## If there are missing values, the sum is unknown, i.e., also missing, ....\n",
            "sum> sum(1:5, NA)\n",
            "[1] NA\n",
            "\n",
            "sum> ## ... unless  we exclude missing values explicitly:\n",
            "sum> sum(1:5, NA, na.rm = TRUE)\n",
            "[1] 15\n"
          ]
        }
      ]
    },
    {
      "cell_type": "markdown",
      "source": [
        "# CRAN deposunda yüklenebilir durumda olan paketlerin listesi:\n",
        "https://cran.r-project.org/web/packages/available_packages_by_name.html"
      ],
      "metadata": {
        "id": "RAaRWgO_8Ypp"
      }
    },
    {
      "cell_type": "code",
      "source": [
        "# CRAN deposundaki install edilebilir paket sayısı\n",
        "a = available.packages()\n",
        "length(row.names(a))"
      ],
      "metadata": {
        "colab": {
          "base_uri": "https://localhost:8080/",
          "height": 34
        },
        "id": "-XuB_tjx8gFK",
        "outputId": "3abe2562-7063-4d70-d985-19a436d02622"
      },
      "execution_count": 21,
      "outputs": [
        {
          "output_type": "display_data",
          "data": {
            "text/html": [
              "19947"
            ],
            "text/markdown": "19947",
            "text/latex": "19947",
            "text/plain": [
              "[1] 19947"
            ]
          },
          "metadata": {}
        }
      ]
    },
    {
      "cell_type": "code",
      "source": [
        "# Kendi paketinizi oluşturmak için\n",
        "library(devtools)\n",
        "usethis::create_package(\"mypackage\")"
      ],
      "metadata": {
        "id": "JKgL7euc9vqU"
      },
      "execution_count": null,
      "outputs": []
    },
    {
      "cell_type": "code",
      "source": [
        "# Bir paketini kaldırmak için\n",
        "remove.packages(\"mypackage\")"
      ],
      "metadata": {
        "colab": {
          "base_uri": "https://localhost:8080/",
          "height": 215
        },
        "id": "N_bIhtIu-Fjg",
        "outputId": "27ed9d7e-1d29-414d-a5d5-99f6887bd8b7"
      },
      "execution_count": 24,
      "outputs": [
        {
          "output_type": "stream",
          "name": "stderr",
          "text": [
            "Removing package from ‘/usr/local/lib/R/site-library’\n",
            "(as ‘lib’ is unspecified)\n",
            "\n"
          ]
        },
        {
          "output_type": "error",
          "ename": "ERROR",
          "evalue": "ignored",
          "traceback": [
            "Error in find.package(pkgs, lib): there is no package called ‘mypackage’\nTraceback:\n",
            "1. remove.packages(\"mypackage\")",
            "2. find.package(pkgs, lib)"
          ]
        }
      ]
    },
    {
      "cell_type": "code",
      "source": [
        "update.packages() # Güncellemek için"
      ],
      "metadata": {
        "id": "KldTB4x7-ZUa"
      },
      "execution_count": null,
      "outputs": []
    },
    {
      "cell_type": "code",
      "source": [
        "# çakışan paketlerde fonksiyon\n",
        "library(\"tidyverse\")"
      ],
      "metadata": {
        "colab": {
          "base_uri": "https://localhost:8080/"
        },
        "id": "Oz14Ssg3-pCP",
        "outputId": "6fe614ad-5e63-4484-9a83-5b1f3a254186"
      },
      "execution_count": 26,
      "outputs": [
        {
          "output_type": "stream",
          "name": "stderr",
          "text": [
            "── \u001b[1mAttaching core tidyverse packages\u001b[22m ──────────────────────── tidyverse 2.0.0 ──\n",
            "\u001b[32m✔\u001b[39m \u001b[34mforcats  \u001b[39m 1.0.0     \u001b[32m✔\u001b[39m \u001b[34mreadr    \u001b[39m 2.1.4\n",
            "\u001b[32m✔\u001b[39m \u001b[34mggplot2  \u001b[39m 3.4.4     \u001b[32m✔\u001b[39m \u001b[34mstringr  \u001b[39m 1.5.0\n",
            "\u001b[32m✔\u001b[39m \u001b[34mlubridate\u001b[39m 1.9.3     \u001b[32m✔\u001b[39m \u001b[34mtibble   \u001b[39m 3.2.1\n",
            "\u001b[32m✔\u001b[39m \u001b[34mpurrr    \u001b[39m 1.0.2     \u001b[32m✔\u001b[39m \u001b[34mtidyr    \u001b[39m 1.3.0\n",
            "── \u001b[1mConflicts\u001b[22m ────────────────────────────────────────── tidyverse_conflicts() ──\n",
            "\u001b[31m✖\u001b[39m \u001b[34mdplyr\u001b[39m::\u001b[32mfilter()\u001b[39m masks \u001b[34mstats\u001b[39m::filter()\n",
            "\u001b[31m✖\u001b[39m \u001b[34mdplyr\u001b[39m::\u001b[32mlag()\u001b[39m    masks \u001b[34mstats\u001b[39m::lag()\n",
            "\u001b[36mℹ\u001b[39m Use the conflicted package (\u001b[3m\u001b[34m<http://conflicted.r-lib.org/>\u001b[39m\u001b[23m) to force all conflicts to become errors\n"
          ]
        }
      ]
    },
    {
      "cell_type": "code",
      "source": [
        "install.packages(\"conflicted\")"
      ],
      "metadata": {
        "colab": {
          "base_uri": "https://localhost:8080/"
        },
        "id": "h-aLNawv_AY3",
        "outputId": "9d064565-0c26-4928-c90b-60af49032840"
      },
      "execution_count": 27,
      "outputs": [
        {
          "output_type": "stream",
          "name": "stderr",
          "text": [
            "Installing package into ‘/usr/local/lib/R/site-library’\n",
            "(as ‘lib’ is unspecified)\n",
            "\n"
          ]
        }
      ]
    },
    {
      "cell_type": "code",
      "source": [
        "library(conflicted)"
      ],
      "metadata": {
        "id": "ksBj2RyA_I7l"
      },
      "execution_count": 28,
      "outputs": []
    },
    {
      "cell_type": "code",
      "source": [
        "# çakışan fonks. için paket seçimi\n",
        "conflict_prefer(\"filter\", \"dplyr\")\n",
        "conflict_prefer(\"lag\", \"dplyr\")"
      ],
      "metadata": {
        "colab": {
          "base_uri": "https://localhost:8080/"
        },
        "id": "rYjieYi2_Ogs",
        "outputId": "5be09875-1ee9-4c07-eec4-efd1b2bbe74d"
      },
      "execution_count": 29,
      "outputs": [
        {
          "output_type": "stream",
          "name": "stderr",
          "text": [
            "\u001b[1m\u001b[22m\u001b[90m[conflicted]\u001b[39m Will prefer \u001b[1m\u001b[34mdplyr\u001b[39m\u001b[22m::filter over any other package.\n",
            "\u001b[1m\u001b[22m\u001b[90m[conflicted]\u001b[39m Will prefer \u001b[1m\u001b[34mdplyr\u001b[39m\u001b[22m::lag over any other package.\n"
          ]
        }
      ]
    },
    {
      "cell_type": "code",
      "source": [
        "# TEk bir mesaj veya değişken içeriği için tercih edilebilir...\n",
        "print(\"Hello world!\")"
      ],
      "metadata": {
        "colab": {
          "base_uri": "https://localhost:8080/"
        },
        "id": "G6bHcBbC_kiL",
        "outputId": "f425090b-9782-4c7a-e349-940025a23cc9"
      },
      "execution_count": 30,
      "outputs": [
        {
          "output_type": "stream",
          "name": "stdout",
          "text": [
            "[1] \"Hello world!\"\n"
          ]
        }
      ]
    },
    {
      "cell_type": "code",
      "source": [
        "a = 3.141567\n",
        "print(a)"
      ],
      "metadata": {
        "colab": {
          "base_uri": "https://localhost:8080/"
        },
        "id": "BxcwNLdT_s-w",
        "outputId": "418276b1-2f27-4078-94fe-af9205e044b7"
      },
      "execution_count": 32,
      "outputs": [
        {
          "output_type": "stream",
          "name": "stdout",
          "text": [
            "[1] 3.141567\n"
          ]
        }
      ]
    },
    {
      "cell_type": "code",
      "source": [
        "a = 3.141567\n",
        "print(digits=4, a)"
      ],
      "metadata": {
        "colab": {
          "base_uri": "https://localhost:8080/"
        },
        "id": "-cyGb1R2_zRC",
        "outputId": "dce5715e-4efa-40bb-a002-2cf8b159935f"
      },
      "execution_count": 33,
      "outputs": [
        {
          "output_type": "stream",
          "name": "stdout",
          "text": [
            "[1] 3.142\n"
          ]
        }
      ]
    },
    {
      "cell_type": "code",
      "source": [
        "print(digits=4, x = 22/7)"
      ],
      "metadata": {
        "colab": {
          "base_uri": "https://localhost:8080/"
        },
        "id": "YbOkrTt-m_fH",
        "outputId": "d8787be2-795e-4b06-970d-085b9973f2ac"
      },
      "execution_count": 106,
      "outputs": [
        {
          "output_type": "stream",
          "name": "stdout",
          "text": [
            "[1] 3.143\n"
          ]
        }
      ]
    },
    {
      "cell_type": "code",
      "source": [
        "# Tırnaklarda hangi tırnak ile başladı isek onla bitirmeliyiz!\n",
        "print(\"Merhaba')"
      ],
      "metadata": {
        "colab": {
          "base_uri": "https://localhost:8080/",
          "height": 179
        },
        "id": "SV9P5qnOEPxC",
        "outputId": "416d6329-7913-4470-e4d9-fa71ccf62a65"
      },
      "execution_count": 34,
      "outputs": [
        {
          "output_type": "error",
          "ename": "ERROR",
          "evalue": "ignored",
          "traceback": [
            "Error in parse(text = x, srcfile = src): <text>:2:7: unexpected INCOMPLETE_STRING\n1: # Tırnaklarda hangi tırnak ile başladı isek onla bitirmeliyiz!\n2: print(\"Merhaba')\n         ^\nTraceback:\n"
          ]
        }
      ]
    },
    {
      "cell_type": "code",
      "source": [
        "print(\"3.14\")\n",
        "print(3.14)"
      ],
      "metadata": {
        "colab": {
          "base_uri": "https://localhost:8080/"
        },
        "id": "t45_m0RhEcJ1",
        "outputId": "6d44cbab-e0a6-409c-dd61-cf92fa94998e"
      },
      "execution_count": 35,
      "outputs": [
        {
          "output_type": "stream",
          "name": "stdout",
          "text": [
            "[1] \"3.14\"\n",
            "[1] 3.14\n"
          ]
        }
      ]
    },
    {
      "cell_type": "code",
      "source": [
        "# veri tipini öğrenmek için\n",
        "typeof(3.14)"
      ],
      "metadata": {
        "colab": {
          "base_uri": "https://localhost:8080/",
          "height": 34
        },
        "id": "L_2UVqC-EwMj",
        "outputId": "9b703b81-f7e7-4642-8a3f-daaccc75ffe4"
      },
      "execution_count": 36,
      "outputs": [
        {
          "output_type": "display_data",
          "data": {
            "text/html": [
              "'double'"
            ],
            "text/markdown": "'double'",
            "text/latex": "'double'",
            "text/plain": [
              "[1] \"double\""
            ]
          },
          "metadata": {}
        }
      ]
    },
    {
      "cell_type": "code",
      "source": [
        "class(3.14)"
      ],
      "metadata": {
        "colab": {
          "base_uri": "https://localhost:8080/",
          "height": 34
        },
        "id": "-NUdhj3GE3Uj",
        "outputId": "8abcb52b-541e-473f-9b05-96690e3bb57f"
      },
      "execution_count": 37,
      "outputs": [
        {
          "output_type": "display_data",
          "data": {
            "text/html": [
              "'numeric'"
            ],
            "text/markdown": "'numeric'",
            "text/latex": "'numeric'",
            "text/plain": [
              "[1] \"numeric\""
            ]
          },
          "metadata": {}
        }
      ]
    },
    {
      "cell_type": "code",
      "source": [
        "x <- 5\n",
        "print(\"sayı..:\", x)  # tek bir değer yazdırır"
      ],
      "metadata": {
        "colab": {
          "base_uri": "https://localhost:8080/"
        },
        "id": "cqE6WVZHFGwt",
        "outputId": "330fa90d-6c12-4c84-c2f6-3e7bb35ff52b"
      },
      "execution_count": 38,
      "outputs": [
        {
          "output_type": "stream",
          "name": "stdout",
          "text": [
            "[1] \"sayı..:\"\n"
          ]
        }
      ]
    },
    {
      "cell_type": "code",
      "source": [
        "x <- 5\n",
        "print(paste(\"sayı..:\", x))  # çözüm-1"
      ],
      "metadata": {
        "colab": {
          "base_uri": "https://localhost:8080/"
        },
        "id": "hF3nBkVKFUOC",
        "outputId": "bd70f1c2-e5f1-44c1-c811-00e80fd91804"
      },
      "execution_count": 39,
      "outputs": [
        {
          "output_type": "stream",
          "name": "stdout",
          "text": [
            "[1] \"sayı..: 5\"\n"
          ]
        }
      ]
    },
    {
      "cell_type": "code",
      "source": [
        "x <- 5\n",
        "cat(\"sayı..:\", x)  # çözüm-2"
      ],
      "metadata": {
        "colab": {
          "base_uri": "https://localhost:8080/"
        },
        "id": "p8V0-3j6FlUX",
        "outputId": "91b1dcd0-595d-4ae2-e149-096643e9cc96"
      },
      "execution_count": 40,
      "outputs": [
        {
          "output_type": "stream",
          "name": "stdout",
          "text": [
            "sayı..: 5"
          ]
        }
      ]
    },
    {
      "cell_type": "code",
      "source": [
        "x <- 5\n",
        "cat(\"sayı..:\", \"değeri..:\", x)  # çözüm-2"
      ],
      "metadata": {
        "colab": {
          "base_uri": "https://localhost:8080/"
        },
        "id": "EQnEJUjmFzav",
        "outputId": "cc87ad79-9f03-4317-b4b1-893de851560b"
      },
      "execution_count": 42,
      "outputs": [
        {
          "output_type": "stream",
          "name": "stdout",
          "text": [
            "sayı..: değeri..: 5"
          ]
        }
      ]
    },
    {
      "cell_type": "code",
      "source": [
        "x <- 5\n",
        "message(\"sayı..:\", x)  # çözüm-3"
      ],
      "metadata": {
        "colab": {
          "base_uri": "https://localhost:8080/"
        },
        "id": "URgvmtgbFqiS",
        "outputId": "bfc7ebb6-1793-4998-b3e1-469acc1bcd40"
      },
      "execution_count": 41,
      "outputs": [
        {
          "output_type": "stream",
          "name": "stderr",
          "text": [
            "sayı..:5\n",
            "\n"
          ]
        }
      ]
    },
    {
      "cell_type": "code",
      "source": [
        "x = 5\n",
        "y = 6\n",
        "cat(\"X sayısı..:\", x)\n",
        "cat(\"Y sayısı..:\", y)"
      ],
      "metadata": {
        "colab": {
          "base_uri": "https://localhost:8080/"
        },
        "id": "xJ5_nOQRF7OC",
        "outputId": "222e281b-1f65-42ea-e4ae-f73dea192f6c"
      },
      "execution_count": 43,
      "outputs": [
        {
          "output_type": "stream",
          "name": "stdout",
          "text": [
            "X sayısı..: 5Y sayısı..: 6"
          ]
        }
      ]
    },
    {
      "cell_type": "code",
      "source": [
        "# R Stil klavuzu önerisi\n",
        "x = 5\n",
        "y = 6\n",
        "cat(\"X sayısı..:\", x, \"\\n\")\n",
        "cat(\"Y sayısı..:\", y, \"\\n\")"
      ],
      "metadata": {
        "colab": {
          "base_uri": "https://localhost:8080/"
        },
        "id": "928BSd6tGHdN",
        "outputId": "4232f6a9-0625-4599-b0c0-ee95d8a9e78b"
      },
      "execution_count": 44,
      "outputs": [
        {
          "output_type": "stream",
          "name": "stdout",
          "text": [
            "X sayısı..: 5 \n",
            "Y sayısı..: 6 \n"
          ]
        }
      ]
    },
    {
      "cell_type": "code",
      "source": [
        "paste0(\"Merhaba\", x+y)"
      ],
      "metadata": {
        "colab": {
          "base_uri": "https://localhost:8080/",
          "height": 34
        },
        "id": "ozLAalZxGfYK",
        "outputId": "69c1d9e2-cafc-43f5-d830-818639dd230d"
      },
      "execution_count": 45,
      "outputs": [
        {
          "output_type": "display_data",
          "data": {
            "text/html": [
              "'Merhaba11'"
            ],
            "text/markdown": "'Merhaba11'",
            "text/latex": "'Merhaba11'",
            "text/plain": [
              "[1] \"Merhaba11\""
            ]
          },
          "metadata": {}
        }
      ]
    },
    {
      "cell_type": "code",
      "source": [
        "paste(\"Merhaba\", x+y) # value'lar arasına birer boşluk yerleştirir."
      ],
      "metadata": {
        "colab": {
          "base_uri": "https://localhost:8080/",
          "height": 34
        },
        "id": "BK891ap8Gk07",
        "outputId": "0ea7acac-ba1e-49da-c41b-717eb1196ad6"
      },
      "execution_count": 46,
      "outputs": [
        {
          "output_type": "display_data",
          "data": {
            "text/html": [
              "'Merhaba 11'"
            ],
            "text/markdown": "'Merhaba 11'",
            "text/latex": "'Merhaba 11'",
            "text/plain": [
              "[1] \"Merhaba 11\""
            ]
          },
          "metadata": {}
        }
      ]
    },
    {
      "cell_type": "code",
      "source": [
        "ad = c(\"Bulent\", \"Leyla\", \"Soner\", \"Ayşe\")\n",
        "soyad = \"Alternatif\"\n",
        "paste(ad, soyad) #defaut değerler ayrıştırdı"
      ],
      "metadata": {
        "colab": {
          "base_uri": "https://localhost:8080/",
          "height": 34
        },
        "id": "61vIWW3QHCMB",
        "outputId": "17f059ba-c1e3-4c76-9156-59793764536b"
      },
      "execution_count": 47,
      "outputs": [
        {
          "output_type": "display_data",
          "data": {
            "text/html": [
              "<style>\n",
              ".list-inline {list-style: none; margin:0; padding: 0}\n",
              ".list-inline>li {display: inline-block}\n",
              ".list-inline>li:not(:last-child)::after {content: \"\\00b7\"; padding: 0 .5ex}\n",
              "</style>\n",
              "<ol class=list-inline><li>'Bulent Alternatif'</li><li>'Leyla Alternatif'</li><li>'Soner Alternatif'</li><li>'Ayşe Alternatif'</li></ol>\n"
            ],
            "text/markdown": "1. 'Bulent Alternatif'\n2. 'Leyla Alternatif'\n3. 'Soner Alternatif'\n4. 'Ayşe Alternatif'\n\n\n",
            "text/latex": "\\begin{enumerate*}\n\\item 'Bulent Alternatif'\n\\item 'Leyla Alternatif'\n\\item 'Soner Alternatif'\n\\item 'Ayşe Alternatif'\n\\end{enumerate*}\n",
            "text/plain": [
              "[1] \"Bulent Alternatif\" \"Leyla Alternatif\"  \"Soner Alternatif\" \n",
              "[4] \"Ayşe Alternatif\"  "
            ]
          },
          "metadata": {}
        }
      ]
    },
    {
      "cell_type": "code",
      "source": [
        "vek1 <- c(\"A\", \"B\", \"C\")\n",
        "vek2 <- c(\"1\", \"2\", \"3\")\n",
        "\n",
        "print(paste(vek1, vek2, collapse = \"*\", sep=\"-\"))"
      ],
      "metadata": {
        "colab": {
          "base_uri": "https://localhost:8080/"
        },
        "id": "1rc_5dosne8q",
        "outputId": "abbeb9a3-a6e5-4bee-be66-148ae7b4a677"
      },
      "execution_count": 107,
      "outputs": [
        {
          "output_type": "stream",
          "name": "stdout",
          "text": [
            "[1] \"A-1*B-2*C-3\"\n"
          ]
        }
      ]
    },
    {
      "cell_type": "code",
      "source": [
        "ad = c(\"Bulent\", \"Leyla\", \"Soner\", \"Ayşe\")\n",
        "soyad = \"Alternatif\"\n",
        "print(paste(ad, soyad, sep=\"-\")) #sep=\"-\""
      ],
      "metadata": {
        "colab": {
          "base_uri": "https://localhost:8080/"
        },
        "id": "SV4cohbRHVjS",
        "outputId": "687984f3-458e-4b79-c4aa-4bdc1f5fd8a9"
      },
      "execution_count": 49,
      "outputs": [
        {
          "output_type": "stream",
          "name": "stdout",
          "text": [
            "[1] \"Bulent-Alternatif\" \"Leyla-Alternatif\"  \"Soner-Alternatif\" \n",
            "[4] \"Ayşe-Alternatif\"  \n"
          ]
        }
      ]
    },
    {
      "cell_type": "code",
      "source": [
        "ad = c(\"Bulent\", \"Leyla\", \"Soner\", \"Ayşe\")\n",
        "soyad = \"Alternatif\"\n",
        "print(paste(ad, soyad, collapse=\"-\")) #collapse=\"-\""
      ],
      "metadata": {
        "colab": {
          "base_uri": "https://localhost:8080/"
        },
        "id": "eGWCkJz4Hg7F",
        "outputId": "5123b70d-b33a-4151-86c7-d357c91ebd6f"
      },
      "execution_count": 50,
      "outputs": [
        {
          "output_type": "stream",
          "name": "stdout",
          "text": [
            "[1] \"Bulent Alternatif-Leyla Alternatif-Soner Alternatif-Ayşe Alternatif\"\n"
          ]
        }
      ]
    },
    {
      "cell_type": "code",
      "source": [
        "vek1 <- c(\"A\", \"B\", \"C\")\n",
        "vek2 <- c(\"1\", \"2\", \"3\")\n",
        "\n",
        "print(paste(vek1, vek2, sep=\"-\"))\n",
        "print(paste(vek1, vek2, collapse = \" - \"))\n",
        "print(paste(vek1, vek2, collapse = \"-\", sep=\"*\"))"
      ],
      "metadata": {
        "colab": {
          "base_uri": "https://localhost:8080/"
        },
        "id": "y3uaMFcyIanr",
        "outputId": "c99035f0-4ff9-4b23-a6bf-8eb76d4c97fe"
      },
      "execution_count": 51,
      "outputs": [
        {
          "output_type": "stream",
          "name": "stdout",
          "text": [
            "[1] \"A-1\" \"B-2\" \"C-3\"\n",
            "[1] \"A 1 - B 2 - C 3\"\n",
            "[1] \"A*1-B*2-C*3\"\n"
          ]
        }
      ]
    },
    {
      "cell_type": "code",
      "source": [
        "print('Ali\\tgel\\'dedi ben olmaz\\'\\ndedim.') #escape karakterleri print'e işlemez!!"
      ],
      "metadata": {
        "colab": {
          "base_uri": "https://localhost:8080/"
        },
        "id": "DUHJimpBRMWI",
        "outputId": "9ade8cc1-960f-4974-feff-93b7d5c85ebb"
      },
      "execution_count": 68,
      "outputs": [
        {
          "output_type": "stream",
          "name": "stdout",
          "text": [
            "[1] \"Ali\\tgel'dedi ben olmaz'\\ndedim.\"\n"
          ]
        }
      ]
    },
    {
      "cell_type": "code",
      "source": [
        "cat('Ali\\tgel\\'dedi ben olmaz\\'\\ndedim.')"
      ],
      "metadata": {
        "colab": {
          "base_uri": "https://localhost:8080/"
        },
        "id": "IkZb9bFyJE1Y",
        "outputId": "7921d081-cbdb-4540-fd0e-a6fb9db7c77c"
      },
      "execution_count": 52,
      "outputs": [
        {
          "output_type": "stream",
          "name": "stdout",
          "text": [
            "Ali\tgel'dedi ben olmaz'\n",
            "dedim."
          ]
        }
      ]
    },
    {
      "cell_type": "code",
      "source": [
        "writeLines('Ali\\tgel\\'dedi ben olmaz\\'\\ndedim.')"
      ],
      "metadata": {
        "colab": {
          "base_uri": "https://localhost:8080/"
        },
        "id": "bH-y0z7GRVUG",
        "outputId": "63259439-b126-4db9-a24f-5578c0010f81"
      },
      "execution_count": 69,
      "outputs": [
        {
          "output_type": "stream",
          "name": "stdout",
          "text": [
            "Ali\tgel'dedi ben olmaz'\n",
            "dedim.\n"
          ]
        }
      ]
    },
    {
      "cell_type": "code",
      "source": [
        "x <- \"a\\\\b\"\n",
        "cat(x)\n",
        "\n",
        "x <- \"a\\nb\"\n",
        "cat(x)\n",
        "\n",
        "x <- \"\\a\"  # beep sesi\n",
        "cat(x)\n",
        "\n",
        "x <- \"a\\b\" # backspace işlevi\n",
        "cat(x)"
      ],
      "metadata": {
        "colab": {
          "base_uri": "https://localhost:8080/"
        },
        "id": "9CIi0gAZJsiN",
        "outputId": "770555ba-641a-405d-df81-286f091935c8"
      },
      "execution_count": 108,
      "outputs": [
        {
          "output_type": "stream",
          "name": "stdout",
          "text": [
            "a\\ba\n",
            "b\u0007a\b"
          ]
        }
      ]
    },
    {
      "cell_type": "code",
      "source": [
        "x <- \"a\\\\b\"\n",
        "cat(x)\n",
        "x <- \"a\\b\"\n",
        "cat(x)\n",
        "x <- \"a\\'b\"\n",
        "cat(x)"
      ],
      "metadata": {
        "colab": {
          "base_uri": "https://localhost:8080/"
        },
        "id": "ZNUjsdbfoJYN",
        "outputId": "86a08067-6953-4893-bf9e-e6d70c67f606"
      },
      "execution_count": 110,
      "outputs": [
        {
          "output_type": "stream",
          "name": "stdout",
          "text": [
            "a\\ba\ba'b"
          ]
        }
      ]
    },
    {
      "cell_type": "code",
      "source": [
        "# ASCII kod tablosundaki karakterleri basmak için\n",
        "text = \"\\x48\\x69\"\n",
        "cat(text)"
      ],
      "metadata": {
        "colab": {
          "base_uri": "https://localhost:8080/"
        },
        "id": "8nD_FSFFKiTU",
        "outputId": "475be317-ffad-4882-f746-d577726b7fab"
      },
      "execution_count": 60,
      "outputs": [
        {
          "output_type": "stream",
          "name": "stdout",
          "text": [
            "Hi"
          ]
        }
      ]
    },
    {
      "cell_type": "code",
      "source": [
        "# ASCII/unicode kod tablosundaki karakterleri basmak için\n",
        "text = \"\\u0048\\u0069\"\n",
        "cat(text)"
      ],
      "metadata": {
        "colab": {
          "base_uri": "https://localhost:8080/"
        },
        "id": "hQMrwUnzKueP",
        "outputId": "aa552c0c-ef93-4384-fc2a-95d878512835"
      },
      "execution_count": 61,
      "outputs": [
        {
          "output_type": "stream",
          "name": "stdout",
          "text": [
            "Hi"
          ]
        }
      ]
    },
    {
      "cell_type": "code",
      "source": [
        "# ASCII tablosundaki decimal değerden char'a dönüşüm\n",
        "intToUtf8(69)"
      ],
      "metadata": {
        "colab": {
          "base_uri": "https://localhost:8080/",
          "height": 34
        },
        "id": "HniZ_SizLFow",
        "outputId": "49437ee2-61da-446b-c3be-8fd50f704234"
      },
      "execution_count": 62,
      "outputs": [
        {
          "output_type": "display_data",
          "data": {
            "text/html": [
              "'E'"
            ],
            "text/markdown": "'E'",
            "text/latex": "'E'",
            "text/plain": [
              "[1] \"E\""
            ]
          },
          "metadata": {}
        }
      ]
    },
    {
      "cell_type": "code",
      "source": [
        "# Tersi işlem\n",
        "utf8ToInt('E')"
      ],
      "metadata": {
        "colab": {
          "base_uri": "https://localhost:8080/",
          "height": 34
        },
        "id": "E1Ms4S0rLQMx",
        "outputId": "ce2071b8-97de-42d6-d7f1-fc826e219fcb"
      },
      "execution_count": 63,
      "outputs": [
        {
          "output_type": "display_data",
          "data": {
            "text/html": [
              "69"
            ],
            "text/markdown": "69",
            "text/latex": "69",
            "text/plain": [
              "[1] 69"
            ]
          },
          "metadata": {}
        }
      ]
    },
    {
      "cell_type": "code",
      "source": [
        "# colab için birden fazla yorum satırı yapma : Ctrl+/\n",
        "# text = \"\\x48\\x69\"\n",
        "# cat(text)\n",
        "# RSutdio için Ctrl + Shift + C"
      ],
      "metadata": {
        "id": "eOevYCC3Lodf"
      },
      "execution_count": null,
      "outputs": []
    },
    {
      "cell_type": "code",
      "source": [
        "# dışardan veri girişi: readline\n",
        "ad <- readline(\"Ad.: \")\n",
        "cat(\"Adınız.:\", ad, \"\\n\")"
      ],
      "metadata": {
        "colab": {
          "base_uri": "https://localhost:8080/"
        },
        "id": "j-zKrmI9Mkr0",
        "outputId": "4fe5ad26-d82d-4cfc-b177-2dd7e13bdb88"
      },
      "execution_count": 66,
      "outputs": [
        {
          "output_type": "stream",
          "name": "stdout",
          "text": [
            "Ad.: bülent\n",
            "Adınız.: bülent \n"
          ]
        }
      ]
    },
    {
      "cell_type": "code",
      "source": [
        "# dışardan veri girişi: readline\n",
        "a <- readline(\"sayı-1.: \")\n",
        "b <- readline(\"sayı-2.: \")\n",
        "toplam = a+b\n",
        "cat(\"Toplam.:\", toplam, \"\\n\")"
      ],
      "metadata": {
        "colab": {
          "base_uri": "https://localhost:8080/",
          "height": 143
        },
        "id": "8Z5xLFDZMKZH",
        "outputId": "09ea77c9-8a1e-4acf-825a-fc090dfb8df5"
      },
      "execution_count": 64,
      "outputs": [
        {
          "name": "stdout",
          "output_type": "stream",
          "text": [
            "sayı-1.: 5\n",
            "sayı-2.: 4\n"
          ]
        },
        {
          "output_type": "error",
          "ename": "ERROR",
          "evalue": "ignored",
          "traceback": [
            "Error in a + b: non-numeric argument to binary operator\nTraceback:\n"
          ]
        }
      ]
    },
    {
      "cell_type": "code",
      "source": [
        "# dışardan veri girişi: readline\n",
        "a <- as.numeric(readline(\"sayı-1.: \"))\n",
        "b <- as.numeric(readline(\"sayı-2.: \"))\n",
        "toplam = a+b\n",
        "cat(\"Toplam.:\", toplam, \"\\n\")"
      ],
      "metadata": {
        "colab": {
          "base_uri": "https://localhost:8080/"
        },
        "id": "Xm6ROnhjNC5X",
        "outputId": "d5f40887-a28f-4a2e-e05d-a115b543d32a"
      },
      "execution_count": 67,
      "outputs": [
        {
          "output_type": "stream",
          "name": "stdout",
          "text": [
            "sayı-1.: 5\n",
            "sayı-2.: 4\n",
            "Toplam.: 9 \n"
          ]
        }
      ]
    },
    {
      "cell_type": "code",
      "source": [
        "first_number = 400\n",
        "second_number = 200\n",
        "second_number -> first_number\n",
        "cat(first_number, second_number)"
      ],
      "metadata": {
        "colab": {
          "base_uri": "https://localhost:8080/"
        },
        "id": "Bk6hI343SGn5",
        "outputId": "4aebff66-6ff8-42f5-f7e0-ebcb8eaf7f20"
      },
      "execution_count": 102,
      "outputs": [
        {
          "output_type": "stream",
          "name": "stdout",
          "text": [
            "200 200"
          ]
        }
      ]
    },
    {
      "cell_type": "code",
      "source": [
        "first_number = 400\n",
        "second_number = 200\n",
        "second_number <- first_number\n",
        "print(first_number)\n",
        "print(second_number)"
      ],
      "metadata": {
        "colab": {
          "base_uri": "https://localhost:8080/"
        },
        "id": "H5r-ltPCSc6G",
        "outputId": "26a8cc0e-c5b0-427b-d874-04dcab17695a"
      },
      "execution_count": 71,
      "outputs": [
        {
          "output_type": "stream",
          "name": "stdout",
          "text": [
            "[1] 400\n",
            "[1] 400\n"
          ]
        }
      ]
    },
    {
      "cell_type": "code",
      "source": [
        "# R da tek satırda çoklu atama yoktur\n",
        "a, b, c = 5, 3.15, \"ali\"\n",
        "cat(a,b,c)"
      ],
      "metadata": {
        "colab": {
          "base_uri": "https://localhost:8080/",
          "height": 161
        },
        "id": "BTTIaFhsSvjt",
        "outputId": "74e273f3-bc3b-436d-b6f9-a936c5feea19"
      },
      "execution_count": 72,
      "outputs": [
        {
          "output_type": "error",
          "ename": "ERROR",
          "evalue": "ignored",
          "traceback": [
            "Error in parse(text = x, srcfile = src): <text>:2:2: unexpected ','\n1: # R da tek satırda çoklu atama yoktur\n2: a,\n    ^\nTraceback:\n"
          ]
        }
      ]
    },
    {
      "cell_type": "code",
      "source": [
        "# ille de çoklu atama isteniyorsa listeler kullanılabilir..."
      ],
      "metadata": {
        "id": "FEexf3RHS7by"
      },
      "execution_count": null,
      "outputs": []
    },
    {
      "cell_type": "code",
      "source": [
        "# R da değişken ismi olarak kullanılamayacak reserved kelimeler için\n",
        "?reserved"
      ],
      "metadata": {
        "id": "fcsrh2nWTGiL"
      },
      "execution_count": 73,
      "outputs": []
    },
    {
      "cell_type": "markdown",
      "source": [
        "‘if’ ‘else’ ‘repeat’ ‘while’ ‘function’ ‘for’ ‘in’ ‘next’ ‘break’\n",
        "\n",
        "‘TRUE’ ‘FALSE’ ‘NULL’ ‘Inf’ ‘NaN’ ‘NA’ ‘NA_integer_’ ‘NA_real_’\n",
        "‘NA_complex_’ ‘NA_character_’\n"
      ],
      "metadata": {
        "id": "qwP-j63vTSUb"
      }
    },
    {
      "cell_type": "code",
      "source": [
        ".adsoyad = \"ali\"\n",
        "ad_soyad = \"ali\"\n",
        "_adsoyad = \"veli\"  #geçersiz"
      ],
      "metadata": {
        "colab": {
          "base_uri": "https://localhost:8080/",
          "height": 161
        },
        "id": "ysyxfVAiTVsU",
        "outputId": "280d91aa-f820-489a-e7ee-3249ee578df9"
      },
      "execution_count": 75,
      "outputs": [
        {
          "output_type": "error",
          "ename": "ERROR",
          "evalue": "ignored",
          "traceback": [
            "Error in parse(text = x, srcfile = src): <text>:3:2: unexpected symbol\n2: ad_soyad = \"ali\"\n3: _adsoyad\n    ^\nTraceback:\n"
          ]
        }
      ]
    },
    {
      "cell_type": "code",
      "source": [
        ".adsoyad"
      ],
      "metadata": {
        "id": "p2lG0ESbT0KE"
      },
      "execution_count": null,
      "outputs": []
    },
    {
      "cell_type": "markdown",
      "source": [
        "# R Stil klavuzu:\n",
        "https://style.tidyverse.org/\n",
        "\n",
        "https://jef.works/R-style-guide/\n"
      ],
      "metadata": {
        "id": "ZVgOnPeIUQJd"
      }
    },
    {
      "cell_type": "code",
      "source": [
        "install.packages(\"styler\")"
      ],
      "metadata": {
        "colab": {
          "base_uri": "https://localhost:8080/"
        },
        "id": "LH6cOdPKUXuB",
        "outputId": "6ac0d2c2-a55c-457d-8776-9b0c80ecca87"
      },
      "execution_count": 76,
      "outputs": [
        {
          "output_type": "stream",
          "name": "stderr",
          "text": [
            "Installing package into ‘/usr/local/lib/R/site-library’\n",
            "(as ‘lib’ is unspecified)\n",
            "\n",
            "also installing the dependencies ‘R.methodsS3’, ‘R.oo’, ‘R.utils’, ‘R.cache’\n",
            "\n",
            "\n"
          ]
        }
      ]
    },
    {
      "cell_type": "code",
      "source": [
        "# Bad\n",
        "if (a < d)\n",
        "{\n",
        "    a <- (b + c) * d\n",
        "} else a <- d"
      ],
      "metadata": {
        "id": "myQKPvzDWAuk"
      },
      "execution_count": null,
      "outputs": []
    },
    {
      "cell_type": "code",
      "source": [
        "# RStudio için Addins -> STYLER... otomatik düzeltme\n",
        "# Good\n",
        "if (a < d) {\n",
        "    a <- (b + c) * d\n",
        "} else {\n",
        "    a <- d\n",
        "}"
      ],
      "metadata": {
        "id": "Vq2S4iuCWGrQ"
      },
      "execution_count": null,
      "outputs": []
    },
    {
      "cell_type": "code",
      "source": [
        "x <- 5\n",
        "y <- 10\n",
        "#swap için 3. değişken kullanılır\n",
        "z <- x # x boşaldı\n",
        "x <- y # y boşaldı\n",
        "y <- z\n",
        "cat(\"x.: \", x, \"\\n\", \"y.: \", y, \"\\n\")"
      ],
      "metadata": {
        "colab": {
          "base_uri": "https://localhost:8080/"
        },
        "id": "ftuKQ6AdWsb_",
        "outputId": "80281dfb-03a7-4875-a5fa-dc776bc46721"
      },
      "execution_count": 77,
      "outputs": [
        {
          "output_type": "stream",
          "name": "stdout",
          "text": [
            "x.:  10 \n",
            " y.:  5 \n"
          ]
        }
      ]
    },
    {
      "cell_type": "code",
      "source": [
        "x <- \"42\"\n",
        "y <- as.numeric(x)\n",
        "q <- as.double(y)\n",
        "z <- as.character(q)\n",
        "r <- as.complex(y)\n",
        "\n",
        "print(paste(y, typeof(y), sep=\":\"))\n",
        "print(paste(q, typeof(q), sep=\":\"))\n",
        "print(paste(z, typeof(z), sep=\":\"))\n",
        "print(paste(r, typeof(r), sep=\":\"))"
      ],
      "metadata": {
        "colab": {
          "base_uri": "https://localhost:8080/"
        },
        "id": "YaoaPqytXwu5",
        "outputId": "a52af908-47be-4bc4-82ac-1da6e8e43951"
      },
      "execution_count": 78,
      "outputs": [
        {
          "output_type": "stream",
          "name": "stdout",
          "text": [
            "[1] \"42:double\"\n",
            "[1] \"42:double\"\n",
            "[1] \"42:character\"\n",
            "[1] \"42+0i:complex\"\n"
          ]
        }
      ]
    },
    {
      "cell_type": "code",
      "source": [
        "print(paste(y, class(y), sep=\":\"))  # class : numeric tip"
      ],
      "metadata": {
        "colab": {
          "base_uri": "https://localhost:8080/"
        },
        "id": "Je31BEG7X4rl",
        "outputId": "f541a320-edc7-4468-e908-26ae425982b3"
      },
      "execution_count": 79,
      "outputs": [
        {
          "output_type": "stream",
          "name": "stdout",
          "text": [
            "[1] \"42:numeric\"\n"
          ]
        }
      ]
    },
    {
      "cell_type": "code",
      "source": [
        "dt = \"2023-11-02\"\n",
        "dt1 = as.Date(dt)\n",
        "print(paste(dt1, typeof(dt1)))\n",
        "# typeof : basit veri tipleri; class : daha üst ve diğer veri tipleri için\n",
        "print(paste(dt1, class(dt1)))"
      ],
      "metadata": {
        "colab": {
          "base_uri": "https://localhost:8080/"
        },
        "id": "CzzPhvHRYLH2",
        "outputId": "833f23e5-d0be-4a78-cfd0-10aaa4cd90d0"
      },
      "execution_count": 81,
      "outputs": [
        {
          "output_type": "stream",
          "name": "stdout",
          "text": [
            "[1] \"2023-11-02 double\"\n",
            "[1] \"2023-11-02 Date\"\n"
          ]
        }
      ]
    },
    {
      "cell_type": "code",
      "source": [
        "# Bugünkü tarih\n",
        "Sys.Date()"
      ],
      "metadata": {
        "colab": {
          "base_uri": "https://localhost:8080/",
          "height": 34
        },
        "id": "vxnw0Za9YdoZ",
        "outputId": "18103018-4d34-4484-cdce-64334396fe5a"
      },
      "execution_count": 83,
      "outputs": [
        {
          "output_type": "display_data",
          "data": {
            "text/html": [
              "<time datetime=\"2023-11-02\">2023-11-02</time>"
            ],
            "text/markdown": "2023-11-02",
            "text/latex": "2023-11-02",
            "text/plain": [
              "[1] \"2023-11-02\""
            ]
          },
          "metadata": {}
        }
      ]
    },
    {
      "cell_type": "code",
      "source": [
        "class(Sys.Date())"
      ],
      "metadata": {
        "colab": {
          "base_uri": "https://localhost:8080/",
          "height": 34
        },
        "id": "pcpHYcjoYlg1",
        "outputId": "f2638563-aecf-4c8d-f79a-cef092cf8b4b"
      },
      "execution_count": 85,
      "outputs": [
        {
          "output_type": "display_data",
          "data": {
            "text/html": [
              "'Date'"
            ],
            "text/markdown": "'Date'",
            "text/latex": "'Date'",
            "text/plain": [
              "[1] \"Date\""
            ]
          },
          "metadata": {}
        }
      ]
    },
    {
      "cell_type": "code",
      "source": [
        "typeof(Sys.Date())"
      ],
      "metadata": {
        "colab": {
          "base_uri": "https://localhost:8080/",
          "height": 34
        },
        "id": "7qcMiyG6Yqgx",
        "outputId": "2d0640a6-407c-4ec4-cb9b-801ff0bac4a1"
      },
      "execution_count": 86,
      "outputs": [
        {
          "output_type": "display_data",
          "data": {
            "text/html": [
              "'double'"
            ],
            "text/markdown": "'double'",
            "text/latex": "'double'",
            "text/plain": [
              "[1] \"double\""
            ]
          },
          "metadata": {}
        }
      ]
    },
    {
      "cell_type": "code",
      "source": [
        "print (as.logical(3)) # ?\n",
        "print (as.logical(-2)) # ?\n",
        "print (as.logical(0)) # ?\n",
        "print (as.logical(NaN)) # ? NA : kayıp veri\n",
        "print (as.logical(0.0)) # ?\n",
        "print (as.logical(5) + as.logical(-5)) # TRUE:1 / FALSE:0 aritmetiksel işlemlerde"
      ],
      "metadata": {
        "colab": {
          "base_uri": "https://localhost:8080/"
        },
        "id": "E8U8vMvcZOKd",
        "outputId": "aade6ef6-c435-46b5-eef2-019027f0bd99"
      },
      "execution_count": 87,
      "outputs": [
        {
          "output_type": "stream",
          "name": "stdout",
          "text": [
            "[1] TRUE\n",
            "[1] TRUE\n",
            "[1] FALSE\n",
            "[1] NA\n",
            "[1] FALSE\n",
            "[1] 2\n"
          ]
        }
      ]
    },
    {
      "cell_type": "code",
      "source": [
        "# Logical ifadeler aritmetiksel işlemlerde 1/0 gibi davranır...\n",
        "as.logical(5) + as.logical(0)  # 1+0"
      ],
      "metadata": {
        "colab": {
          "base_uri": "https://localhost:8080/",
          "height": 34
        },
        "id": "WYcnUr8qZeXe",
        "outputId": "39c1a446-ea5a-435a-b060-a84ac6963024"
      },
      "execution_count": 88,
      "outputs": [
        {
          "output_type": "display_data",
          "data": {
            "text/html": [
              "1"
            ],
            "text/markdown": "1",
            "text/latex": "1",
            "text/plain": [
              "[1] 1"
            ]
          },
          "metadata": {}
        }
      ]
    },
    {
      "cell_type": "code",
      "source": [
        "typeof(as.logical(5) + as.logical(0))"
      ],
      "metadata": {
        "colab": {
          "base_uri": "https://localhost:8080/",
          "height": 34
        },
        "id": "ioD29lSrpfh9",
        "outputId": "d02ec449-4152-4bb0-faf8-2a141098831e"
      },
      "execution_count": 111,
      "outputs": [
        {
          "output_type": "display_data",
          "data": {
            "text/html": [
              "'integer'"
            ],
            "text/markdown": "'integer'",
            "text/latex": "'integer'",
            "text/plain": [
              "[1] \"integer\""
            ]
          },
          "metadata": {}
        }
      ]
    },
    {
      "cell_type": "code",
      "source": [
        "TRUE + TRUE"
      ],
      "metadata": {
        "colab": {
          "base_uri": "https://localhost:8080/",
          "height": 34
        },
        "id": "W67d5NupZnj6",
        "outputId": "44250399-b969-4f30-ca70-af0a96d7877b"
      },
      "execution_count": 89,
      "outputs": [
        {
          "output_type": "display_data",
          "data": {
            "text/html": [
              "2"
            ],
            "text/markdown": "2",
            "text/latex": "2",
            "text/plain": [
              "[1] 2"
            ]
          },
          "metadata": {}
        }
      ]
    },
    {
      "cell_type": "code",
      "source": [
        "FALSE + FALSE"
      ],
      "metadata": {
        "colab": {
          "base_uri": "https://localhost:8080/",
          "height": 34
        },
        "id": "pYjHkGSVZyfo",
        "outputId": "8ceee19e-e50e-4513-d00b-7a3b23f762e6"
      },
      "execution_count": 90,
      "outputs": [
        {
          "output_type": "display_data",
          "data": {
            "text/html": [
              "0"
            ],
            "text/markdown": "0",
            "text/latex": "0",
            "text/plain": [
              "[1] 0"
            ]
          },
          "metadata": {}
        }
      ]
    },
    {
      "cell_type": "code",
      "source": [
        "FALSE + TRUE"
      ],
      "metadata": {
        "colab": {
          "base_uri": "https://localhost:8080/",
          "height": 34
        },
        "id": "oC3TAQjIZ1WI",
        "outputId": "74720ece-58a2-444d-c5b3-64887b1de126"
      },
      "execution_count": 91,
      "outputs": [
        {
          "output_type": "display_data",
          "data": {
            "text/html": [
              "1"
            ],
            "text/markdown": "1",
            "text/latex": "1",
            "text/plain": [
              "[1] 1"
            ]
          },
          "metadata": {}
        }
      ]
    },
    {
      "cell_type": "code",
      "source": [
        "# negatif sayıların karekökü:\n",
        "sqrt(4)"
      ],
      "metadata": {
        "colab": {
          "base_uri": "https://localhost:8080/",
          "height": 34
        },
        "id": "WYi8bQUSZ5IL",
        "outputId": "3229e085-7ed2-4de9-d937-e82886b5761d"
      },
      "execution_count": 92,
      "outputs": [
        {
          "output_type": "display_data",
          "data": {
            "text/html": [
              "2"
            ],
            "text/markdown": "2",
            "text/latex": "2",
            "text/plain": [
              "[1] 2"
            ]
          },
          "metadata": {}
        }
      ]
    },
    {
      "cell_type": "code",
      "source": [
        "sqrt(-4)"
      ],
      "metadata": {
        "colab": {
          "base_uri": "https://localhost:8080/",
          "height": 70
        },
        "id": "N9jkO0EhZ_Lw",
        "outputId": "bcd3a1aa-276a-401c-d08d-2d37e36ae76a"
      },
      "execution_count": 93,
      "outputs": [
        {
          "output_type": "stream",
          "name": "stderr",
          "text": [
            "Warning message in sqrt(-4):\n",
            "“NaNs produced”\n"
          ]
        },
        {
          "output_type": "display_data",
          "data": {
            "text/html": [
              "NaN"
            ],
            "text/markdown": "NaN",
            "text/latex": "NaN",
            "text/plain": [
              "[1] NaN"
            ]
          },
          "metadata": {}
        }
      ]
    },
    {
      "cell_type": "code",
      "source": [
        "# complex forma dönüştürülür;\n",
        "sqrt(-4+0i)"
      ],
      "metadata": {
        "colab": {
          "base_uri": "https://localhost:8080/",
          "height": 34
        },
        "id": "ndYdM1draQMr",
        "outputId": "f2cc0e7f-fe59-41a7-9f57-0fdfd4645ddd"
      },
      "execution_count": 94,
      "outputs": [
        {
          "output_type": "display_data",
          "data": {
            "text/html": [
              "0+2i"
            ],
            "text/markdown": "0+2i",
            "text/latex": "0+2i",
            "text/plain": [
              "[1] 0+2i"
            ]
          },
          "metadata": {}
        }
      ]
    },
    {
      "cell_type": "code",
      "source": [
        "sqrt(as.complex(-4))"
      ],
      "metadata": {
        "colab": {
          "base_uri": "https://localhost:8080/",
          "height": 34
        },
        "id": "tNeHWYgNaWuU",
        "outputId": "c2da3c45-72f0-4b5b-cf47-9197dbd4903f"
      },
      "execution_count": 96,
      "outputs": [
        {
          "output_type": "display_data",
          "data": {
            "text/html": [
              "0+2i"
            ],
            "text/markdown": "0+2i",
            "text/latex": "0+2i",
            "text/plain": [
              "[1] 0+2i"
            ]
          },
          "metadata": {}
        }
      ]
    },
    {
      "cell_type": "code",
      "source": [
        "Im(sqrt(as.complex(-4)))  # negatif sayı karekökünü alma"
      ],
      "metadata": {
        "colab": {
          "base_uri": "https://localhost:8080/",
          "height": 34
        },
        "id": "vcR2db1KafN1",
        "outputId": "01517b0d-ec59-4ebd-d9f9-6f54af1d2447"
      },
      "execution_count": 97,
      "outputs": [
        {
          "output_type": "display_data",
          "data": {
            "text/html": [
              "2"
            ],
            "text/markdown": "2",
            "text/latex": "2",
            "text/plain": [
              "[1] 2"
            ]
          },
          "metadata": {}
        }
      ]
    },
    {
      "cell_type": "code",
      "source": [
        "Re(-4+3i)"
      ],
      "metadata": {
        "colab": {
          "base_uri": "https://localhost:8080/",
          "height": 34
        },
        "id": "C6ClQuInamY_",
        "outputId": "1df4fb99-2a6b-4cf4-fd85-4755a0837bb1"
      },
      "execution_count": 98,
      "outputs": [
        {
          "output_type": "display_data",
          "data": {
            "text/html": [
              "-4"
            ],
            "text/markdown": "-4",
            "text/latex": "-4",
            "text/plain": [
              "[1] -4"
            ]
          },
          "metadata": {}
        }
      ]
    },
    {
      "cell_type": "code",
      "source": [
        "Im(-4+3i)"
      ],
      "metadata": {
        "colab": {
          "base_uri": "https://localhost:8080/",
          "height": 34
        },
        "id": "mMr8uBwlaqaD",
        "outputId": "cc891ae0-2d65-4652-cca0-27814118673b"
      },
      "execution_count": 99,
      "outputs": [
        {
          "output_type": "display_data",
          "data": {
            "text/html": [
              "3"
            ],
            "text/markdown": "3",
            "text/latex": "3",
            "text/plain": [
              "[1] 3"
            ]
          },
          "metadata": {}
        }
      ]
    },
    {
      "cell_type": "markdown",
      "source": [
        "#Operatörler"
      ],
      "metadata": {
        "id": "olWE9MM_triM"
      }
    },
    {
      "cell_type": "code",
      "source": [
        "2^3 # üs alma"
      ],
      "metadata": {
        "colab": {
          "base_uri": "https://localhost:8080/",
          "height": 34
        },
        "id": "8w0-B7AxtuPe",
        "outputId": "1f2c0cc4-3804-4806-ab46-91859b4ca6da"
      },
      "execution_count": 112,
      "outputs": [
        {
          "output_type": "display_data",
          "data": {
            "text/html": [
              "8"
            ],
            "text/markdown": "8",
            "text/latex": "8",
            "text/plain": [
              "[1] 8"
            ]
          },
          "metadata": {}
        }
      ]
    },
    {
      "cell_type": "code",
      "source": [
        "2**3 # üs alma"
      ],
      "metadata": {
        "colab": {
          "base_uri": "https://localhost:8080/",
          "height": 34
        },
        "id": "-4V3WqrOtyBP",
        "outputId": "ed5a766d-9690-4fe8-da46-4e616905f44f"
      },
      "execution_count": 113,
      "outputs": [
        {
          "output_type": "display_data",
          "data": {
            "text/html": [
              "8"
            ],
            "text/markdown": "8",
            "text/latex": "8",
            "text/plain": [
              "[1] 8"
            ]
          },
          "metadata": {}
        }
      ]
    },
    {
      "cell_type": "code",
      "source": [
        "# mod alma\n",
        "5%%2"
      ],
      "metadata": {
        "colab": {
          "base_uri": "https://localhost:8080/",
          "height": 34
        },
        "id": "SmBISdFqt1ET",
        "outputId": "0f7f6186-ed95-4699-9293-4e05f7e78e6b"
      },
      "execution_count": 114,
      "outputs": [
        {
          "output_type": "display_data",
          "data": {
            "text/html": [
              "1"
            ],
            "text/markdown": "1",
            "text/latex": "1",
            "text/plain": [
              "[1] 1"
            ]
          },
          "metadata": {}
        }
      ]
    },
    {
      "cell_type": "code",
      "source": [
        "# normal bölme\n",
        "5/2"
      ],
      "metadata": {
        "colab": {
          "base_uri": "https://localhost:8080/",
          "height": 34
        },
        "id": "hxXiT7YKt8Q8",
        "outputId": "2f64da50-6588-4345-dfa3-2270b8c90e2d"
      },
      "execution_count": 115,
      "outputs": [
        {
          "output_type": "display_data",
          "data": {
            "text/html": [
              "2.5"
            ],
            "text/markdown": "2.5",
            "text/latex": "2.5",
            "text/plain": [
              "[1] 2.5"
            ]
          },
          "metadata": {}
        }
      ]
    },
    {
      "cell_type": "code",
      "source": [
        "5%/%2  # tam bölme"
      ],
      "metadata": {
        "colab": {
          "base_uri": "https://localhost:8080/",
          "height": 34
        },
        "id": "Z8NhUmu_uAJD",
        "outputId": "3a3e3431-f0b2-465b-b3b7-9b04a597da48"
      },
      "execution_count": 116,
      "outputs": [
        {
          "output_type": "display_data",
          "data": {
            "text/html": [
              "2"
            ],
            "text/markdown": "2",
            "text/latex": "2",
            "text/plain": [
              "[1] 2"
            ]
          },
          "metadata": {}
        }
      ]
    },
    {
      "cell_type": "code",
      "source": [
        "x = -6\n",
        "y = 6\n",
        "x == (x %% y) + y * (x %/% y)\n",
        "#işleminin sonucu her daim TRUE’ dur."
      ],
      "metadata": {
        "colab": {
          "base_uri": "https://localhost:8080/",
          "height": 34
        },
        "id": "xhZKzFe3uZ_h",
        "outputId": "b773ed9e-5ea7-4e10-c8a5-8e7ad1534e4d"
      },
      "execution_count": 120,
      "outputs": [
        {
          "output_type": "display_data",
          "data": {
            "text/html": [
              "TRUE"
            ],
            "text/markdown": "TRUE",
            "text/latex": "TRUE",
            "text/plain": [
              "[1] TRUE"
            ]
          },
          "metadata": {}
        }
      ]
    },
    {
      "cell_type": "code",
      "source": [
        "s = 5\n",
        "alan = s^2*(sqrt(5)/4)\n",
        "alan"
      ],
      "metadata": {
        "colab": {
          "base_uri": "https://localhost:8080/",
          "height": 34
        },
        "id": "q7qVDeCju2NP",
        "outputId": "c777b676-5f25-4ca4-d550-dcc546f0553f"
      },
      "execution_count": 121,
      "outputs": [
        {
          "output_type": "display_data",
          "data": {
            "text/html": [
              "13.9754248593737"
            ],
            "text/markdown": "13.9754248593737",
            "text/latex": "13.9754248593737",
            "text/plain": [
              "[1] 13.97542"
            ]
          },
          "metadata": {}
        }
      ]
    },
    {
      "cell_type": "code",
      "source": [
        "!(3==3) # not"
      ],
      "metadata": {
        "colab": {
          "base_uri": "https://localhost:8080/",
          "height": 34
        },
        "id": "aWgNP9KWvPg8",
        "outputId": "65206ec2-8040-435f-d232-f429984c9e05"
      },
      "execution_count": 123,
      "outputs": [
        {
          "output_type": "display_data",
          "data": {
            "text/html": [
              "FALSE"
            ],
            "text/markdown": "FALSE",
            "text/latex": "FALSE",
            "text/plain": [
              "[1] FALSE"
            ]
          },
          "metadata": {}
        }
      ]
    },
    {
      "cell_type": "code",
      "source": [
        "(3==3) | (5<5) # or:|"
      ],
      "metadata": {
        "colab": {
          "base_uri": "https://localhost:8080/",
          "height": 34
        },
        "id": "HIDKm2EBvYEs",
        "outputId": "d25e2a2c-43a0-4a76-b52f-8ce3e4e261ea"
      },
      "execution_count": 125,
      "outputs": [
        {
          "output_type": "display_data",
          "data": {
            "text/html": [
              "TRUE"
            ],
            "text/markdown": "TRUE",
            "text/latex": "TRUE",
            "text/plain": [
              "[1] TRUE"
            ]
          },
          "metadata": {}
        }
      ]
    },
    {
      "cell_type": "code",
      "source": [
        "(3==3) & (5<5) # and: &"
      ],
      "metadata": {
        "colab": {
          "base_uri": "https://localhost:8080/",
          "height": 34
        },
        "id": "fVXmB8ocvjE9",
        "outputId": "dd4dd1e6-0d78-4221-f2cc-3e88eff4e0b6"
      },
      "execution_count": 126,
      "outputs": [
        {
          "output_type": "display_data",
          "data": {
            "text/html": [
              "FALSE"
            ],
            "text/markdown": "FALSE",
            "text/latex": "FALSE",
            "text/plain": [
              "[1] FALSE"
            ]
          },
          "metadata": {}
        }
      ]
    },
    {
      "cell_type": "code",
      "source": [
        "#& | ile && || operetörlerinin farkı:\n",
        "c(T, T, FALSE, F) && c(F, F, T, TRUE) # tek bir elemanı değerlendirir"
      ],
      "metadata": {
        "colab": {
          "base_uri": "https://localhost:8080/",
          "height": 125
        },
        "id": "aqTYyj5Yv3Zg",
        "outputId": "8b1349f7-fd4b-48d8-9415-d2659d78166f"
      },
      "execution_count": 127,
      "outputs": [
        {
          "output_type": "error",
          "ename": "ERROR",
          "evalue": "ignored",
          "traceback": [
            "Error in c(T, T, FALSE, F) && c(F, F, T, TRUE): 'length = 4' in coercion to 'logical(1)'\nTraceback:\n"
          ]
        }
      ]
    },
    {
      "cell_type": "code",
      "source": [
        "c(T, T, FALSE, F) & c(F, F, T, TRUE) # birden fazla elemanı değerlendirir"
      ],
      "metadata": {
        "colab": {
          "base_uri": "https://localhost:8080/",
          "height": 34
        },
        "id": "OyNId9mLwQHC",
        "outputId": "eea529da-efbb-4ecd-caee-0293e4772f11"
      },
      "execution_count": 129,
      "outputs": [
        {
          "output_type": "display_data",
          "data": {
            "text/html": [
              "<style>\n",
              ".list-inline {list-style: none; margin:0; padding: 0}\n",
              ".list-inline>li {display: inline-block}\n",
              ".list-inline>li:not(:last-child)::after {content: \"\\00b7\"; padding: 0 .5ex}\n",
              "</style>\n",
              "<ol class=list-inline><li>FALSE</li><li>FALSE</li><li>FALSE</li><li>FALSE</li></ol>\n"
            ],
            "text/markdown": "1. FALSE\n2. FALSE\n3. FALSE\n4. FALSE\n\n\n",
            "text/latex": "\\begin{enumerate*}\n\\item FALSE\n\\item FALSE\n\\item FALSE\n\\item FALSE\n\\end{enumerate*}\n",
            "text/plain": [
              "[1] FALSE FALSE FALSE FALSE"
            ]
          },
          "metadata": {}
        }
      ]
    },
    {
      "cell_type": "code",
      "source": [
        "c(T, T, FALSE, F) | c(F, F, T, TRUE) # birden fazla elemanı değerlendirir"
      ],
      "metadata": {
        "colab": {
          "base_uri": "https://localhost:8080/",
          "height": 34
        },
        "id": "aZoifZYDwXIL",
        "outputId": "1465f639-ba96-41b0-cdfb-094da4592bf6"
      },
      "execution_count": 130,
      "outputs": [
        {
          "output_type": "display_data",
          "data": {
            "text/html": [
              "<style>\n",
              ".list-inline {list-style: none; margin:0; padding: 0}\n",
              ".list-inline>li {display: inline-block}\n",
              ".list-inline>li:not(:last-child)::after {content: \"\\00b7\"; padding: 0 .5ex}\n",
              "</style>\n",
              "<ol class=list-inline><li>TRUE</li><li>TRUE</li><li>TRUE</li><li>TRUE</li></ol>\n"
            ],
            "text/markdown": "1. TRUE\n2. TRUE\n3. TRUE\n4. TRUE\n\n\n",
            "text/latex": "\\begin{enumerate*}\n\\item TRUE\n\\item TRUE\n\\item TRUE\n\\item TRUE\n\\end{enumerate*}\n",
            "text/plain": [
              "[1] TRUE TRUE TRUE TRUE"
            ]
          },
          "metadata": {}
        }
      ]
    },
    {
      "cell_type": "code",
      "source": [
        "c(T, T, FALSE, F)[1] && c(F, F, T, TRUE)[1] # ilk elemanı değerlendirir"
      ],
      "metadata": {
        "colab": {
          "base_uri": "https://localhost:8080/",
          "height": 34
        },
        "id": "DFWqPsK0wa1C",
        "outputId": "1b333383-cd8d-4bd7-dbbd-f02374892160"
      },
      "execution_count": 131,
      "outputs": [
        {
          "output_type": "display_data",
          "data": {
            "text/html": [
              "FALSE"
            ],
            "text/markdown": "FALSE",
            "text/latex": "FALSE",
            "text/plain": [
              "[1] FALSE"
            ]
          },
          "metadata": {}
        }
      ]
    },
    {
      "cell_type": "code",
      "source": [
        "c(T, T, FALSE, F)[1] & c(F, F, T, TRUE)[1:2] # ilk iki elemanı değerlendirir"
      ],
      "metadata": {
        "colab": {
          "base_uri": "https://localhost:8080/",
          "height": 34
        },
        "id": "9YMrzD-Mwl6U",
        "outputId": "cbb205ae-ae67-4df2-bacd-2209bac00698"
      },
      "execution_count": 133,
      "outputs": [
        {
          "output_type": "display_data",
          "data": {
            "text/html": [
              "<style>\n",
              ".list-inline {list-style: none; margin:0; padding: 0}\n",
              ".list-inline>li {display: inline-block}\n",
              ".list-inline>li:not(:last-child)::after {content: \"\\00b7\"; padding: 0 .5ex}\n",
              "</style>\n",
              "<ol class=list-inline><li>FALSE</li><li>FALSE</li></ol>\n"
            ],
            "text/markdown": "1. FALSE\n2. FALSE\n\n\n",
            "text/latex": "\\begin{enumerate*}\n\\item FALSE\n\\item FALSE\n\\end{enumerate*}\n",
            "text/plain": [
              "[1] FALSE FALSE"
            ]
          },
          "metadata": {}
        }
      ]
    },
    {
      "cell_type": "code",
      "source": [
        "3:5  # ':' sıralı elemanlar üretir"
      ],
      "metadata": {
        "colab": {
          "base_uri": "https://localhost:8080/",
          "height": 34
        },
        "id": "8uqXy1NjxGUq",
        "outputId": "d1658c66-bb00-4f65-d928-869fb3e41fa6"
      },
      "execution_count": 136,
      "outputs": [
        {
          "output_type": "display_data",
          "data": {
            "text/html": [
              "<style>\n",
              ".list-inline {list-style: none; margin:0; padding: 0}\n",
              ".list-inline>li {display: inline-block}\n",
              ".list-inline>li:not(:last-child)::after {content: \"\\00b7\"; padding: 0 .5ex}\n",
              "</style>\n",
              "<ol class=list-inline><li>3</li><li>4</li><li>5</li></ol>\n"
            ],
            "text/markdown": "1. 3\n2. 4\n3. 5\n\n\n",
            "text/latex": "\\begin{enumerate*}\n\\item 3\n\\item 4\n\\item 5\n\\end{enumerate*}\n",
            "text/plain": [
              "[1] 3 4 5"
            ]
          },
          "metadata": {}
        }
      ]
    },
    {
      "cell_type": "code",
      "source": [
        "#match operatörü: %in%\n",
        "3:5 %in% c(1,2,3,5,6,7)"
      ],
      "metadata": {
        "colab": {
          "base_uri": "https://localhost:8080/",
          "height": 34
        },
        "id": "hZnqguncw6uV",
        "outputId": "7e4f3e39-a3f7-4e5e-b29d-32e49edf5de5"
      },
      "execution_count": 135,
      "outputs": [
        {
          "output_type": "display_data",
          "data": {
            "text/html": [
              "<style>\n",
              ".list-inline {list-style: none; margin:0; padding: 0}\n",
              ".list-inline>li {display: inline-block}\n",
              ".list-inline>li:not(:last-child)::after {content: \"\\00b7\"; padding: 0 .5ex}\n",
              "</style>\n",
              "<ol class=list-inline><li>TRUE</li><li>FALSE</li><li>TRUE</li></ol>\n"
            ],
            "text/markdown": "1. TRUE\n2. FALSE\n3. TRUE\n\n\n",
            "text/latex": "\\begin{enumerate*}\n\\item TRUE\n\\item FALSE\n\\item TRUE\n\\end{enumerate*}\n",
            "text/plain": [
              "[1]  TRUE FALSE  TRUE"
            ]
          },
          "metadata": {}
        }
      ]
    },
    {
      "cell_type": "code",
      "source": [
        "c('a','b','e') %in% c('b', 'Ba', 'baba', 'eli')"
      ],
      "metadata": {
        "colab": {
          "base_uri": "https://localhost:8080/",
          "height": 34
        },
        "id": "hYCeDP0kxVK2",
        "outputId": "1910b961-7fec-435b-a185-271e24b2ab0e"
      },
      "execution_count": 137,
      "outputs": [
        {
          "output_type": "display_data",
          "data": {
            "text/html": [
              "<style>\n",
              ".list-inline {list-style: none; margin:0; padding: 0}\n",
              ".list-inline>li {display: inline-block}\n",
              ".list-inline>li:not(:last-child)::after {content: \"\\00b7\"; padding: 0 .5ex}\n",
              "</style>\n",
              "<ol class=list-inline><li>FALSE</li><li>TRUE</li><li>FALSE</li></ol>\n"
            ],
            "text/markdown": "1. FALSE\n2. TRUE\n3. FALSE\n\n\n",
            "text/latex": "\\begin{enumerate*}\n\\item FALSE\n\\item TRUE\n\\item FALSE\n\\end{enumerate*}\n",
            "text/plain": [
              "[1] FALSE  TRUE FALSE"
            ]
          },
          "metadata": {}
        }
      ]
    },
    {
      "cell_type": "code",
      "source": [
        "# kendi(herhangi bir) operatörümü oluşturma %any%\n",
        "'%carp%' <- function(x,y) {\n",
        "    return (x*y)\n",
        "}\n",
        "\n",
        "# operatörü kullanalım\n",
        "a = 5\n",
        "b = 6\n",
        "a %carp% b"
      ],
      "metadata": {
        "colab": {
          "base_uri": "https://localhost:8080/",
          "height": 34
        },
        "id": "NbEkun03xz0d",
        "outputId": "d19eb6b5-037c-42ee-dbad-b0212f9fa069"
      },
      "execution_count": 139,
      "outputs": [
        {
          "output_type": "display_data",
          "data": {
            "text/html": [
              "30"
            ],
            "text/markdown": "30",
            "text/latex": "30",
            "text/plain": [
              "[1] 30"
            ]
          },
          "metadata": {}
        }
      ]
    },
    {
      "cell_type": "markdown",
      "source": [
        "#infix operatörler"
      ],
      "metadata": {
        "id": "-OO5uj9AykYL"
      }
    },
    {
      "cell_type": "code",
      "source": [
        "'+'(3, 5)  # 3+5"
      ],
      "metadata": {
        "colab": {
          "base_uri": "https://localhost:8080/",
          "height": 34
        },
        "id": "UVA-8vK6ynZ0",
        "outputId": "237e9995-5e0a-4931-f6c5-765cb0089c85"
      },
      "execution_count": 140,
      "outputs": [
        {
          "output_type": "display_data",
          "data": {
            "text/html": [
              "8"
            ],
            "text/markdown": "8",
            "text/latex": "8",
            "text/plain": [
              "[1] 8"
            ]
          },
          "metadata": {}
        }
      ]
    },
    {
      "cell_type": "code",
      "source": [
        "'^'(2, 4)"
      ],
      "metadata": {
        "colab": {
          "base_uri": "https://localhost:8080/",
          "height": 34
        },
        "id": "RnLYrIw0yut2",
        "outputId": "141c8365-69f9-45fc-b084-3979d69c47a2"
      },
      "execution_count": 142,
      "outputs": [
        {
          "output_type": "display_data",
          "data": {
            "text/html": [
              "16"
            ],
            "text/markdown": "16",
            "text/latex": "16",
            "text/plain": [
              "[1] 16"
            ]
          },
          "metadata": {}
        }
      ]
    },
    {
      "cell_type": "code",
      "source": [
        "'=='('ali','veli')"
      ],
      "metadata": {
        "colab": {
          "base_uri": "https://localhost:8080/",
          "height": 34
        },
        "id": "EjjKEfOMy1xo",
        "outputId": "9a765b76-5048-4513-fb6f-48159e0816c0"
      },
      "execution_count": 143,
      "outputs": [
        {
          "output_type": "display_data",
          "data": {
            "text/html": [
              "FALSE"
            ],
            "text/markdown": "FALSE",
            "text/latex": "FALSE",
            "text/plain": [
              "[1] FALSE"
            ]
          },
          "metadata": {}
        }
      ]
    },
    {
      "cell_type": "code",
      "source": [
        "bitwAnd(3,5) # 011 and 101 = 001"
      ],
      "metadata": {
        "colab": {
          "base_uri": "https://localhost:8080/",
          "height": 34
        },
        "id": "0ECVzvQOzQMk",
        "outputId": "e1992096-297b-4f49-aa45-8c9b51036a3a"
      },
      "execution_count": 144,
      "outputs": [
        {
          "output_type": "display_data",
          "data": {
            "text/html": [
              "1"
            ],
            "text/markdown": "1",
            "text/latex": "1",
            "text/plain": [
              "[1] 1"
            ]
          },
          "metadata": {}
        }
      ]
    },
    {
      "cell_type": "code",
      "source": [
        "bitwOr(3,5) # 011 or 101 = 111"
      ],
      "metadata": {
        "colab": {
          "base_uri": "https://localhost:8080/",
          "height": 34
        },
        "id": "-fkOJovozb7Y",
        "outputId": "f17c5e70-c42d-4e7d-be39-f564eb4b1252"
      },
      "execution_count": 145,
      "outputs": [
        {
          "output_type": "display_data",
          "data": {
            "text/html": [
              "7"
            ],
            "text/markdown": "7",
            "text/latex": "7",
            "text/plain": [
              "[1] 7"
            ]
          },
          "metadata": {}
        }
      ]
    },
    {
      "cell_type": "code",
      "source": [
        "# negatif yapma 5 - 3 = 5 + (-3) ?"
      ],
      "metadata": {
        "id": "-jsG84vGzgLM"
      },
      "execution_count": null,
      "outputs": []
    },
    {
      "cell_type": "code",
      "source": [
        "bitwNot(5) + 1  # sayıyı negatif yapma"
      ],
      "metadata": {
        "colab": {
          "base_uri": "https://localhost:8080/",
          "height": 34
        },
        "id": "LdNh_Ap_zssK",
        "outputId": "4a8df49b-b7fa-454b-f087-43b1cc63fe27"
      },
      "execution_count": 147,
      "outputs": [
        {
          "output_type": "display_data",
          "data": {
            "text/html": [
              "-5"
            ],
            "text/markdown": "-5",
            "text/latex": "-5",
            "text/plain": [
              "[1] -5"
            ]
          },
          "metadata": {}
        }
      ]
    },
    {
      "cell_type": "code",
      "source": [
        "# 5-3 işlemi\n",
        "5 + (bitwNot(3) + 1)"
      ],
      "metadata": {
        "colab": {
          "base_uri": "https://localhost:8080/",
          "height": 34
        },
        "id": "c3wJscasz0cZ",
        "outputId": "4f3faf32-4f7a-437f-8d7b-32e2611e84ab"
      },
      "execution_count": 148,
      "outputs": [
        {
          "output_type": "display_data",
          "data": {
            "text/html": [
              "2"
            ],
            "text/markdown": "2",
            "text/latex": "2",
            "text/plain": [
              "[1] 2"
            ]
          },
          "metadata": {}
        }
      ]
    },
    {
      "cell_type": "code",
      "source": [
        "# matematiksel işlemler\n",
        "factorial(5)"
      ],
      "metadata": {
        "colab": {
          "base_uri": "https://localhost:8080/",
          "height": 34
        },
        "id": "o6c3xOMe0IqK",
        "outputId": "208ceba7-764a-44fe-dd68-41c3fb479029"
      },
      "execution_count": 149,
      "outputs": [
        {
          "output_type": "display_data",
          "data": {
            "text/html": [
              "120"
            ],
            "text/markdown": "120",
            "text/latex": "120",
            "text/plain": [
              "[1] 120"
            ]
          },
          "metadata": {}
        }
      ]
    },
    {
      "cell_type": "code",
      "source": [
        "max(5,4,6,3,2)  # birden fazla değerin maximumu"
      ],
      "metadata": {
        "colab": {
          "base_uri": "https://localhost:8080/",
          "height": 34
        },
        "id": "yAYPLf9D0bqU",
        "outputId": "22b5747a-326c-4be9-e302-cbd5365203a1"
      },
      "execution_count": 150,
      "outputs": [
        {
          "output_type": "display_data",
          "data": {
            "text/html": [
              "6"
            ],
            "text/markdown": "6",
            "text/latex": "6",
            "text/plain": [
              "[1] 6"
            ]
          },
          "metadata": {}
        }
      ]
    },
    {
      "cell_type": "code",
      "source": [
        "min(5,4,6,3,2)  # birden fazla değerin minimumu"
      ],
      "metadata": {
        "colab": {
          "base_uri": "https://localhost:8080/",
          "height": 34
        },
        "id": "Ksreq4p20ioA",
        "outputId": "ab7b6e62-f15b-4f00-b9d5-199f52cca623"
      },
      "execution_count": 151,
      "outputs": [
        {
          "output_type": "display_data",
          "data": {
            "text/html": [
              "2"
            ],
            "text/markdown": "2",
            "text/latex": "2",
            "text/plain": [
              "[1] 2"
            ]
          },
          "metadata": {}
        }
      ]
    },
    {
      "cell_type": "code",
      "source": [
        "sum(1:10)"
      ],
      "metadata": {
        "colab": {
          "base_uri": "https://localhost:8080/",
          "height": 34
        },
        "id": "oOgF6_Yw0nLI",
        "outputId": "35191c4f-355e-4d19-8fe7-d7b7232fe2e1"
      },
      "execution_count": 152,
      "outputs": [
        {
          "output_type": "display_data",
          "data": {
            "text/html": [
              "55"
            ],
            "text/markdown": "55",
            "text/latex": "55",
            "text/plain": [
              "[1] 55"
            ]
          },
          "metadata": {}
        }
      ]
    },
    {
      "cell_type": "code",
      "source": [
        "print(pi, digits=4)"
      ],
      "metadata": {
        "colab": {
          "base_uri": "https://localhost:8080/"
        },
        "id": "ImHoN3kM0wMe",
        "outputId": "3384161b-2328-48ed-8833-af6960885666"
      },
      "execution_count": 153,
      "outputs": [
        {
          "output_type": "stream",
          "name": "stdout",
          "text": [
            "[1] 3.142\n"
          ]
        }
      ]
    },
    {
      "cell_type": "code",
      "source": [
        "1000^2  # 1*10^5"
      ],
      "metadata": {
        "colab": {
          "base_uri": "https://localhost:8080/",
          "height": 34
        },
        "id": "2glq7tcC03lL",
        "outputId": "0443c45d-6196-438c-841b-89c2ef8989c3"
      },
      "execution_count": 154,
      "outputs": [
        {
          "output_type": "display_data",
          "data": {
            "text/html": [
              "1e+06"
            ],
            "text/markdown": "1e+06",
            "text/latex": "1e+06",
            "text/plain": [
              "[1] 1e+06"
            ]
          },
          "metadata": {}
        }
      ]
    },
    {
      "cell_type": "code",
      "source": [
        "1e+5/1e2"
      ],
      "metadata": {
        "colab": {
          "base_uri": "https://localhost:8080/",
          "height": 34
        },
        "id": "-kgy59ea1DmA",
        "outputId": "a9fd7893-c5ee-4aec-8fdf-d324471cecfd"
      },
      "execution_count": 156,
      "outputs": [
        {
          "output_type": "display_data",
          "data": {
            "text/html": [
              "1000"
            ],
            "text/markdown": "1000",
            "text/latex": "1000",
            "text/plain": [
              "[1] 1000"
            ]
          },
          "metadata": {}
        }
      ]
    },
    {
      "cell_type": "code",
      "source": [
        "# Girilen sayını tek mi , çift mi olduğunu söyleyen bir program\n",
        "num = as.numeric(readline(\"sayı gir..: \"))\n",
        "if (num%%2==0){\n",
        "    print(\"Çift\")\n",
        "}else {\n",
        "    print(\"Tek\")\n",
        "}"
      ],
      "metadata": {
        "colab": {
          "base_uri": "https://localhost:8080/"
        },
        "id": "uN3i4ORT1i-3",
        "outputId": "35febe78-cb67-4755-fe0f-7d873f5a3ef5"
      },
      "execution_count": 158,
      "outputs": [
        {
          "output_type": "stream",
          "name": "stdout",
          "text": [
            "sayı gir..: 43\n",
            "[1] \"Tek\"\n"
          ]
        }
      ]
    },
    {
      "cell_type": "code",
      "source": [
        "num = as.numeric(readline(\"sayı gir..: \"))\n",
        "if (num%%2){\n",
        "    print(\"Tek\")\n",
        "}else {\n",
        "    print(\"Çift\")\n",
        "}"
      ],
      "metadata": {
        "colab": {
          "base_uri": "https://localhost:8080/"
        },
        "id": "Dfv4d12D2FUC",
        "outputId": "52bceb68-7bd9-4639-a17b-c1614b69108a"
      },
      "execution_count": 160,
      "outputs": [
        {
          "output_type": "stream",
          "name": "stdout",
          "text": [
            "sayı gir..: 44\n",
            "[1] \"Çift\"\n"
          ]
        }
      ]
    },
    {
      "cell_type": "code",
      "source": [
        "num = as.numeric(readline(\"sayı gir..: \"))\n",
        "if (num%%2) print(\"Tek\") else print(\"Çift\")"
      ],
      "metadata": {
        "colab": {
          "base_uri": "https://localhost:8080/"
        },
        "id": "Ush6CECt2ZvQ",
        "outputId": "13b9ffd8-f4bc-477d-a09a-58654395c1a0"
      },
      "execution_count": 162,
      "outputs": [
        {
          "output_type": "stream",
          "name": "stdout",
          "text": [
            "sayı gir..: 55\n",
            "[1] \"Tek\"\n"
          ]
        }
      ]
    },
    {
      "cell_type": "code",
      "source": [
        "x <- -6\n",
        "# x, poz, neg, zero mu?\n",
        "if (x>0){\n",
        "    print(\"pozitif\")\n",
        "}else if(x<0){\n",
        "    print(\"negatif\")\n",
        "}else{\n",
        "    print(\"sıfır\")\n",
        "}"
      ],
      "metadata": {
        "colab": {
          "base_uri": "https://localhost:8080/"
        },
        "id": "eo2ouX4P6R0S",
        "outputId": "818dea9f-46dc-4440-f23c-c87f95f587b4"
      },
      "execution_count": 164,
      "outputs": [
        {
          "output_type": "stream",
          "name": "stdout",
          "text": [
            "[1] \"negatif\"\n"
          ]
        }
      ]
    },
    {
      "cell_type": "code",
      "source": [
        "x <- 0\n",
        "# x, poz, neg, zero mu?\n",
        "print(\n",
        "    # ifelse(koşul, true ise..., false ise... )\n",
        "    ifelse(x>0, \"pozitif\", ifelse(x<0, \"negatif\", \"sıfır\")\n",
        "    )\n",
        ")"
      ],
      "metadata": {
        "colab": {
          "base_uri": "https://localhost:8080/"
        },
        "id": "G1FSkEb864jr",
        "outputId": "45200d41-651d-4ceb-a828-91230073acab"
      },
      "execution_count": 168,
      "outputs": [
        {
          "output_type": "stream",
          "name": "stdout",
          "text": [
            "[1] \"sıfır\"\n"
          ]
        }
      ]
    },
    {
      "cell_type": "code",
      "source": [
        "AA = 'bade'\n",
        "switch(AA,\n",
        "foo={ # case 'foo' ...\n",
        "  print('foom')\n",
        "},\n",
        "bar={ # case 'bar'...\n",
        "  print('barım')\n",
        "},\n",
        "{ # case else ...\n",
        "   print('default')\n",
        "}\n",
        ")"
      ],
      "metadata": {
        "colab": {
          "base_uri": "https://localhost:8080/"
        },
        "id": "0S07Yw_97mgF",
        "outputId": "f6d65926-b428-4f52-829f-25949fa3a2dc"
      },
      "execution_count": 171,
      "outputs": [
        {
          "output_type": "stream",
          "name": "stdout",
          "text": [
            "[1] \"default\"\n"
          ]
        }
      ]
    },
    {
      "cell_type": "code",
      "source": [
        "# sık kullanım şekli\n",
        "indis = 2 # indis no: 1 ile başlar\n",
        "switch(indis, foo={\"foom\"}, bar={\"barım\"}, els={\"else\"} )"
      ],
      "metadata": {
        "colab": {
          "base_uri": "https://localhost:8080/",
          "height": 34
        },
        "id": "HGFUKseq7xVr",
        "outputId": "58e410d4-3cd4-4eda-d3c7-c1eea262e99f"
      },
      "execution_count": 174,
      "outputs": [
        {
          "output_type": "display_data",
          "data": {
            "text/html": [
              "'barım'"
            ],
            "text/markdown": "'barım'",
            "text/latex": "'barım'",
            "text/plain": [
              "[1] \"barım\""
            ]
          },
          "metadata": {}
        }
      ]
    },
    {
      "cell_type": "code",
      "source": [
        "sign(5)"
      ],
      "metadata": {
        "colab": {
          "base_uri": "https://localhost:8080/",
          "height": 34
        },
        "id": "Vmfy8t4Q-G2-",
        "outputId": "b7c78e7d-be14-42f9-ff26-e5eefcf39b3f"
      },
      "execution_count": 175,
      "outputs": [
        {
          "output_type": "display_data",
          "data": {
            "text/html": [
              "1"
            ],
            "text/markdown": "1",
            "text/latex": "1",
            "text/plain": [
              "[1] 1"
            ]
          },
          "metadata": {}
        }
      ]
    },
    {
      "cell_type": "code",
      "source": [
        "sign(-5)"
      ],
      "metadata": {
        "colab": {
          "base_uri": "https://localhost:8080/",
          "height": 34
        },
        "id": "LQz8wAEg-JzN",
        "outputId": "25e06303-57ec-4841-9e77-09a51cce5144"
      },
      "execution_count": 176,
      "outputs": [
        {
          "output_type": "display_data",
          "data": {
            "text/html": [
              "-1"
            ],
            "text/markdown": "-1",
            "text/latex": "-1",
            "text/plain": [
              "[1] -1"
            ]
          },
          "metadata": {}
        }
      ]
    },
    {
      "cell_type": "code",
      "source": [
        "sign(0)"
      ],
      "metadata": {
        "colab": {
          "base_uri": "https://localhost:8080/",
          "height": 34
        },
        "id": "eUjN5XZP-MIn",
        "outputId": "7f2b3e9a-0e33-487d-95a7-2354514c3a5d"
      },
      "execution_count": 177,
      "outputs": [
        {
          "output_type": "display_data",
          "data": {
            "text/html": [
              "0"
            ],
            "text/markdown": "0",
            "text/latex": "0",
            "text/plain": [
              "[1] 0"
            ]
          },
          "metadata": {}
        }
      ]
    },
    {
      "cell_type": "code",
      "source": [
        "AA = -10\n",
        "switch(as.character(sign(AA)),\n",
        "\"1\"={\n",
        "  print('pozitif')\n",
        "},\n",
        "\"-1\"={\n",
        "  print('negatif')\n",
        "},\n",
        "{ # case else ...\n",
        "   print('sıfır')\n",
        "}\n",
        ")"
      ],
      "metadata": {
        "colab": {
          "base_uri": "https://localhost:8080/"
        },
        "id": "KC4Zg4jJ-XPv",
        "outputId": "bfea2e06-b9ee-47ea-db18-10aa95c37191"
      },
      "execution_count": 186,
      "outputs": [
        {
          "output_type": "stream",
          "name": "stdout",
          "text": [
            "[1] \"negatif\"\n"
          ]
        }
      ]
    },
    {
      "cell_type": "code",
      "source": [
        "typeof(TRUE + FALSE)"
      ],
      "metadata": {
        "colab": {
          "base_uri": "https://localhost:8080/",
          "height": 34
        },
        "id": "sAl40hBYDx3Q",
        "outputId": "fe9c0f51-e694-4e42-c1e5-8c002b94ecc5"
      },
      "execution_count": 187,
      "outputs": [
        {
          "output_type": "display_data",
          "data": {
            "text/html": [
              "'integer'"
            ],
            "text/markdown": "'integer'",
            "text/latex": "'integer'",
            "text/plain": [
              "[1] \"integer\""
            ]
          },
          "metadata": {}
        }
      ]
    },
    {
      "cell_type": "code",
      "source": [
        "'a' %in% 'ali'"
      ],
      "metadata": {
        "colab": {
          "base_uri": "https://localhost:8080/",
          "height": 34
        },
        "id": "6h6gDSQ8EjeZ",
        "outputId": "e0624263-b1fa-4ecd-d6ba-3db5066eb72f"
      },
      "execution_count": 188,
      "outputs": [
        {
          "output_type": "display_data",
          "data": {
            "text/html": [
              "FALSE"
            ],
            "text/markdown": "FALSE",
            "text/latex": "FALSE",
            "text/plain": [
              "[1] FALSE"
            ]
          },
          "metadata": {}
        }
      ]
    },
    {
      "cell_type": "code",
      "source": [
        "'a' %in% c('a','l','i')"
      ],
      "metadata": {
        "colab": {
          "base_uri": "https://localhost:8080/",
          "height": 34
        },
        "id": "FDgZfiaNEocJ",
        "outputId": "0c8e26e5-12c2-4ff4-f879-6512d0cb6985"
      },
      "execution_count": 189,
      "outputs": [
        {
          "output_type": "display_data",
          "data": {
            "text/html": [
              "TRUE"
            ],
            "text/markdown": "TRUE",
            "text/latex": "TRUE",
            "text/plain": [
              "[1] TRUE"
            ]
          },
          "metadata": {}
        }
      ]
    },
    {
      "cell_type": "markdown",
      "source": [
        "# Anlatmadıklarımız"
      ],
      "metadata": {
        "id": "twlYuFnVhUnA"
      }
    },
    {
      "cell_type": "code",
      "source": [
        "# bir fonksiyon hakkında fuzzy arama:\n",
        "apropos(\"nova\")"
      ],
      "metadata": {
        "colab": {
          "base_uri": "https://localhost:8080/",
          "height": 34
        },
        "id": "90n5OwhAhGo_",
        "outputId": "25c375e5-b100-49bc-efc1-785216ee9607"
      },
      "execution_count": 100,
      "outputs": [
        {
          "output_type": "display_data",
          "data": {
            "text/html": [
              "<style>\n",
              ".list-inline {list-style: none; margin:0; padding: 0}\n",
              ".list-inline>li {display: inline-block}\n",
              ".list-inline>li:not(:last-child)::after {content: \"\\00b7\"; padding: 0 .5ex}\n",
              "</style>\n",
              "<ol class=list-inline><li>'anova'</li><li>'manova'</li><li>'power.anova.test'</li><li>'stat.anova'</li><li>'summary.manova'</li></ol>\n"
            ],
            "text/markdown": "1. 'anova'\n2. 'manova'\n3. 'power.anova.test'\n4. 'stat.anova'\n5. 'summary.manova'\n\n\n",
            "text/latex": "\\begin{enumerate*}\n\\item 'anova'\n\\item 'manova'\n\\item 'power.anova.test'\n\\item 'stat.anova'\n\\item 'summary.manova'\n\\end{enumerate*}\n",
            "text/plain": [
              "[1] \"anova\"            \"manova\"           \"power.anova.test\" \"stat.anova\"      \n",
              "[5] \"summary.manova\"  "
            ]
          },
          "metadata": {}
        }
      ]
    },
    {
      "cell_type": "code",
      "source": [
        "# C tarzı ekrana yazdırma sprintf\n",
        "maas = 44500\n",
        "sprintf(\"%s nin %d TL %s geliri var\", \"Sami\", maas, \"maaş\")"
      ],
      "metadata": {
        "colab": {
          "base_uri": "https://localhost:8080/",
          "height": 34
        },
        "id": "47q1EPTrhXdS",
        "outputId": "d46293d6-bca3-48a1-88c5-7dab0ff1ff0c"
      },
      "execution_count": 101,
      "outputs": [
        {
          "output_type": "display_data",
          "data": {
            "text/html": [
              "'Sami nin 44500 TL maaş geliri var'"
            ],
            "text/markdown": "'Sami nin 44500 TL maaş geliri var'",
            "text/latex": "'Sami nin 44500 TL maaş geliri var'",
            "text/plain": [
              "[1] \"Sami nin 44500 TL maaş geliri var\""
            ]
          },
          "metadata": {}
        }
      ]
    },
    {
      "cell_type": "code",
      "source": [
        "library(rmarkdown)\n",
        "library(knitr)\n",
        "library(xfun)\n",
        "\n",
        "input <- \"/content/02_11_23_session1_R.ipynb\"\n",
        "\n",
        "# First convert to .Rmd...\n",
        "convert_ipynb(input)\n",
        "\n",
        "# ..then convert .Rmd\n",
        "purl(with_ext(input, \"Rmd\")) # output = with_ext(input, \"R\"))\n"
      ],
      "metadata": {
        "colab": {
          "base_uri": "https://localhost:8080/",
          "height": 1000
        },
        "id": "Qon2P76WGsNR",
        "outputId": "2eba6abd-0007-4d75-a6ef-2ee1b8599a62"
      },
      "execution_count": 190,
      "outputs": [
        {
          "output_type": "stream",
          "name": "stderr",
          "text": [
            "\n",
            "\n",
            "processing file: /content/02_11_23_session1_R.Rmd\n",
            "\n"
          ]
        },
        {
          "output_type": "stream",
          "name": "stdout",
          "text": [
            "1/277                    \n",
            "2/277 [unnamed-chunk-1]  \n",
            "3/277                    \n",
            "4/277 [unnamed-chunk-2]  \n",
            "5/277                    \n",
            "6/277 [unnamed-chunk-3]  \n",
            "7/277                    \n",
            "8/277 [unnamed-chunk-4]  \n",
            "9/277                    \n",
            "10/277 [unnamed-chunk-5]  \n",
            "11/277                    \n",
            "12/277 [unnamed-chunk-6]  \n",
            "13/277                    \n",
            "14/277 [unnamed-chunk-7]  \n",
            "15/277                    \n",
            "16/277 [unnamed-chunk-8]  \n",
            "17/277                    \n",
            "18/277 [unnamed-chunk-9]  \n",
            "19/277                    \n",
            "20/277 [unnamed-chunk-10] \n",
            "21/277                    \n",
            "22/277 [unnamed-chunk-11] \n",
            "23/277                    \n",
            "24/277 [unnamed-chunk-12] \n",
            "25/277                    \n",
            "26/277 [unnamed-chunk-13] \n",
            "27/277                    \n",
            "28/277 [unnamed-chunk-14] \n",
            "29/277                    \n",
            "30/277 [unnamed-chunk-15] \n",
            "31/277                    \n",
            "32/277 [unnamed-chunk-16] \n",
            "33/277                    \n",
            "34/277 [unnamed-chunk-17] \n",
            "35/277                    \n",
            "36/277 [unnamed-chunk-18] \n",
            "37/277                    \n",
            "38/277 [unnamed-chunk-19] \n",
            "39/277                    \n",
            "40/277 [unnamed-chunk-20] \n",
            "41/277                    \n",
            "42/277 [unnamed-chunk-21] \n",
            "43/277                    \n",
            "44/277 [unnamed-chunk-22] \n",
            "45/277                    \n",
            "46/277 [unnamed-chunk-23] \n",
            "47/277                    \n",
            "48/277 [unnamed-chunk-24] \n",
            "49/277                    \n",
            "50/277 [unnamed-chunk-25] \n",
            "51/277                    \n",
            "52/277 [unnamed-chunk-26] \n",
            "53/277                    \n",
            "54/277 [unnamed-chunk-27] \n",
            "55/277                    \n",
            "56/277 [unnamed-chunk-28] \n",
            "57/277                    \n",
            "58/277 [unnamed-chunk-29] \n",
            "59/277                    \n",
            "60/277 [unnamed-chunk-30] \n",
            "61/277                    \n",
            "62/277 [unnamed-chunk-31] \n",
            "63/277                    \n",
            "64/277 [unnamed-chunk-32] \n",
            "65/277                    \n",
            "66/277 [unnamed-chunk-33] \n",
            "67/277                    \n",
            "68/277 [unnamed-chunk-34] \n",
            "69/277                    \n",
            "70/277 [unnamed-chunk-35] \n",
            "71/277                    \n",
            "72/277 [unnamed-chunk-36] \n",
            "73/277                    \n",
            "74/277 [unnamed-chunk-37] \n",
            "75/277                    \n",
            "76/277 [unnamed-chunk-38] \n",
            "77/277                    \n",
            "78/277 [unnamed-chunk-39] \n",
            "79/277                    \n",
            "80/277 [unnamed-chunk-40] \n",
            "81/277                    \n",
            "82/277 [unnamed-chunk-41] \n",
            "83/277                    \n",
            "84/277 [unnamed-chunk-42] \n",
            "85/277                    \n",
            "86/277 [unnamed-chunk-43] \n",
            "87/277                    \n",
            "88/277 [unnamed-chunk-44] \n",
            "89/277                    \n",
            "90/277 [unnamed-chunk-45] \n",
            "91/277                    \n",
            "92/277 [unnamed-chunk-46] \n",
            "93/277                    \n",
            "94/277 [unnamed-chunk-47] \n",
            "95/277                    \n",
            "96/277 [unnamed-chunk-48] \n",
            "97/277                    \n",
            "98/277 [unnamed-chunk-49] \n",
            "99/277                    \n",
            "100/277 [unnamed-chunk-50] \n",
            "101/277                    \n",
            "102/277 [unnamed-chunk-51] \n",
            "103/277                    \n",
            "104/277 [unnamed-chunk-52] \n",
            "105/277                    \n",
            "106/277 [unnamed-chunk-53] \n",
            "107/277                    \n",
            "108/277 [unnamed-chunk-54] \n",
            "109/277                    \n",
            "110/277 [unnamed-chunk-55] \n",
            "111/277                    \n",
            "112/277 [unnamed-chunk-56] \n",
            "113/277                    \n",
            "114/277 [unnamed-chunk-57] \n",
            "115/277                    \n",
            "116/277 [unnamed-chunk-58] \n",
            "117/277                    \n",
            "118/277 [unnamed-chunk-59] \n",
            "119/277                    \n",
            "120/277 [unnamed-chunk-60] \n",
            "121/277                    \n",
            "122/277 [unnamed-chunk-61] \n",
            "123/277                    \n",
            "124/277 [unnamed-chunk-62] \n",
            "125/277                    \n",
            "126/277 [unnamed-chunk-63] \n",
            "127/277                    \n",
            "128/277 [unnamed-chunk-64] \n",
            "129/277                    \n",
            "130/277 [unnamed-chunk-65] \n",
            "131/277                    \n",
            "132/277 [unnamed-chunk-66] \n",
            "133/277                    \n",
            "134/277 [unnamed-chunk-67] \n",
            "135/277                    \n",
            "136/277 [unnamed-chunk-68] \n",
            "137/277                    \n",
            "138/277 [unnamed-chunk-69] \n",
            "139/277                    \n",
            "140/277 [unnamed-chunk-70] \n",
            "141/277                    \n",
            "142/277 [unnamed-chunk-71] \n",
            "143/277                    \n",
            "144/277 [unnamed-chunk-72] \n",
            "145/277                    \n",
            "146/277 [unnamed-chunk-73] \n",
            "147/277                    \n",
            "148/277 [unnamed-chunk-74] \n",
            "149/277                    \n",
            "150/277 [unnamed-chunk-75] \n",
            "151/277                    \n",
            "152/277 [unnamed-chunk-76] \n",
            "153/277                    \n",
            "154/277 [unnamed-chunk-77] \n",
            "155/277                    \n",
            "156/277 [unnamed-chunk-78] \n",
            "157/277                    \n",
            "158/277 [unnamed-chunk-79] \n",
            "159/277                    \n",
            "160/277 [unnamed-chunk-80] \n",
            "161/277                    \n",
            "162/277 [unnamed-chunk-81] \n",
            "163/277                    \n",
            "164/277 [unnamed-chunk-82] \n",
            "165/277                    \n",
            "166/277 [unnamed-chunk-83] \n",
            "167/277                    \n",
            "168/277 [unnamed-chunk-84] \n",
            "169/277                    \n",
            "170/277 [unnamed-chunk-85] \n",
            "171/277                    \n",
            "172/277 [unnamed-chunk-86] \n",
            "173/277                    \n",
            "174/277 [unnamed-chunk-87] \n",
            "175/277                    \n",
            "176/277 [unnamed-chunk-88] \n",
            "177/277                    \n",
            "178/277 [unnamed-chunk-89] \n",
            "179/277                    \n",
            "180/277 [unnamed-chunk-90] \n",
            "181/277                    \n",
            "182/277 [unnamed-chunk-91] \n",
            "183/277                    \n",
            "184/277 [unnamed-chunk-92] \n",
            "185/277                    \n",
            "186/277 [unnamed-chunk-93] \n",
            "187/277                    \n",
            "188/277 [unnamed-chunk-94] \n",
            "189/277                    \n",
            "190/277 [unnamed-chunk-95] \n",
            "191/277                    \n",
            "192/277 [unnamed-chunk-96] \n",
            "193/277                    \n",
            "194/277 [unnamed-chunk-97] \n",
            "195/277                    \n",
            "196/277 [unnamed-chunk-98] \n",
            "197/277                    \n",
            "198/277 [unnamed-chunk-99] \n",
            "199/277                    \n",
            "200/277 [unnamed-chunk-100]\n",
            "201/277                    \n",
            "202/277 [unnamed-chunk-101]\n",
            "203/277                    \n",
            "204/277 [unnamed-chunk-102]\n",
            "205/277                    \n",
            "206/277 [unnamed-chunk-103]\n",
            "207/277                    \n",
            "208/277 [unnamed-chunk-104]\n",
            "209/277                    \n",
            "210/277 [unnamed-chunk-105]\n",
            "211/277                    \n",
            "212/277 [unnamed-chunk-106]\n",
            "213/277                    \n",
            "214/277 [unnamed-chunk-107]\n",
            "215/277                    \n",
            "216/277 [unnamed-chunk-108]\n",
            "217/277                    \n",
            "218/277 [unnamed-chunk-109]\n",
            "219/277                    \n",
            "220/277 [unnamed-chunk-110]\n",
            "221/277                    \n",
            "222/277 [unnamed-chunk-111]\n",
            "223/277                    \n",
            "224/277 [unnamed-chunk-112]\n",
            "225/277                    \n",
            "226/277 [unnamed-chunk-113]\n",
            "227/277                    \n",
            "228/277 [unnamed-chunk-114]\n",
            "229/277                    \n",
            "230/277 [unnamed-chunk-115]\n",
            "231/277                    \n",
            "232/277 [unnamed-chunk-116]\n",
            "233/277                    \n",
            "234/277 [unnamed-chunk-117]\n",
            "235/277                    \n",
            "236/277 [unnamed-chunk-118]\n",
            "237/277                    \n",
            "238/277 [unnamed-chunk-119]\n",
            "239/277                    \n",
            "240/277 [unnamed-chunk-120]\n",
            "241/277                    \n",
            "242/277 [unnamed-chunk-121]\n",
            "243/277                    \n",
            "244/277 [unnamed-chunk-122]\n",
            "245/277                    \n",
            "246/277 [unnamed-chunk-123]\n",
            "247/277                    \n",
            "248/277 [unnamed-chunk-124]\n",
            "249/277                    \n",
            "250/277 [unnamed-chunk-125]\n",
            "251/277                    \n",
            "252/277 [unnamed-chunk-126]\n",
            "253/277                    \n",
            "254/277 [unnamed-chunk-127]\n",
            "255/277                    \n",
            "256/277 [unnamed-chunk-128]\n",
            "257/277                    \n",
            "258/277 [unnamed-chunk-129]\n",
            "259/277                    \n",
            "260/277 [unnamed-chunk-130]\n",
            "261/277                    \n",
            "262/277 [unnamed-chunk-131]\n",
            "263/277                    \n",
            "264/277 [unnamed-chunk-132]\n",
            "265/277                    \n",
            "266/277 [unnamed-chunk-133]\n",
            "267/277                    \n",
            "268/277 [unnamed-chunk-134]\n",
            "269/277                    \n",
            "270/277 [unnamed-chunk-135]\n",
            "271/277                    \n",
            "272/277 [unnamed-chunk-136]\n",
            "273/277                    \n",
            "274/277 [unnamed-chunk-137]\n",
            "275/277                    \n",
            "276/277 [unnamed-chunk-138]\n",
            "277/277                    \n"
          ]
        },
        {
          "output_type": "stream",
          "name": "stderr",
          "text": [
            "output file: 02_11_23_session1_R.R\n",
            "\n",
            "\n"
          ]
        },
        {
          "output_type": "display_data",
          "data": {
            "text/html": [
              "'02_11_23_session1_R.R'"
            ],
            "text/markdown": "'02_11_23_session1_R.R'",
            "text/latex": "'02\\_11\\_23\\_session1\\_R.R'",
            "text/plain": [
              "[1] \"02_11_23_session1_R.R\""
            ]
          },
          "metadata": {}
        }
      ]
    }
  ]
}