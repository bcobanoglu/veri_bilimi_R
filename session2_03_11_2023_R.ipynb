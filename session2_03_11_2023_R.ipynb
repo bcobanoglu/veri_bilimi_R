{
  "nbformat": 4,
  "nbformat_minor": 0,
  "metadata": {
    "colab": {
      "provenance": []
    },
    "kernelspec": {
      "name": "ir",
      "display_name": "R"
    },
    "language_info": {
      "name": "R"
    }
  },
  "cells": [
    {
      "cell_type": "code",
      "execution_count": null,
      "metadata": {
        "id": "2FZnaUt3yaAN"
      },
      "outputs": [],
      "source": [
        "# .pynb uzantılı dosyayı .R veya .Rmd ye dönüştürme\n",
        "library(rmarkdown)\n",
        "library(knitr)\n",
        "library(xfun)\n",
        "\n",
        "input <- \"/content/02_11_23_session1_R.ipynb\"\n",
        "\n",
        "# First convert to .Rmd...\n",
        "convert_ipynb(input)\n",
        "\n",
        "# ..then convert .Rmd\n",
        "purl(with_ext(input, \"Rmd\")) # output = with_ext(input, \"R\"))"
      ]
    },
    {
      "cell_type": "code",
      "source": [
        "print(rep(\"ali \", times=5))"
      ],
      "metadata": {
        "colab": {
          "base_uri": "https://localhost:8080/"
        },
        "id": "GdKqSJ1lznNa",
        "outputId": "628ed879-74c5-4568-e372-b42559ef532b"
      },
      "execution_count": 117,
      "outputs": [
        {
          "output_type": "stream",
          "name": "stdout",
          "text": [
            "[1] \"ali \" \"ali \" \"ali \" \"ali \" \"ali \"\n"
          ]
        }
      ]
    },
    {
      "cell_type": "code",
      "source": [
        "rep(\"ali \", times=5)"
      ],
      "metadata": {
        "colab": {
          "base_uri": "https://localhost:8080/",
          "height": 34
        },
        "id": "WixDrS1_vKt5",
        "outputId": "faac7e51-9b5e-43b8-b89c-a284669fb5fb"
      },
      "execution_count": 118,
      "outputs": [
        {
          "output_type": "display_data",
          "data": {
            "text/html": [
              "<style>\n",
              ".list-inline {list-style: none; margin:0; padding: 0}\n",
              ".list-inline>li {display: inline-block}\n",
              ".list-inline>li:not(:last-child)::after {content: \"\\00b7\"; padding: 0 .5ex}\n",
              "</style>\n",
              "<ol class=list-inline><li>'ali '</li><li>'ali '</li><li>'ali '</li><li>'ali '</li><li>'ali '</li></ol>\n"
            ],
            "text/markdown": "1. 'ali '\n2. 'ali '\n3. 'ali '\n4. 'ali '\n5. 'ali '\n\n\n",
            "text/latex": "\\begin{enumerate*}\n\\item 'ali '\n\\item 'ali '\n\\item 'ali '\n\\item 'ali '\n\\item 'ali '\n\\end{enumerate*}\n",
            "text/plain": [
              "[1] \"ali \" \"ali \" \"ali \" \"ali \" \"ali \""
            ]
          },
          "metadata": {}
        }
      ]
    },
    {
      "cell_type": "code",
      "source": [
        "# girileni 5 kez tekrarla\n",
        "ad = readline(\"Ad..: \")\n",
        "vek <- rep(ad, times = 5)\n",
        "cat(vek, sep=\"\\n\")"
      ],
      "metadata": {
        "colab": {
          "base_uri": "https://localhost:8080/"
        },
        "id": "7XdyPqzv0rh6",
        "outputId": "27e82567-139b-490d-8329-9727635a3791"
      },
      "execution_count": 2,
      "outputs": [
        {
          "output_type": "stream",
          "name": "stdout",
          "text": [
            "Ad..: alim\n",
            "alim\n",
            "alim\n",
            "alim\n",
            "alim\n",
            "alim\n"
          ]
        }
      ]
    },
    {
      "cell_type": "code",
      "source": [
        "rep(1:5, each=2)"
      ],
      "metadata": {
        "colab": {
          "base_uri": "https://localhost:8080/",
          "height": 34
        },
        "id": "n4w1ejzh1HzE",
        "outputId": "0351a96b-5be2-4a98-9178-56c25841cf44"
      },
      "execution_count": 3,
      "outputs": [
        {
          "output_type": "display_data",
          "data": {
            "text/html": [
              "<style>\n",
              ".list-inline {list-style: none; margin:0; padding: 0}\n",
              ".list-inline>li {display: inline-block}\n",
              ".list-inline>li:not(:last-child)::after {content: \"\\00b7\"; padding: 0 .5ex}\n",
              "</style>\n",
              "<ol class=list-inline><li>1</li><li>1</li><li>2</li><li>2</li><li>3</li><li>3</li><li>4</li><li>4</li><li>5</li><li>5</li></ol>\n"
            ],
            "text/markdown": "1. 1\n2. 1\n3. 2\n4. 2\n5. 3\n6. 3\n7. 4\n8. 4\n9. 5\n10. 5\n\n\n",
            "text/latex": "\\begin{enumerate*}\n\\item 1\n\\item 1\n\\item 2\n\\item 2\n\\item 3\n\\item 3\n\\item 4\n\\item 4\n\\item 5\n\\item 5\n\\end{enumerate*}\n",
            "text/plain": [
              " [1] 1 1 2 2 3 3 4 4 5 5"
            ]
          },
          "metadata": {}
        }
      ]
    },
    {
      "cell_type": "code",
      "source": [
        "rep(0:4, length.out=8)"
      ],
      "metadata": {
        "colab": {
          "base_uri": "https://localhost:8080/",
          "height": 34
        },
        "id": "1tw3YCJb1TKC",
        "outputId": "e99b2360-7ade-4936-88ba-6d7f2f5db0b2"
      },
      "execution_count": 123,
      "outputs": [
        {
          "output_type": "display_data",
          "data": {
            "text/html": [
              "<style>\n",
              ".list-inline {list-style: none; margin:0; padding: 0}\n",
              ".list-inline>li {display: inline-block}\n",
              ".list-inline>li:not(:last-child)::after {content: \"\\00b7\"; padding: 0 .5ex}\n",
              "</style>\n",
              "<ol class=list-inline><li>0</li><li>1</li><li>2</li><li>3</li><li>4</li><li>0</li><li>1</li><li>2</li></ol>\n"
            ],
            "text/markdown": "1. 0\n2. 1\n3. 2\n4. 3\n5. 4\n6. 0\n7. 1\n8. 2\n\n\n",
            "text/latex": "\\begin{enumerate*}\n\\item 0\n\\item 1\n\\item 2\n\\item 3\n\\item 4\n\\item 0\n\\item 1\n\\item 2\n\\end{enumerate*}\n",
            "text/plain": [
              "[1] 0 1 2 3 4 0 1 2"
            ]
          },
          "metadata": {}
        }
      ]
    },
    {
      "cell_type": "code",
      "source": [
        "rep(0:5, length.out=10)"
      ],
      "metadata": {
        "colab": {
          "base_uri": "https://localhost:8080/",
          "height": 34
        },
        "id": "-jAYMkgwvh8Z",
        "outputId": "e8a6d395-0f10-489e-af48-533e425a74bf"
      },
      "execution_count": 122,
      "outputs": [
        {
          "output_type": "display_data",
          "data": {
            "text/html": [
              "<style>\n",
              ".list-inline {list-style: none; margin:0; padding: 0}\n",
              ".list-inline>li {display: inline-block}\n",
              ".list-inline>li:not(:last-child)::after {content: \"\\00b7\"; padding: 0 .5ex}\n",
              "</style>\n",
              "<ol class=list-inline><li>0</li><li>1</li><li>2</li><li>3</li><li>4</li><li>5</li><li>0</li><li>1</li><li>2</li><li>3</li></ol>\n"
            ],
            "text/markdown": "1. 0\n2. 1\n3. 2\n4. 3\n5. 4\n6. 5\n7. 0\n8. 1\n9. 2\n10. 3\n\n\n",
            "text/latex": "\\begin{enumerate*}\n\\item 0\n\\item 1\n\\item 2\n\\item 3\n\\item 4\n\\item 5\n\\item 0\n\\item 1\n\\item 2\n\\item 3\n\\end{enumerate*}\n",
            "text/plain": [
              " [1] 0 1 2 3 4 5 0 1 2 3"
            ]
          },
          "metadata": {}
        }
      ]
    },
    {
      "cell_type": "code",
      "source": [
        "# bir kombinasyona göre hareket edebiliriz; mehter yürüşü\n",
        "rep(1:4, c(2,1,2,1))"
      ],
      "metadata": {
        "colab": {
          "base_uri": "https://localhost:8080/",
          "height": 34
        },
        "id": "Sjs_ihDc1fTc",
        "outputId": "b22a49e8-33cf-46f7-a5df-d24ab58a8cb1"
      },
      "execution_count": 129,
      "outputs": [
        {
          "output_type": "display_data",
          "data": {
            "text/html": [
              "<style>\n",
              ".list-inline {list-style: none; margin:0; padding: 0}\n",
              ".list-inline>li {display: inline-block}\n",
              ".list-inline>li:not(:last-child)::after {content: \"\\00b7\"; padding: 0 .5ex}\n",
              "</style>\n",
              "<ol class=list-inline><li>1</li><li>1</li><li>2</li><li>3</li><li>3</li><li>4</li></ol>\n"
            ],
            "text/markdown": "1. 1\n2. 1\n3. 2\n4. 3\n5. 3\n6. 4\n\n\n",
            "text/latex": "\\begin{enumerate*}\n\\item 1\n\\item 1\n\\item 2\n\\item 3\n\\item 3\n\\item 4\n\\end{enumerate*}\n",
            "text/plain": [
              "[1] 1 1 2 3 3 4"
            ]
          },
          "metadata": {}
        }
      ]
    },
    {
      "cell_type": "code",
      "source": [
        "print(rep(1:3, c(1,2,3)))"
      ],
      "metadata": {
        "colab": {
          "base_uri": "https://localhost:8080/"
        },
        "id": "Z8VQg8GwwCGn",
        "outputId": "130afe81-717d-4090-9d25-21b37a19c93c"
      },
      "execution_count": 131,
      "outputs": [
        {
          "output_type": "stream",
          "name": "stdout",
          "text": [
            "[1] 1 2 2 3 3 3\n"
          ]
        }
      ]
    },
    {
      "cell_type": "code",
      "source": [
        "# rep()' in repeat.last diye bir parametresi yok...\n",
        "# ama son elemanı tekralama veya 5 kez tekrarla gibi işlemler için dilimleme...."
      ],
      "metadata": {
        "id": "Hi8bS4Lr10jg"
      },
      "execution_count": null,
      "outputs": []
    },
    {
      "cell_type": "code",
      "source": [
        "rep(1:5, each=3)"
      ],
      "metadata": {
        "colab": {
          "base_uri": "https://localhost:8080/",
          "height": 34
        },
        "id": "NKzSVnb02GMO",
        "outputId": "55f8265f-1ec0-40ea-ece0-25f7718e79ef"
      },
      "execution_count": 10,
      "outputs": [
        {
          "output_type": "display_data",
          "data": {
            "text/html": [
              "<style>\n",
              ".list-inline {list-style: none; margin:0; padding: 0}\n",
              ".list-inline>li {display: inline-block}\n",
              ".list-inline>li:not(:last-child)::after {content: \"\\00b7\"; padding: 0 .5ex}\n",
              "</style>\n",
              "<ol class=list-inline><li>1</li><li>1</li><li>1</li><li>2</li><li>2</li><li>2</li><li>3</li><li>3</li><li>3</li><li>4</li><li>4</li><li>4</li><li>5</li><li>5</li><li>5</li></ol>\n"
            ],
            "text/markdown": "1. 1\n2. 1\n3. 1\n4. 2\n5. 2\n6. 2\n7. 3\n8. 3\n9. 3\n10. 4\n11. 4\n12. 4\n13. 5\n14. 5\n15. 5\n\n\n",
            "text/latex": "\\begin{enumerate*}\n\\item 1\n\\item 1\n\\item 1\n\\item 2\n\\item 2\n\\item 2\n\\item 3\n\\item 3\n\\item 3\n\\item 4\n\\item 4\n\\item 4\n\\item 5\n\\item 5\n\\item 5\n\\end{enumerate*}\n",
            "text/plain": [
              " [1] 1 1 1 2 2 2 3 3 3 4 4 4 5 5 5"
            ]
          },
          "metadata": {}
        }
      ]
    },
    {
      "cell_type": "code",
      "source": [
        "seq(1,5,2) # from=1, to=5, by=2"
      ],
      "metadata": {
        "colab": {
          "base_uri": "https://localhost:8080/",
          "height": 34
        },
        "id": "6oW43c2h232T",
        "outputId": "ce848dce-9d02-4902-c9a1-14b9bc704661"
      },
      "execution_count": 11,
      "outputs": [
        {
          "output_type": "display_data",
          "data": {
            "text/html": [
              "<style>\n",
              ".list-inline {list-style: none; margin:0; padding: 0}\n",
              ".list-inline>li {display: inline-block}\n",
              ".list-inline>li:not(:last-child)::after {content: \"\\00b7\"; padding: 0 .5ex}\n",
              "</style>\n",
              "<ol class=list-inline><li>1</li><li>3</li><li>5</li></ol>\n"
            ],
            "text/markdown": "1. 1\n2. 3\n3. 5\n\n\n",
            "text/latex": "\\begin{enumerate*}\n\\item 1\n\\item 3\n\\item 5\n\\end{enumerate*}\n",
            "text/plain": [
              "[1] 1 3 5"
            ]
          },
          "metadata": {}
        }
      ]
    },
    {
      "cell_type": "code",
      "source": [
        "seq(from=9, to=1, by=-2)"
      ],
      "metadata": {
        "colab": {
          "base_uri": "https://localhost:8080/",
          "height": 34
        },
        "id": "iqu3PMTG2-66",
        "outputId": "99a23067-ebc0-4bd5-ab25-4483caf992e4"
      },
      "execution_count": 132,
      "outputs": [
        {
          "output_type": "display_data",
          "data": {
            "text/html": [
              "<style>\n",
              ".list-inline {list-style: none; margin:0; padding: 0}\n",
              ".list-inline>li {display: inline-block}\n",
              ".list-inline>li:not(:last-child)::after {content: \"\\00b7\"; padding: 0 .5ex}\n",
              "</style>\n",
              "<ol class=list-inline><li>9</li><li>7</li><li>5</li><li>3</li><li>1</li></ol>\n"
            ],
            "text/markdown": "1. 9\n2. 7\n3. 5\n4. 3\n5. 1\n\n\n",
            "text/latex": "\\begin{enumerate*}\n\\item 9\n\\item 7\n\\item 5\n\\item 3\n\\item 1\n\\end{enumerate*}\n",
            "text/plain": [
              "[1] 9 7 5 3 1"
            ]
          },
          "metadata": {}
        }
      ]
    },
    {
      "cell_type": "code",
      "source": [
        "seq(from=9, to=2, by=-1)"
      ],
      "metadata": {
        "colab": {
          "base_uri": "https://localhost:8080/",
          "height": 34
        },
        "id": "MXvaA_z4xBMS",
        "outputId": "8cbed679-bfa4-4541-903f-28c619c9219a"
      },
      "execution_count": 135,
      "outputs": [
        {
          "output_type": "display_data",
          "data": {
            "text/html": [
              "<style>\n",
              ".list-inline {list-style: none; margin:0; padding: 0}\n",
              ".list-inline>li {display: inline-block}\n",
              ".list-inline>li:not(:last-child)::after {content: \"\\00b7\"; padding: 0 .5ex}\n",
              "</style>\n",
              "<ol class=list-inline><li>9</li><li>8</li><li>7</li><li>6</li><li>5</li><li>4</li><li>3</li><li>2</li></ol>\n"
            ],
            "text/markdown": "1. 9\n2. 8\n3. 7\n4. 6\n5. 5\n6. 4\n7. 3\n8. 2\n\n\n",
            "text/latex": "\\begin{enumerate*}\n\\item 9\n\\item 8\n\\item 7\n\\item 6\n\\item 5\n\\item 4\n\\item 3\n\\item 2\n\\end{enumerate*}\n",
            "text/plain": [
              "[1] 9 8 7 6 5 4 3 2"
            ]
          },
          "metadata": {}
        }
      ]
    },
    {
      "cell_type": "code",
      "source": [
        "seq(to=1, by=-2, from=9)"
      ],
      "metadata": {
        "colab": {
          "base_uri": "https://localhost:8080/",
          "height": 34
        },
        "id": "PNoD7rSz38f7",
        "outputId": "1e0dd35f-ce22-4009-9910-650eecae9152"
      },
      "execution_count": 133,
      "outputs": [
        {
          "output_type": "display_data",
          "data": {
            "text/html": [
              "<style>\n",
              ".list-inline {list-style: none; margin:0; padding: 0}\n",
              ".list-inline>li {display: inline-block}\n",
              ".list-inline>li:not(:last-child)::after {content: \"\\00b7\"; padding: 0 .5ex}\n",
              "</style>\n",
              "<ol class=list-inline><li>9</li><li>7</li><li>5</li><li>3</li><li>1</li></ol>\n"
            ],
            "text/markdown": "1. 9\n2. 7\n3. 5\n4. 3\n5. 1\n\n\n",
            "text/latex": "\\begin{enumerate*}\n\\item 9\n\\item 7\n\\item 5\n\\item 3\n\\item 1\n\\end{enumerate*}\n",
            "text/plain": [
              "[1] 9 7 5 3 1"
            ]
          },
          "metadata": {}
        }
      ]
    },
    {
      "cell_type": "code",
      "source": [
        "seq(9, 1, -2)"
      ],
      "metadata": {
        "colab": {
          "base_uri": "https://localhost:8080/",
          "height": 34
        },
        "id": "5w-Pu4uWwyO9",
        "outputId": "e1a8846c-f32c-4b27-daf8-f0d716444954"
      },
      "execution_count": 134,
      "outputs": [
        {
          "output_type": "display_data",
          "data": {
            "text/html": [
              "<style>\n",
              ".list-inline {list-style: none; margin:0; padding: 0}\n",
              ".list-inline>li {display: inline-block}\n",
              ".list-inline>li:not(:last-child)::after {content: \"\\00b7\"; padding: 0 .5ex}\n",
              "</style>\n",
              "<ol class=list-inline><li>9</li><li>7</li><li>5</li><li>3</li><li>1</li></ol>\n"
            ],
            "text/markdown": "1. 9\n2. 7\n3. 5\n4. 3\n5. 1\n\n\n",
            "text/latex": "\\begin{enumerate*}\n\\item 9\n\\item 7\n\\item 5\n\\item 3\n\\item 1\n\\end{enumerate*}\n",
            "text/plain": [
              "[1] 9 7 5 3 1"
            ]
          },
          "metadata": {}
        }
      ]
    },
    {
      "cell_type": "code",
      "source": [
        "seq(0,-2,9)"
      ],
      "metadata": {
        "colab": {
          "base_uri": "https://localhost:8080/",
          "height": 182
        },
        "id": "H9fjwE_c4Efw",
        "outputId": "d3c984e4-1fe5-4703-da27-4b8c17531178"
      },
      "execution_count": 19,
      "outputs": [
        {
          "output_type": "error",
          "ename": "ERROR",
          "evalue": "ignored",
          "traceback": [
            "Error in seq.default(0, -2, 9): wrong sign in 'by' argument\nTraceback:\n",
            "1. seq(0, -2, 9)",
            "2. seq.default(0, -2, 9)",
            "3. stop(\"wrong sign in 'by' argument\")"
          ]
        }
      ]
    },
    {
      "cell_type": "code",
      "source": [
        "1:5"
      ],
      "metadata": {
        "colab": {
          "base_uri": "https://localhost:8080/",
          "height": 34
        },
        "id": "B4spCAUW3GtL",
        "outputId": "ad95b72f-6aec-498c-9d0b-bbc35cc18434"
      },
      "execution_count": 13,
      "outputs": [
        {
          "output_type": "display_data",
          "data": {
            "text/html": [
              "<style>\n",
              ".list-inline {list-style: none; margin:0; padding: 0}\n",
              ".list-inline>li {display: inline-block}\n",
              ".list-inline>li:not(:last-child)::after {content: \"\\00b7\"; padding: 0 .5ex}\n",
              "</style>\n",
              "<ol class=list-inline><li>1</li><li>2</li><li>3</li><li>4</li><li>5</li></ol>\n"
            ],
            "text/markdown": "1. 1\n2. 2\n3. 3\n4. 4\n5. 5\n\n\n",
            "text/latex": "\\begin{enumerate*}\n\\item 1\n\\item 2\n\\item 3\n\\item 4\n\\item 5\n\\end{enumerate*}\n",
            "text/plain": [
              "[1] 1 2 3 4 5"
            ]
          },
          "metadata": {}
        }
      ]
    },
    {
      "cell_type": "code",
      "source": [
        "seq(1,5)"
      ],
      "metadata": {
        "colab": {
          "base_uri": "https://localhost:8080/",
          "height": 34
        },
        "id": "XL05amh23I45",
        "outputId": "df343ac9-f53d-43ff-a62b-5c0929dcb486"
      },
      "execution_count": 14,
      "outputs": [
        {
          "output_type": "display_data",
          "data": {
            "text/html": [
              "<style>\n",
              ".list-inline {list-style: none; margin:0; padding: 0}\n",
              ".list-inline>li {display: inline-block}\n",
              ".list-inline>li:not(:last-child)::after {content: \"\\00b7\"; padding: 0 .5ex}\n",
              "</style>\n",
              "<ol class=list-inline><li>1</li><li>2</li><li>3</li><li>4</li><li>5</li></ol>\n"
            ],
            "text/markdown": "1. 1\n2. 2\n3. 3\n4. 4\n5. 5\n\n\n",
            "text/latex": "\\begin{enumerate*}\n\\item 1\n\\item 2\n\\item 3\n\\item 4\n\\item 5\n\\end{enumerate*}\n",
            "text/plain": [
              "[1] 1 2 3 4 5"
            ]
          },
          "metadata": {}
        }
      ]
    },
    {
      "cell_type": "code",
      "source": [
        "seq(9)"
      ],
      "metadata": {
        "colab": {
          "base_uri": "https://localhost:8080/",
          "height": 34
        },
        "id": "i--Cc2hh3Neb",
        "outputId": "4c1d6e49-1ec7-499c-92c6-f58d09954357"
      },
      "execution_count": 15,
      "outputs": [
        {
          "output_type": "display_data",
          "data": {
            "text/html": [
              "<style>\n",
              ".list-inline {list-style: none; margin:0; padding: 0}\n",
              ".list-inline>li {display: inline-block}\n",
              ".list-inline>li:not(:last-child)::after {content: \"\\00b7\"; padding: 0 .5ex}\n",
              "</style>\n",
              "<ol class=list-inline><li>1</li><li>2</li><li>3</li><li>4</li><li>5</li><li>6</li><li>7</li><li>8</li><li>9</li></ol>\n"
            ],
            "text/markdown": "1. 1\n2. 2\n3. 3\n4. 4\n5. 5\n6. 6\n7. 7\n8. 8\n9. 9\n\n\n",
            "text/latex": "\\begin{enumerate*}\n\\item 1\n\\item 2\n\\item 3\n\\item 4\n\\item 5\n\\item 6\n\\item 7\n\\item 8\n\\item 9\n\\end{enumerate*}\n",
            "text/plain": [
              "[1] 1 2 3 4 5 6 7 8 9"
            ]
          },
          "metadata": {}
        }
      ]
    },
    {
      "cell_type": "code",
      "source": [
        "seq(1, 9, by = pi)"
      ],
      "metadata": {
        "colab": {
          "base_uri": "https://localhost:8080/",
          "height": 34
        },
        "id": "XbDTttBF3R_K",
        "outputId": "861e2b07-b3fa-4e29-bfdf-d7ffc2addfa3"
      },
      "execution_count": 17,
      "outputs": [
        {
          "output_type": "display_data",
          "data": {
            "text/html": [
              "<style>\n",
              ".list-inline {list-style: none; margin:0; padding: 0}\n",
              ".list-inline>li {display: inline-block}\n",
              ".list-inline>li:not(:last-child)::after {content: \"\\00b7\"; padding: 0 .5ex}\n",
              "</style>\n",
              "<ol class=list-inline><li>1</li><li>4.14159265358979</li><li>7.28318530717959</li></ol>\n"
            ],
            "text/markdown": "1. 1\n2. 4.14159265358979\n3. 7.28318530717959\n\n\n",
            "text/latex": "\\begin{enumerate*}\n\\item 1\n\\item 4.14159265358979\n\\item 7.28318530717959\n\\end{enumerate*}\n",
            "text/plain": [
              "[1] 1.000000 4.141593 7.283185"
            ]
          },
          "metadata": {}
        }
      ]
    },
    {
      "cell_type": "markdown",
      "source": [
        "# LOOPS\n",
        "\n",
        "*   while\n",
        "*   repeat\n",
        "*   for\n",
        "\n",
        "\n",
        "\n"
      ],
      "metadata": {
        "id": "qarbbHx25Gtr"
      }
    },
    {
      "cell_type": "code",
      "source": [
        "i <- 65\n",
        "while(i<=90){\n",
        "    cat(intToUtf8(i), \":\", i, \"\\n\")\n",
        "    i = i + 1 # i++, i+=1\n",
        "}"
      ],
      "metadata": {
        "colab": {
          "base_uri": "https://localhost:8080/"
        },
        "id": "aUoJ73M_5QWS",
        "outputId": "93cfc7f1-2073-4c8f-df0f-278094aec4a3"
      },
      "execution_count": 21,
      "outputs": [
        {
          "output_type": "stream",
          "name": "stdout",
          "text": [
            "A : 65 \n",
            "B : 66 \n",
            "C : 67 \n",
            "D : 68 \n",
            "E : 69 \n",
            "F : 70 \n",
            "G : 71 \n",
            "H : 72 \n",
            "I : 73 \n",
            "J : 74 \n",
            "K : 75 \n",
            "L : 76 \n",
            "M : 77 \n",
            "N : 78 \n",
            "O : 79 \n",
            "P : 80 \n",
            "Q : 81 \n",
            "R : 82 \n",
            "S : 83 \n",
            "T : 84 \n",
            "U : 85 \n",
            "V : 86 \n",
            "W : 87 \n",
            "X : 88 \n",
            "Y : 89 \n",
            "Z : 90 \n"
          ]
        }
      ]
    },
    {
      "cell_type": "code",
      "source": [
        "# sonsuz döngü:\n",
        "my_pass = \"sifre1234\"\n",
        "while(TRUE){\n",
        "    user_pass <- readline(\"Şifreniz..: \")\n",
        "    if (user_pass != my_pass){\n",
        "        cat(\"Parola yanlış, Tekrar deneyiniz!!\\n\")\n",
        "        flush.console()  # console akışını temizle\n",
        "    } else{\n",
        "        cat(\"Parola doğru, Hoşgeldiniz..\\n\")\n",
        "        flush.console()  # console akışını temizle\n",
        "        break  # döngü kırılır\n",
        "    } # else sonu\n",
        "} # while sonu"
      ],
      "metadata": {
        "colab": {
          "base_uri": "https://localhost:8080/"
        },
        "id": "zhEczUpG6Hi2",
        "outputId": "0e8fcbde-684c-4a02-bde7-6a31eacbcd7a"
      },
      "execution_count": 23,
      "outputs": [
        {
          "output_type": "stream",
          "name": "stdout",
          "text": [
            "Şifreniz..: dede\n",
            "Parola yanlış, Tekrar deneyiniz!!\n",
            "Şifreniz..: sifre123\n",
            "Parola yanlış, Tekrar deneyiniz!!\n",
            "Şifreniz..: sifre12334\n",
            "Parola yanlış, Tekrar deneyiniz!!\n",
            "Şifreniz..: sifre1234\n",
            "Parola doğru, Hoşgeldiniz..\n"
          ]
        }
      ]
    },
    {
      "cell_type": "code",
      "source": [
        "# while(TRUE) \"sonsuz döngü\" yerine repeat döngüleri tercih edilir..\n",
        "# sonsuz döngü:\n",
        "my_pass = \"sifre1234\"\n",
        "repeat{\n",
        "    user_pass <- readline(\"Şifreniz..: \")\n",
        "    if (user_pass != my_pass){\n",
        "        cat(\"Parola yanlış, Tekrar deneyiniz!!\\n\")\n",
        "        flush.console()  # console akışını temizle\n",
        "    } else{\n",
        "        cat(\"Parola doğru, Hoşgeldiniz..\\n\")\n",
        "        flush.console()  # console akışını temizle\n",
        "        break  # döngü kırılır\n",
        "    } # else sonu\n",
        "} # while sonu"
      ],
      "metadata": {
        "colab": {
          "base_uri": "https://localhost:8080/"
        },
        "id": "Pk41gLVoAB8R",
        "outputId": "3e2f2326-f573-456b-d4e7-a8af48c6e72f"
      },
      "execution_count": 24,
      "outputs": [
        {
          "output_type": "stream",
          "name": "stdout",
          "text": [
            "Şifreniz..: sdgf\n",
            "Parola yanlış, Tekrar deneyiniz!!\n",
            "Şifreniz..: 5676\n",
            "Parola yanlış, Tekrar deneyiniz!!\n",
            "Şifreniz..: sifre1234\n",
            "Parola doğru, Hoşgeldiniz..\n"
          ]
        }
      ]
    },
    {
      "cell_type": "code",
      "source": [
        "for i in 1:5{\n",
        "    print(i)\n",
        "}"
      ],
      "metadata": {
        "colab": {
          "base_uri": "https://localhost:8080/",
          "height": 145
        },
        "id": "DVSkCFiqAfMM",
        "outputId": "276abb1d-03fe-4536-adf4-bd1b4fffb50c"
      },
      "execution_count": 25,
      "outputs": [
        {
          "output_type": "error",
          "ename": "ERROR",
          "evalue": "ignored",
          "traceback": [
            "Error in parse(text = x, srcfile = src): <text>:1:5: unexpected symbol\n1: for i\n        ^\nTraceback:\n"
          ]
        }
      ]
    },
    {
      "cell_type": "code",
      "source": [
        "for (i in 1:5) {\n",
        "    print(i)\n",
        "}"
      ],
      "metadata": {
        "colab": {
          "base_uri": "https://localhost:8080/"
        },
        "id": "gT26QEnsAvrD",
        "outputId": "814d7ad5-1091-4caf-aaad-1e63798b8fdf"
      },
      "execution_count": 26,
      "outputs": [
        {
          "output_type": "stream",
          "name": "stdout",
          "text": [
            "[1] 1\n",
            "[1] 2\n",
            "[1] 3\n",
            "[1] 4\n",
            "[1] 5\n"
          ]
        }
      ]
    },
    {
      "cell_type": "code",
      "source": [
        "# while - for eşdeğeri\n",
        "for (i in 65:90){\n",
        "    cat(intToUtf8(i), \":\", i, \"\\n\")\n",
        "}"
      ],
      "metadata": {
        "id": "9pp7VgAwA1tf"
      },
      "execution_count": null,
      "outputs": []
    },
    {
      "cell_type": "code",
      "source": [
        "# next : diğer dillerdeki continue eşdeğeri, alttaki satırları atlar ve döngü başı yapar\n",
        "for (i in 1:10){\n",
        "    # tek sayıları süzelim\n",
        "    if (i%%2==0) {\n",
        "        next\n",
        "    # }\n",
        "    cat(i, \" \")\n",
        "}"
      ],
      "metadata": {
        "colab": {
          "base_uri": "https://localhost:8080/"
        },
        "id": "T52KekC6B18a",
        "outputId": "7a0fe73c-39dd-4dd4-ddf7-b7544a7ae8cc"
      },
      "execution_count": 137,
      "outputs": [
        {
          "output_type": "stream",
          "name": "stdout",
          "text": [
            "1  2  3  4  5  6  7  8  9  10  "
          ]
        }
      ]
    },
    {
      "cell_type": "code",
      "source": [
        "for (i in 1:10){\n",
        "    if (i%%2) {\n",
        "        next\n",
        "    }\n",
        "    cat(i, \" \")\n",
        "}"
      ],
      "metadata": {
        "colab": {
          "base_uri": "https://localhost:8080/"
        },
        "id": "J7nLQdq6yEf2",
        "outputId": "c4a69fd6-9b6b-4711-d97c-4a4c929be55b"
      },
      "execution_count": 136,
      "outputs": [
        {
          "output_type": "stream",
          "name": "stdout",
          "text": [
            "2  4  6  8  10  "
          ]
        }
      ]
    },
    {
      "cell_type": "code",
      "source": [
        "calisanlar <- c(\"Ali\", \"Bulent\", \"Ayşe\", \"Mehmet\")\n",
        "mod <- c(\"MUTLU\", \"MUTSUZ\")\n",
        "for (i in calisanlar){\n",
        "    for(ii in mod){\n",
        "        cat(i, ii, \"\\n\")\n",
        "    }\n",
        "}"
      ],
      "metadata": {
        "colab": {
          "base_uri": "https://localhost:8080/"
        },
        "id": "670-JfnZC2_k",
        "outputId": "d0e81cc8-579b-4fe1-9187-e0dc814128c7"
      },
      "execution_count": 30,
      "outputs": [
        {
          "output_type": "stream",
          "name": "stdout",
          "text": [
            "Ali MUTLU \n",
            "Ali MUTSUZ \n",
            "Bulent MUTLU \n",
            "Bulent MUTSUZ \n",
            "Ayşe MUTLU \n",
            "Ayşe MUTSUZ \n",
            "Mehmet MUTLU \n",
            "Mehmet MUTSUZ \n"
          ]
        }
      ]
    },
    {
      "cell_type": "markdown",
      "source": [
        "# Temel istatiksel fonksiyonlar"
      ],
      "metadata": {
        "id": "eGdr4H6ZEKDk"
      }
    },
    {
      "cell_type": "code",
      "source": [
        "data <- c(24, 16, 12, 10, 28, 38, 12, 28, 24)\n",
        "# data veya data seti hakkında özet istatistiki bilgiler için\n",
        "summary(data)"
      ],
      "metadata": {
        "colab": {
          "base_uri": "https://localhost:8080/",
          "height": 54
        },
        "id": "02jsDv6QEPbK",
        "outputId": "53d0385e-a2b1-4c7a-abd8-5d377ad9f791"
      },
      "execution_count": 31,
      "outputs": [
        {
          "output_type": "display_data",
          "data": {
            "text/plain": [
              "   Min. 1st Qu.  Median    Mean 3rd Qu.    Max. \n",
              "  10.00   12.00   24.00   21.33   28.00   38.00 "
            ]
          },
          "metadata": {}
        }
      ]
    },
    {
      "cell_type": "code",
      "source": [
        "min(data)"
      ],
      "metadata": {
        "colab": {
          "base_uri": "https://localhost:8080/",
          "height": 34
        },
        "id": "mCSlHETFEsNb",
        "outputId": "ed158ccb-fd68-4846-aa84-7779b6cd9bac"
      },
      "execution_count": 32,
      "outputs": [
        {
          "output_type": "display_data",
          "data": {
            "text/html": [
              "10"
            ],
            "text/markdown": "10",
            "text/latex": "10",
            "text/plain": [
              "[1] 10"
            ]
          },
          "metadata": {}
        }
      ]
    },
    {
      "cell_type": "code",
      "source": [
        "max(data)"
      ],
      "metadata": {
        "colab": {
          "base_uri": "https://localhost:8080/",
          "height": 34
        },
        "id": "ch0oMWxcEu8h",
        "outputId": "e37f3b2a-24ad-4412-a3c0-6eeeae53baf2"
      },
      "execution_count": 33,
      "outputs": [
        {
          "output_type": "display_data",
          "data": {
            "text/html": [
              "38"
            ],
            "text/markdown": "38",
            "text/latex": "38",
            "text/plain": [
              "[1] 38"
            ]
          },
          "metadata": {}
        }
      ]
    },
    {
      "cell_type": "code",
      "source": [
        "range(data) # min max değerlerini birlikte verir"
      ],
      "metadata": {
        "colab": {
          "base_uri": "https://localhost:8080/",
          "height": 34
        },
        "id": "G6tksvbDExPT",
        "outputId": "9f31acbe-afbe-407a-8989-542d09264204"
      },
      "execution_count": 34,
      "outputs": [
        {
          "output_type": "display_data",
          "data": {
            "text/html": [
              "<style>\n",
              ".list-inline {list-style: none; margin:0; padding: 0}\n",
              ".list-inline>li {display: inline-block}\n",
              ".list-inline>li:not(:last-child)::after {content: \"\\00b7\"; padding: 0 .5ex}\n",
              "</style>\n",
              "<ol class=list-inline><li>10</li><li>38</li></ol>\n"
            ],
            "text/markdown": "1. 10\n2. 38\n\n\n",
            "text/latex": "\\begin{enumerate*}\n\\item 10\n\\item 38\n\\end{enumerate*}\n",
            "text/plain": [
              "[1] 10 38"
            ]
          },
          "metadata": {}
        }
      ]
    },
    {
      "cell_type": "code",
      "source": [
        "median(data)"
      ],
      "metadata": {
        "colab": {
          "base_uri": "https://localhost:8080/",
          "height": 34
        },
        "id": "AQeq-WXoE2PS",
        "outputId": "79c6dd21-47a0-4bea-e5c7-92417728696f"
      },
      "execution_count": 35,
      "outputs": [
        {
          "output_type": "display_data",
          "data": {
            "text/html": [
              "24"
            ],
            "text/markdown": "24",
            "text/latex": "24",
            "text/plain": [
              "[1] 24"
            ]
          },
          "metadata": {}
        }
      ]
    },
    {
      "cell_type": "code",
      "source": [
        "mean(data)"
      ],
      "metadata": {
        "colab": {
          "base_uri": "https://localhost:8080/",
          "height": 34
        },
        "id": "eSIENIXuE5m7",
        "outputId": "3daa89b1-fe50-48d1-fbd7-c84a070d089e"
      },
      "execution_count": 36,
      "outputs": [
        {
          "output_type": "display_data",
          "data": {
            "text/html": [
              "21.3333333333333"
            ],
            "text/markdown": "21.3333333333333",
            "text/latex": "21.3333333333333",
            "text/plain": [
              "[1] 21.33333"
            ]
          },
          "metadata": {}
        }
      ]
    },
    {
      "cell_type": "code",
      "source": [
        "# sayısal loto\n",
        "sample(1:49, size=6) #6 örneklem alacağız"
      ],
      "metadata": {
        "colab": {
          "base_uri": "https://localhost:8080/",
          "height": 34
        },
        "id": "oRwRxcXQGF1T",
        "outputId": "fa1660ff-bd17-4d55-aa07-a6d18d860016"
      },
      "execution_count": 48,
      "outputs": [
        {
          "output_type": "display_data",
          "data": {
            "text/html": [
              "<style>\n",
              ".list-inline {list-style: none; margin:0; padding: 0}\n",
              ".list-inline>li {display: inline-block}\n",
              ".list-inline>li:not(:last-child)::after {content: \"\\00b7\"; padding: 0 .5ex}\n",
              "</style>\n",
              "<ol class=list-inline><li>46</li><li>10</li><li>7</li><li>9</li><li>15</li><li>21</li></ol>\n"
            ],
            "text/markdown": "1. 46\n2. 10\n3. 7\n4. 9\n5. 15\n6. 21\n\n\n",
            "text/latex": "\\begin{enumerate*}\n\\item 46\n\\item 10\n\\item 7\n\\item 9\n\\item 15\n\\item 21\n\\end{enumerate*}\n",
            "text/plain": [
              "[1] 46 10  7  9 15 21"
            ]
          },
          "metadata": {}
        }
      ]
    },
    {
      "cell_type": "code",
      "source": [
        "sample(1:49, size=6, replace = FALSE)"
      ],
      "metadata": {
        "colab": {
          "base_uri": "https://localhost:8080/",
          "height": 34
        },
        "id": "S1kJWkE4GhrD",
        "outputId": "43bde0b6-e960-4eb8-e434-caef1a172c70"
      },
      "execution_count": 42,
      "outputs": [
        {
          "output_type": "display_data",
          "data": {
            "text/html": [
              "<style>\n",
              ".list-inline {list-style: none; margin:0; padding: 0}\n",
              ".list-inline>li {display: inline-block}\n",
              ".list-inline>li:not(:last-child)::after {content: \"\\00b7\"; padding: 0 .5ex}\n",
              "</style>\n",
              "<ol class=list-inline><li>49</li><li>15</li><li>23</li><li>22</li><li>9</li><li>12</li></ol>\n"
            ],
            "text/markdown": "1. 49\n2. 15\n3. 23\n4. 22\n5. 9\n6. 12\n\n\n",
            "text/latex": "\\begin{enumerate*}\n\\item 49\n\\item 15\n\\item 23\n\\item 22\n\\item 9\n\\item 12\n\\end{enumerate*}\n",
            "text/plain": [
              "[1] 49 15 23 22  9 12"
            ]
          },
          "metadata": {}
        }
      ]
    },
    {
      "cell_type": "code",
      "source": [
        "# sayısal loto\n",
        "sample(1:49, size=6, replace = TRUE) # 6 örneklem alacağız ama tekrarlı sayılar olabilir"
      ],
      "metadata": {
        "colab": {
          "base_uri": "https://localhost:8080/",
          "height": 34
        },
        "id": "E41uxpIbGTwq",
        "outputId": "94241109-bab3-4064-8ce9-959bebe999b3"
      },
      "execution_count": 40,
      "outputs": [
        {
          "output_type": "display_data",
          "data": {
            "text/html": [
              "<style>\n",
              ".list-inline {list-style: none; margin:0; padding: 0}\n",
              ".list-inline>li {display: inline-block}\n",
              ".list-inline>li:not(:last-child)::after {content: \"\\00b7\"; padding: 0 .5ex}\n",
              "</style>\n",
              "<ol class=list-inline><li>2</li><li>2</li><li>2</li><li>38</li><li>31</li><li>40</li></ol>\n"
            ],
            "text/markdown": "1. 2\n2. 2\n3. 2\n4. 38\n5. 31\n6. 40\n\n\n",
            "text/latex": "\\begin{enumerate*}\n\\item 2\n\\item 2\n\\item 2\n\\item 38\n\\item 31\n\\item 40\n\\end{enumerate*}\n",
            "text/plain": [
              "[1]  2  2  2 38 31 40"
            ]
          },
          "metadata": {}
        }
      ]
    },
    {
      "cell_type": "code",
      "source": [
        "# Hep aynı sayılar üretilsin isteniyorsa\n",
        "set.seed(5)\n",
        "sample(1:49, size=6)"
      ],
      "metadata": {
        "colab": {
          "base_uri": "https://localhost:8080/",
          "height": 34
        },
        "id": "Vchaz3WPGn4c",
        "outputId": "4ea8e728-c98f-4bb9-bc9d-61b3835a5156"
      },
      "execution_count": 51,
      "outputs": [
        {
          "output_type": "display_data",
          "data": {
            "text/html": [
              "<style>\n",
              ".list-inline {list-style: none; margin:0; padding: 0}\n",
              ".list-inline>li {display: inline-block}\n",
              ".list-inline>li:not(:last-child)::after {content: \"\\00b7\"; padding: 0 .5ex}\n",
              "</style>\n",
              "<ol class=list-inline><li>2</li><li>43</li><li>15</li><li>11</li><li>41</li><li>21</li></ol>\n"
            ],
            "text/markdown": "1. 2\n2. 43\n3. 15\n4. 11\n5. 41\n6. 21\n\n\n",
            "text/latex": "\\begin{enumerate*}\n\\item 2\n\\item 43\n\\item 15\n\\item 11\n\\item 41\n\\item 21\n\\end{enumerate*}\n",
            "text/plain": [
              "[1]  2 43 15 11 41 21"
            ]
          },
          "metadata": {}
        }
      ]
    },
    {
      "cell_type": "code",
      "source": [
        "# Zar atışı : unifrom dağılıma örnek\n",
        "# set.seed(1)\n",
        "# Bir zarın 10.000 kez atıldığında 1-6 arası gelme olasılığı nedir?\n",
        "zarAtislari <- runif(n=10000, min=1, max=6)\n",
        "print(\"Zar Atışı\")\n",
        "# histogram grafiği ile gösterelim\n",
        "hist(zarAtislari)"
      ],
      "metadata": {
        "colab": {
          "base_uri": "https://localhost:8080/",
          "height": 455
        },
        "id": "xUwKY0YtHYXq",
        "outputId": "b019445b-5cf6-4e35-f533-6890bd70e163"
      },
      "execution_count": 54,
      "outputs": [
        {
          "output_type": "stream",
          "name": "stdout",
          "text": [
            "[1] \"Zar Atışı\"\n"
          ]
        },
        {
          "output_type": "display_data",
          "data": {
            "text/plain": [
              "Plot with title “Histogram of zarAtislari”"
            ],
            "image/png": "[encoded data removed]"
          },
          "metadata": {
            "image/png": {
              "width": 420,
              "height": 420
            }
          }
        }
      ]
    },
    {
      "cell_type": "code",
      "source": [
        "# 0rtalama notu 70 ve standart sapması 5 olan rastgele 100 öğrenci notunun normal dağılımını\n",
        "# histogram ile gösterelim.\n",
        "#set.seed(3)\n",
        "ortalama = 70\n",
        "standart_sapma = 5\n",
        "ogr_not = 100\n",
        "# normal dağılıma göre notların random üretilmesi isteniyor\n",
        "not_datasi <- round(rnorm(n=ogr_not, mean=ortalama, sd=standart_sapma))\n",
        "# histogram grafiği ile gösterelim\n",
        "hist(not_datasi, main= \"Öğrenci Notları\", xlab = \"Notlar\", ylab=\"Frekans\", col = \"blue\")\n"
      ],
      "metadata": {
        "colab": {
          "base_uri": "https://localhost:8080/",
          "height": 437
        },
        "id": "c-1greyfIoNI",
        "outputId": "f1517495-0a67-45a6-cda7-6d0e852e2aa2"
      },
      "execution_count": 76,
      "outputs": [
        {
          "output_type": "display_data",
          "data": {
            "text/plain": [
              "Plot with title “Öğrenci Notları”"
            ],
            "image/png": "[encoded data removed]"
          },
          "metadata": {
            "image/png": {
              "width": 420,
              "height": 420
            }
          }
        }
      ]
    },
    {
      "cell_type": "code",
      "source": [
        "# 65-75 arası not alan yaklaşık kaç kişi vardır? (mean = 70, sd=5)\n",
        "not_datasi[not_datasi>65 & not_datasi<75]"
      ],
      "metadata": {
        "colab": {
          "base_uri": "https://localhost:8080/",
          "height": 69
        },
        "id": "nsWdO02YOz6F",
        "outputId": "c0849084-9f80-4cf0-f9d5-7bf679f1953f"
      },
      "execution_count": 74,
      "outputs": [
        {
          "output_type": "display_data",
          "data": {
            "text/html": [
              "<style>\n",
              ".list-inline {list-style: none; margin:0; padding: 0}\n",
              ".list-inline>li {display: inline-block}\n",
              ".list-inline>li:not(:last-child)::after {content: \"\\00b7\"; padding: 0 .5ex}\n",
              "</style>\n",
              "<ol class=list-inline><li>74</li><li>71</li><li>72</li><li>72</li><li>69</li><li>72</li><li>73</li><li>68</li><li>69</li><li>74</li><li>68</li><li>66</li><li>67</li><li>71</li><li>66</li><li>68</li><li>68</li><li>74</li><li>72</li><li>71</li><li>69</li><li>70</li><li>67</li><li>68</li><li>70</li><li>68</li><li>68</li><li>72</li><li>70</li><li>71</li><li>70</li><li>71</li><li>69</li><li>69</li><li>73</li><li>70</li><li>72</li><li>71</li><li>73</li><li>69</li><li>70</li><li>70</li><li>70</li><li>73</li><li>74</li><li>66</li><li>70</li><li>69</li><li>70</li><li>70</li><li>73</li><li>71</li><li>69</li><li>73</li><li>68</li><li>66</li><li>68</li><li>73</li><li>67</li><li>68</li><li>74</li><li>74</li><li>70</li></ol>\n"
            ],
            "text/markdown": "1. 74\n2. 71\n3. 72\n4. 72\n5. 69\n6. 72\n7. 73\n8. 68\n9. 69\n10. 74\n11. 68\n12. 66\n13. 67\n14. 71\n15. 66\n16. 68\n17. 68\n18. 74\n19. 72\n20. 71\n21. 69\n22. 70\n23. 67\n24. 68\n25. 70\n26. 68\n27. 68\n28. 72\n29. 70\n30. 71\n31. 70\n32. 71\n33. 69\n34. 69\n35. 73\n36. 70\n37. 72\n38. 71\n39. 73\n40. 69\n41. 70\n42. 70\n43. 70\n44. 73\n45. 74\n46. 66\n47. 70\n48. 69\n49. 70\n50. 70\n51. 73\n52. 71\n53. 69\n54. 73\n55. 68\n56. 66\n57. 68\n58. 73\n59. 67\n60. 68\n61. 74\n62. 74\n63. 70\n\n\n",
            "text/latex": "\\begin{enumerate*}\n\\item 74\n\\item 71\n\\item 72\n\\item 72\n\\item 69\n\\item 72\n\\item 73\n\\item 68\n\\item 69\n\\item 74\n\\item 68\n\\item 66\n\\item 67\n\\item 71\n\\item 66\n\\item 68\n\\item 68\n\\item 74\n\\item 72\n\\item 71\n\\item 69\n\\item 70\n\\item 67\n\\item 68\n\\item 70\n\\item 68\n\\item 68\n\\item 72\n\\item 70\n\\item 71\n\\item 70\n\\item 71\n\\item 69\n\\item 69\n\\item 73\n\\item 70\n\\item 72\n\\item 71\n\\item 73\n\\item 69\n\\item 70\n\\item 70\n\\item 70\n\\item 73\n\\item 74\n\\item 66\n\\item 70\n\\item 69\n\\item 70\n\\item 70\n\\item 73\n\\item 71\n\\item 69\n\\item 73\n\\item 68\n\\item 66\n\\item 68\n\\item 73\n\\item 67\n\\item 68\n\\item 74\n\\item 74\n\\item 70\n\\end{enumerate*}\n",
            "text/plain": [
              " [1] 74 71 72 72 69 72 73 68 69 74 68 66 67 71 66 68 68 74 72 71 69 70 67 68 70\n",
              "[26] 68 68 72 70 71 70 71 69 69 73 70 72 71 73 69 70 70 70 73 74 66 70 69 70 70\n",
              "[51] 73 71 69 73 68 66 68 73 67 68 74 74 70"
            ]
          },
          "metadata": {}
        }
      ]
    },
    {
      "cell_type": "code",
      "source": [
        "length(not_datasi[not_datasi>65 & not_datasi<75])"
      ],
      "metadata": {
        "colab": {
          "base_uri": "https://localhost:8080/",
          "height": 34
        },
        "id": "wTOte3-WPaJd",
        "outputId": "3faf74c8-7bfa-453d-8db8-3d138efc2536"
      },
      "execution_count": 77,
      "outputs": [
        {
          "output_type": "display_data",
          "data": {
            "text/html": [
              "67"
            ],
            "text/markdown": "67",
            "text/latex": "67",
            "text/plain": [
              "[1] 67"
            ]
          },
          "metadata": {}
        }
      ]
    },
    {
      "cell_type": "code",
      "source": [
        "# sample örneği\n",
        "notlar <- round(runif(20, min=1, max=100))\n",
        "# 50 den yüksek olanlar\n",
        "notlar_50 <- notlar[notlar>50]\n",
        "print(notlar_50)\n",
        "# rastgele 5 tanesi seç\n",
        "notlar50 <- sample(notlar_50, size=5)\n",
        "notlar50"
      ],
      "metadata": {
        "colab": {
          "base_uri": "https://localhost:8080/",
          "height": 53
        },
        "id": "YxwxJXXKRX9l",
        "outputId": "4346d3c3-8c5b-49d9-eb88-a6da1ae205c1"
      },
      "execution_count": 84,
      "outputs": [
        {
          "output_type": "stream",
          "name": "stdout",
          "text": [
            "[1] 57 72 70 99 99 96 54 58 69\n"
          ]
        },
        {
          "output_type": "display_data",
          "data": {
            "text/html": [
              "<style>\n",
              ".list-inline {list-style: none; margin:0; padding: 0}\n",
              ".list-inline>li {display: inline-block}\n",
              ".list-inline>li:not(:last-child)::after {content: \"\\00b7\"; padding: 0 .5ex}\n",
              "</style>\n",
              "<ol class=list-inline><li>70</li><li>99</li><li>99</li><li>69</li><li>54</li></ol>\n"
            ],
            "text/markdown": "1. 70\n2. 99\n3. 99\n4. 69\n5. 54\n\n\n",
            "text/latex": "\\begin{enumerate*}\n\\item 70\n\\item 99\n\\item 99\n\\item 69\n\\item 54\n\\end{enumerate*}\n",
            "text/plain": [
              "[1] 70 99 99 69 54"
            ]
          },
          "metadata": {}
        }
      ]
    },
    {
      "cell_type": "markdown",
      "source": [
        "# Fonksiyon Tanımlama"
      ],
      "metadata": {
        "id": "7PBIo7weUCTE"
      }
    },
    {
      "cell_type": "code",
      "source": [
        "hipotenus <- function(a,b){\n",
        "    c <- sqrt(a^2 + b^2)\n",
        "    return (c)\n",
        "}\n",
        "# fonksiyonu çağıralım\n",
        "hipotenus(3,4)"
      ],
      "metadata": {
        "colab": {
          "base_uri": "https://localhost:8080/",
          "height": 34
        },
        "id": "3uj9t_dmUBwA",
        "outputId": "cf1c3cfa-b125-46d9-acfe-3c2a5b15978d"
      },
      "execution_count": 85,
      "outputs": [
        {
          "output_type": "display_data",
          "data": {
            "text/html": [
              "5"
            ],
            "text/markdown": "5",
            "text/latex": "5",
            "text/plain": [
              "[1] 5"
            ]
          },
          "metadata": {}
        }
      ]
    },
    {
      "cell_type": "code",
      "source": [
        "carp <- function(a,b){\n",
        "    return a*b\n",
        "}\n",
        "# fonksiyonu çağıralım\n",
        "carp(3,4)"
      ],
      "metadata": {
        "colab": {
          "base_uri": "https://localhost:8080/",
          "height": 164
        },
        "id": "yYgRv6CH0mwD",
        "outputId": "56e2018c-b8c5-4d81-b8f6-4735c8326858"
      },
      "execution_count": 138,
      "outputs": [
        {
          "output_type": "error",
          "ename": "ERROR",
          "evalue": "ignored",
          "traceback": [
            "Error in parse(text = x, srcfile = src): <text>:2:12: unexpected symbol\n1: carp <- function(a,b){\n2:     return a\n              ^\nTraceback:\n"
          ]
        }
      ]
    },
    {
      "cell_type": "code",
      "source": [
        "carp <- function(a,b){\n",
        "    return(a*b)\n",
        "}\n",
        "# fonksiyonu çağıralım\n",
        "carp(3,4)"
      ],
      "metadata": {
        "colab": {
          "base_uri": "https://localhost:8080/",
          "height": 34
        },
        "id": "8O3l8-WBUax6",
        "outputId": "72bc9cad-2e05-4cee-d618-bc28f6346f02"
      },
      "execution_count": 86,
      "outputs": [
        {
          "output_type": "display_data",
          "data": {
            "text/html": [
              "12"
            ],
            "text/markdown": "12",
            "text/latex": "12",
            "text/plain": [
              "[1] 12"
            ]
          },
          "metadata": {}
        }
      ]
    },
    {
      "cell_type": "code",
      "source": [
        "carp(-3, 2.4)"
      ],
      "metadata": {
        "colab": {
          "base_uri": "https://localhost:8080/",
          "height": 34
        },
        "id": "_4_AmrB2UisS",
        "outputId": "8bed76bb-95e7-499c-f033-ebeaaa3dc519"
      },
      "execution_count": 87,
      "outputs": [
        {
          "output_type": "display_data",
          "data": {
            "text/html": [
              "-7.2"
            ],
            "text/markdown": "-7.2",
            "text/latex": "-7.2",
            "text/plain": [
              "[1] -7.2"
            ]
          },
          "metadata": {}
        }
      ]
    },
    {
      "cell_type": "code",
      "source": [
        "isTekCift <- function(vektor){ # xx -> vektor\n",
        "    result <- ifelse(vektor%%2==0, \"ÇİFT\", \"TEK\")\n",
        "    return (result)\n",
        "}\n",
        "\n",
        "# fonksiyonu çağıralım\n",
        "xx <- c(8, 3, 4, 5, 6, 7)\n",
        "yy <- isTekCift(xx)\n",
        "yy\n"
      ],
      "metadata": {
        "colab": {
          "base_uri": "https://localhost:8080/",
          "height": 34
        },
        "id": "Zj8U0lZeVEkD",
        "outputId": "b3b1afe3-3fef-4b1f-c040-797648dae73f"
      },
      "execution_count": 89,
      "outputs": [
        {
          "output_type": "display_data",
          "data": {
            "text/html": [
              "<style>\n",
              ".list-inline {list-style: none; margin:0; padding: 0}\n",
              ".list-inline>li {display: inline-block}\n",
              ".list-inline>li:not(:last-child)::after {content: \"\\00b7\"; padding: 0 .5ex}\n",
              "</style>\n",
              "<ol class=list-inline><li>'ÇİFT'</li><li>'TEK'</li><li>'ÇİFT'</li><li>'TEK'</li><li>'ÇİFT'</li><li>'TEK'</li></ol>\n"
            ],
            "text/markdown": "1. 'ÇİFT'\n2. 'TEK'\n3. 'ÇİFT'\n4. 'TEK'\n5. 'ÇİFT'\n6. 'TEK'\n\n\n",
            "text/latex": "\\begin{enumerate*}\n\\item 'ÇİFT'\n\\item 'TEK'\n\\item 'ÇİFT'\n\\item 'TEK'\n\\item 'ÇİFT'\n\\item 'TEK'\n\\end{enumerate*}\n",
            "text/plain": [
              "[1] \"ÇİFT\" \"TEK\"  \"ÇİFT\" \"TEK\"  \"ÇİFT\" \"TEK\" "
            ]
          },
          "metadata": {}
        }
      ]
    },
    {
      "cell_type": "code",
      "source": [
        "\"%strMul%\" <- function(string, num){\n",
        "    sonuc <- rep(string, times=num)\n",
        "    return (sonuc)\n",
        "}\n",
        "# fonksiyondan özel operatör üretme\n",
        "\"ali \" %strMul% 5"
      ],
      "metadata": {
        "colab": {
          "base_uri": "https://localhost:8080/",
          "height": 34
        },
        "id": "Mxb_RY8kWguK",
        "outputId": "71fd76bd-7721-4e97-e918-69998bd89664"
      },
      "execution_count": 91,
      "outputs": [
        {
          "output_type": "display_data",
          "data": {
            "text/html": [
              "<style>\n",
              ".list-inline {list-style: none; margin:0; padding: 0}\n",
              ".list-inline>li {display: inline-block}\n",
              ".list-inline>li:not(:last-child)::after {content: \"\\00b7\"; padding: 0 .5ex}\n",
              "</style>\n",
              "<ol class=list-inline><li>'ali '</li><li>'ali '</li><li>'ali '</li><li>'ali '</li><li>'ali '</li></ol>\n"
            ],
            "text/markdown": "1. 'ali '\n2. 'ali '\n3. 'ali '\n4. 'ali '\n5. 'ali '\n\n\n",
            "text/latex": "\\begin{enumerate*}\n\\item 'ali '\n\\item 'ali '\n\\item 'ali '\n\\item 'ali '\n\\item 'ali '\n\\end{enumerate*}\n",
            "text/plain": [
              "[1] \"ali \" \"ali \" \"ali \" \"ali \" \"ali \""
            ]
          },
          "metadata": {}
        }
      ]
    },
    {
      "cell_type": "code",
      "source": [
        "\"%strMul%\"('R dili', 6) #infix operatör"
      ],
      "metadata": {
        "colab": {
          "base_uri": "https://localhost:8080/",
          "height": 34
        },
        "id": "n4CcmNWPXFj7",
        "outputId": "ef06a589-4399-4f8a-d5e1-0d3263647526"
      },
      "execution_count": 93,
      "outputs": [
        {
          "output_type": "display_data",
          "data": {
            "text/html": [
              "<style>\n",
              ".list-inline {list-style: none; margin:0; padding: 0}\n",
              ".list-inline>li {display: inline-block}\n",
              ".list-inline>li:not(:last-child)::after {content: \"\\00b7\"; padding: 0 .5ex}\n",
              "</style>\n",
              "<ol class=list-inline><li>'R dili'</li><li>'R dili'</li><li>'R dili'</li><li>'R dili'</li><li>'R dili'</li><li>'R dili'</li></ol>\n"
            ],
            "text/markdown": "1. 'R dili'\n2. 'R dili'\n3. 'R dili'\n4. 'R dili'\n5. 'R dili'\n6. 'R dili'\n\n\n",
            "text/latex": "\\begin{enumerate*}\n\\item 'R dili'\n\\item 'R dili'\n\\item 'R dili'\n\\item 'R dili'\n\\item 'R dili'\n\\item 'R dili'\n\\end{enumerate*}\n",
            "text/plain": [
              "[1] \"R dili\" \"R dili\" \"R dili\" \"R dili\" \"R dili\" \"R dili\""
            ]
          },
          "metadata": {}
        }
      ]
    },
    {
      "cell_type": "code",
      "source": [
        "# Lambda (anonim) fonksiyon:\n",
        "# Lambda içerisinde return kullanılmaz\n",
        "carpim <- function(a,b) a*b\n",
        "# fonksiyonu çağıralım\n",
        "carpim(3,4)"
      ],
      "metadata": {
        "colab": {
          "base_uri": "https://localhost:8080/",
          "height": 34
        },
        "id": "vFAnAnfhbtGB",
        "outputId": "4bf2d1fd-c472-4122-8c75-f4fd2009d73d"
      },
      "execution_count": 95,
      "outputs": [
        {
          "output_type": "display_data",
          "data": {
            "text/html": [
              "12"
            ],
            "text/markdown": "12",
            "text/latex": "12",
            "text/plain": [
              "[1] 12"
            ]
          },
          "metadata": {}
        }
      ]
    },
    {
      "cell_type": "code",
      "source": [
        "# recursive function : kendi kendine atıfta bulunan fonksiyon\n",
        "faktoriyel <- function(n) {\n",
        "if (n == 0) {\n",
        "return(1) # 0! = 1 : durdurma koşulu\n",
        "} else {\n",
        "return(n * faktoriyel(n - 1)) # 5! = 5*4! = 5*4*3! ...\n",
        "}\n",
        "}\n",
        "\n",
        "#fonksiyonu çağıralım:\n",
        "faktoriyel(5)"
      ],
      "metadata": {
        "colab": {
          "base_uri": "https://localhost:8080/",
          "height": 34
        },
        "id": "94725buMcSPt",
        "outputId": "8c69d716-180d-41cb-dc10-5a87c726335f"
      },
      "execution_count": 96,
      "outputs": [
        {
          "output_type": "display_data",
          "data": {
            "text/html": [
              "120"
            ],
            "text/markdown": "120",
            "text/latex": "120",
            "text/plain": [
              "[1] 120"
            ]
          },
          "metadata": {}
        }
      ]
    },
    {
      "cell_type": "code",
      "source": [
        "# iç içe fonksiyonu tek satıra indirgeme (lambda haline)\n",
        "dis_fonksiyon <- function(a,b){\n",
        "    ic_fonksiyon <- function(x,y){\n",
        "        return(x*y)\n",
        "    }\n",
        "    sonuc <- ic_fonksiyon(a,b)\n",
        "    return(sonuc)\n",
        "}\n",
        "# çağıralım\n",
        "dis_fonksiyon(3,5)"
      ],
      "metadata": {
        "colab": {
          "base_uri": "https://localhost:8080/",
          "height": 34
        },
        "id": "gQNpf9jKdDk1",
        "outputId": "f5839e1e-a264-4f66-ae9a-16313fac7727"
      },
      "execution_count": 97,
      "outputs": [
        {
          "output_type": "display_data",
          "data": {
            "text/html": [
              "15"
            ],
            "text/markdown": "15",
            "text/latex": "15",
            "text/plain": [
              "[1] 15"
            ]
          },
          "metadata": {}
        }
      ]
    },
    {
      "cell_type": "code",
      "source": [
        "sonuc <- (function(a,b) (function(x,y) x*y) (a,b)) (3,5)\n",
        "sonuc"
      ],
      "metadata": {
        "colab": {
          "base_uri": "https://localhost:8080/",
          "height": 34
        },
        "id": "AeAsGSbndi4v",
        "outputId": "7a3aef7a-7aa6-4b05-df38-587fc4afa604"
      },
      "execution_count": 98,
      "outputs": [
        {
          "output_type": "display_data",
          "data": {
            "text/html": [
              "15"
            ],
            "text/markdown": "15",
            "text/latex": "15",
            "text/plain": [
              "[1] 15"
            ]
          },
          "metadata": {}
        }
      ]
    },
    {
      "cell_type": "code",
      "source": [
        "# R-> LEGB kuralı\n",
        "var = 30\n",
        "kapsayan_f<-function() {\n",
        "    var <- 20\n",
        "    local_f<-function(){\n",
        "        var <- 10\n",
        "        print(var)\n",
        "    }\n",
        "    local_f()\n",
        "    print(var)\n",
        "}\n",
        "\n",
        "kapsayan_f()\n",
        "print(var)\n"
      ],
      "metadata": {
        "colab": {
          "base_uri": "https://localhost:8080/"
        },
        "id": "ACN7LLGRfWu_",
        "outputId": "6d738143-69a4-4386-f11b-f61940f3aa95"
      },
      "execution_count": 99,
      "outputs": [
        {
          "output_type": "stream",
          "name": "stdout",
          "text": [
            "[1] 10\n",
            "[1] 20\n",
            "[1] 30\n"
          ]
        }
      ]
    },
    {
      "cell_type": "code",
      "source": [
        "# local değeri globale taşımak istediğimzde \"<<-\" kullanılır\n",
        "# R-> LEGB kuralı\n",
        "var = 30\n",
        "kapsayan_f<-function() {\n",
        "    var <<- 20\n",
        "    local_f<-function(){\n",
        "        var <<- 10\n",
        "        print(var)\n",
        "    }\n",
        "    local_f()\n",
        "    print(var)\n",
        "}\n",
        "\n",
        "kapsayan_f()\n",
        "print(var)"
      ],
      "metadata": {
        "colab": {
          "base_uri": "https://localhost:8080/"
        },
        "id": "iwxIzNU8f7_4",
        "outputId": "985c48db-f92e-4318-8137-7a3b2b57ed16"
      },
      "execution_count": 100,
      "outputs": [
        {
          "output_type": "stream",
          "name": "stdout",
          "text": [
            "[1] 10\n",
            "[1] 10\n",
            "[1] 10\n"
          ]
        }
      ]
    },
    {
      "cell_type": "code",
      "source": [
        "# local değeri globale taşımak istediğimzde \"<<-\" kullanılır\n",
        "# R-> LEGB kuralı\n",
        "var = 30\n",
        "kapsayan_f<-function() {\n",
        "    var <- 20\n",
        "    local_f<-function(){\n",
        "        var <<- 10\n",
        "        print(var)\n",
        "    }\n",
        "    local_f()\n",
        "    print(var)\n",
        "}\n",
        "\n",
        "kapsayan_f()\n",
        "print(var)"
      ],
      "metadata": {
        "colab": {
          "base_uri": "https://localhost:8080/"
        },
        "id": "HsFkVY_kgKJL",
        "outputId": "09018452-d391-4dd8-effc-c99160f8139d"
      },
      "execution_count": 101,
      "outputs": [
        {
          "output_type": "stream",
          "name": "stdout",
          "text": [
            "[1] 10\n",
            "[1] 10\n",
            "[1] 30\n"
          ]
        }
      ]
    },
    {
      "cell_type": "code",
      "source": [
        "# local değeri globale taşımak istediğimzde \"<<-\" kullanılır\n",
        "# R-> LEGB kuralı\n",
        "var = 30\n",
        "kapsayan_f<-function() {\n",
        "    var <<- 20\n",
        "    local_f<-function(){\n",
        "        var <- 10\n",
        "        print(var)\n",
        "    }\n",
        "    local_f()\n",
        "    print(var)\n",
        "}\n",
        "\n",
        "kapsayan_f()\n",
        "print(var)"
      ],
      "metadata": {
        "colab": {
          "base_uri": "https://localhost:8080/"
        },
        "id": "Z85L4q3wgRCr",
        "outputId": "795160d9-846a-4eae-daec-6d90baa9f7a7"
      },
      "execution_count": 102,
      "outputs": [
        {
          "output_type": "stream",
          "name": "stdout",
          "text": [
            "[1] 10\n",
            "[1] 20\n",
            "[1] 20\n"
          ]
        }
      ]
    },
    {
      "cell_type": "markdown",
      "source": [
        "#apply ailesi"
      ],
      "metadata": {
        "id": "I11OT_KmhY9n"
      }
    },
    {
      "cell_type": "code",
      "source": [
        "apropos(\"apply\")"
      ],
      "metadata": {
        "colab": {
          "base_uri": "https://localhost:8080/",
          "height": 34
        },
        "id": "7nL8VmABhHmP",
        "outputId": "1c1c4152-88e4-44a9-f4a3-7b823d23a351"
      },
      "execution_count": 103,
      "outputs": [
        {
          "output_type": "display_data",
          "data": {
            "text/html": [
              "<style>\n",
              ".list-inline {list-style: none; margin:0; padding: 0}\n",
              ".list-inline>li {display: inline-block}\n",
              ".list-inline>li:not(:last-child)::after {content: \"\\00b7\"; padding: 0 .5ex}\n",
              "</style>\n",
              "<ol class=list-inline><li>'apply'</li><li>'dendrapply'</li><li>'eapply'</li><li>'kernapply'</li><li>'lapply'</li><li>'mapply'</li><li>'rapply'</li><li>'sapply'</li><li>'tapply'</li><li>'vapply'</li></ol>\n"
            ],
            "text/markdown": "1. 'apply'\n2. 'dendrapply'\n3. 'eapply'\n4. 'kernapply'\n5. 'lapply'\n6. 'mapply'\n7. 'rapply'\n8. 'sapply'\n9. 'tapply'\n10. 'vapply'\n\n\n",
            "text/latex": "\\begin{enumerate*}\n\\item 'apply'\n\\item 'dendrapply'\n\\item 'eapply'\n\\item 'kernapply'\n\\item 'lapply'\n\\item 'mapply'\n\\item 'rapply'\n\\item 'sapply'\n\\item 'tapply'\n\\item 'vapply'\n\\end{enumerate*}\n",
            "text/plain": [
              " [1] \"apply\"      \"dendrapply\" \"eapply\"     \"kernapply\"  \"lapply\"    \n",
              " [6] \"mapply\"     \"rapply\"     \"sapply\"     \"tapply\"     \"vapply\"    "
            ]
          },
          "metadata": {}
        }
      ]
    },
    {
      "cell_type": "code",
      "source": [
        "vekt <- c(1:10)\n",
        "new_vekt <- vector()  # boş bir vektör: tipi logical\n",
        "for (i in vekt){\n",
        "    new_vekt <- append(new_vekt, i+1)\n",
        "}\n",
        "\n",
        "new_vekt"
      ],
      "metadata": {
        "colab": {
          "base_uri": "https://localhost:8080/",
          "height": 34
        },
        "id": "KZZD_uc7hcIi",
        "outputId": "ebd5f2ff-33fd-4673-e2f7-458d4869e595"
      },
      "execution_count": 111,
      "outputs": [
        {
          "output_type": "display_data",
          "data": {
            "text/html": [
              "<style>\n",
              ".list-inline {list-style: none; margin:0; padding: 0}\n",
              ".list-inline>li {display: inline-block}\n",
              ".list-inline>li:not(:last-child)::after {content: \"\\00b7\"; padding: 0 .5ex}\n",
              "</style>\n",
              "<ol class=list-inline><li>2</li><li>3</li><li>4</li><li>5</li><li>6</li><li>7</li><li>8</li><li>9</li><li>10</li><li>11</li></ol>\n"
            ],
            "text/markdown": "1. 2\n2. 3\n3. 4\n4. 5\n5. 6\n6. 7\n7. 8\n8. 9\n9. 10\n10. 11\n\n\n",
            "text/latex": "\\begin{enumerate*}\n\\item 2\n\\item 3\n\\item 4\n\\item 5\n\\item 6\n\\item 7\n\\item 8\n\\item 9\n\\item 10\n\\item 11\n\\end{enumerate*}\n",
            "text/plain": [
              " [1]  2  3  4  5  6  7  8  9 10 11"
            ]
          },
          "metadata": {}
        }
      ]
    },
    {
      "cell_type": "code",
      "source": [
        "vekt <- c(1:10)\n",
        "new_vekt <- vector()  # boş bir vektör: tipi logical\n",
        "new_vekt <- sapply(vekt, function(i) i+1)\n",
        "new_vekt"
      ],
      "metadata": {
        "colab": {
          "base_uri": "https://localhost:8080/",
          "height": 34
        },
        "id": "1e_7K7s_iz0B",
        "outputId": "1fbf929c-ca81-4d50-d968-fd50407823da"
      },
      "execution_count": 113,
      "outputs": [
        {
          "output_type": "display_data",
          "data": {
            "text/html": [
              "<style>\n",
              ".list-inline {list-style: none; margin:0; padding: 0}\n",
              ".list-inline>li {display: inline-block}\n",
              ".list-inline>li:not(:last-child)::after {content: \"\\00b7\"; padding: 0 .5ex}\n",
              "</style>\n",
              "<ol class=list-inline><li>6</li><li>7</li><li>8</li><li>9</li><li>10</li><li>11</li><li>12</li><li>13</li><li>14</li><li>15</li></ol>\n"
            ],
            "text/markdown": "1. 6\n2. 7\n3. 8\n4. 9\n5. 10\n6. 11\n7. 12\n8. 13\n9. 14\n10. 15\n\n\n",
            "text/latex": "\\begin{enumerate*}\n\\item 6\n\\item 7\n\\item 8\n\\item 9\n\\item 10\n\\item 11\n\\item 12\n\\item 13\n\\item 14\n\\item 15\n\\end{enumerate*}\n",
            "text/plain": [
              " [1]  6  7  8  9 10 11 12 13 14 15"
            ]
          },
          "metadata": {}
        }
      ]
    },
    {
      "cell_type": "code",
      "source": [
        "vekt <- c(1:10)\n",
        "new_vekt <- sapply(vekt, function(i) i+1)\n",
        "new_vekt"
      ],
      "metadata": {
        "colab": {
          "base_uri": "https://localhost:8080/",
          "height": 34
        },
        "id": "w0jRPVLAjLjE",
        "outputId": "f160eec0-9ac7-4f5b-eb44-2006d653aa35"
      },
      "execution_count": 114,
      "outputs": [
        {
          "output_type": "display_data",
          "data": {
            "text/html": [
              "<style>\n",
              ".list-inline {list-style: none; margin:0; padding: 0}\n",
              ".list-inline>li {display: inline-block}\n",
              ".list-inline>li:not(:last-child)::after {content: \"\\00b7\"; padding: 0 .5ex}\n",
              "</style>\n",
              "<ol class=list-inline><li>2</li><li>3</li><li>4</li><li>5</li><li>6</li><li>7</li><li>8</li><li>9</li><li>10</li><li>11</li></ol>\n"
            ],
            "text/markdown": "1. 2\n2. 3\n3. 4\n4. 5\n5. 6\n6. 7\n7. 8\n8. 9\n9. 10\n10. 11\n\n\n",
            "text/latex": "\\begin{enumerate*}\n\\item 2\n\\item 3\n\\item 4\n\\item 5\n\\item 6\n\\item 7\n\\item 8\n\\item 9\n\\item 10\n\\item 11\n\\end{enumerate*}\n",
            "text/plain": [
              " [1]  2  3  4  5  6  7  8  9 10 11"
            ]
          },
          "metadata": {}
        }
      ]
    },
    {
      "cell_type": "code",
      "source": [
        "vekt <- vector() # boş bir vektör\n",
        "typeof(vekt)\n",
        "vekt_int <- c(5L, 6L, 3L, 9L, 2L)\n",
        "typeof(vekt_int)"
      ],
      "metadata": {
        "colab": {
          "base_uri": "https://localhost:8080/",
          "height": 52
        },
        "id": "QN3NTOV_2S12",
        "outputId": "a10dea9b-bbde-4679-fbdd-1b4eab8c999d"
      },
      "execution_count": 149,
      "outputs": [
        {
          "output_type": "display_data",
          "data": {
            "text/html": [
              "'logical'"
            ],
            "text/markdown": "'logical'",
            "text/latex": "'logical'",
            "text/plain": [
              "[1] \"logical\""
            ]
          },
          "metadata": {}
        },
        {
          "output_type": "display_data",
          "data": {
            "text/html": [
              "'integer'"
            ],
            "text/markdown": "'integer'",
            "text/latex": "'integer'",
            "text/plain": [
              "[1] \"integer\""
            ]
          },
          "metadata": {}
        }
      ]
    },
    {
      "cell_type": "code",
      "source": [
        "# character tipte boş bir vektör oluşturmak için\n",
        "empty_vec <- vector(\"character\", length=0)\n",
        "typeof(empty_vec)"
      ],
      "metadata": {
        "colab": {
          "base_uri": "https://localhost:8080/",
          "height": 34
        },
        "id": "vcCz-hBv4YdP",
        "outputId": "d7f7006c-fe10-48c9-f6f8-74dc02c96d0c"
      },
      "execution_count": 152,
      "outputs": [
        {
          "output_type": "display_data",
          "data": {
            "text/html": [
              "'character'"
            ],
            "text/markdown": "'character'",
            "text/latex": "'character'",
            "text/plain": [
              "[1] \"character\""
            ]
          },
          "metadata": {}
        }
      ]
    },
    {
      "cell_type": "code",
      "source": [
        "str(vekt_int)"
      ],
      "metadata": {
        "colab": {
          "base_uri": "https://localhost:8080/"
        },
        "id": "EOUpPvkU3I11",
        "outputId": "2ab3da00-c130-4a9f-c8f9-9f1817974efc"
      },
      "execution_count": 146,
      "outputs": [
        {
          "output_type": "stream",
          "name": "stdout",
          "text": [
            " int [1:5] 5 6 3 9 2\n"
          ]
        }
      ]
    },
    {
      "cell_type": "code",
      "source": [
        "vekt_dbl <- c(5L, 6L, 3L, 9L, 2)\n",
        "typeof(vekt_dbl)"
      ],
      "metadata": {
        "colab": {
          "base_uri": "https://localhost:8080/",
          "height": 34
        },
        "id": "qu9zhhLv2uy1",
        "outputId": "3cb74b08-e35c-4792-b686-6b25dbdbbd18"
      },
      "execution_count": 143,
      "outputs": [
        {
          "output_type": "display_data",
          "data": {
            "text/html": [
              "'double'"
            ],
            "text/markdown": "'double'",
            "text/latex": "'double'",
            "text/plain": [
              "[1] \"double\""
            ]
          },
          "metadata": {}
        }
      ]
    },
    {
      "cell_type": "code",
      "source": [
        "str(vekt_dbl) # hep veri tipini hemde içeriği verir"
      ],
      "metadata": {
        "colab": {
          "base_uri": "https://localhost:8080/"
        },
        "id": "H1l99gkD20bc",
        "outputId": "fc42fcc8-903b-408a-b4d1-5c6879af1f17"
      },
      "execution_count": 144,
      "outputs": [
        {
          "output_type": "stream",
          "name": "stdout",
          "text": [
            " num [1:5] 5 6 3 9 2\n"
          ]
        }
      ]
    },
    {
      "cell_type": "code",
      "source": [
        "vek_str <- c('a', \"ba\", \"baba\", 5, 3.14)\n",
        "vek_str # hepsini üst bir tipe dönüştürerek aynılaştırır."
      ],
      "metadata": {
        "colab": {
          "base_uri": "https://localhost:8080/",
          "height": 34
        },
        "id": "lMOgEaE53QrQ",
        "outputId": "771162b7-12bb-40d2-f7a2-e2282a65d293"
      },
      "execution_count": 147,
      "outputs": [
        {
          "output_type": "display_data",
          "data": {
            "text/html": [
              "<style>\n",
              ".list-inline {list-style: none; margin:0; padding: 0}\n",
              ".list-inline>li {display: inline-block}\n",
              ".list-inline>li:not(:last-child)::after {content: \"\\00b7\"; padding: 0 .5ex}\n",
              "</style>\n",
              "<ol class=list-inline><li>'a'</li><li>'ba'</li><li>'baba'</li><li>'5'</li><li>'3.14'</li></ol>\n"
            ],
            "text/markdown": "1. 'a'\n2. 'ba'\n3. 'baba'\n4. '5'\n5. '3.14'\n\n\n",
            "text/latex": "\\begin{enumerate*}\n\\item 'a'\n\\item 'ba'\n\\item 'baba'\n\\item '5'\n\\item '3.14'\n\\end{enumerate*}\n",
            "text/plain": [
              "[1] \"a\"    \"ba\"   \"baba\" \"5\"    \"3.14\""
            ]
          },
          "metadata": {}
        }
      ]
    },
    {
      "cell_type": "code",
      "source": [
        "str(vek_str)  # tipini ve içeriğini gösterir"
      ],
      "metadata": {
        "colab": {
          "base_uri": "https://localhost:8080/"
        },
        "id": "_D2Qzwed3jzg",
        "outputId": "4464d896-8357-4fed-bb9d-73a090da9ee6"
      },
      "execution_count": 148,
      "outputs": [
        {
          "output_type": "stream",
          "name": "stdout",
          "text": [
            " chr [1:5] \"a\" \"ba\" \"baba\" \"5\" \"3.14\"\n"
          ]
        }
      ]
    },
    {
      "cell_type": "code",
      "source": [
        "bool_nots <- c(92, TRUE, FALSE, 95, 77L, 92, 85L)  # tipi nedir?\n",
        "class(bool_nots)"
      ],
      "metadata": {
        "colab": {
          "base_uri": "https://localhost:8080/",
          "height": 34
        },
        "id": "Jamvm6WB4HS0",
        "outputId": "f03289e6-d511-4c6a-a10e-4d77251ac77b"
      },
      "execution_count": 150,
      "outputs": [
        {
          "output_type": "display_data",
          "data": {
            "text/html": [
              "'numeric'"
            ],
            "text/markdown": "'numeric'",
            "text/latex": "'numeric'",
            "text/plain": [
              "[1] \"numeric\""
            ]
          },
          "metadata": {}
        }
      ]
    },
    {
      "cell_type": "code",
      "source": [
        "# uzunluklar;\n",
        "vektor = c(\"Ne\", \"olursan\", \"ol\", \"R'a\", \"gel\", \"MEVLANA\")\n",
        "# karater/eleman sayısı:\n",
        "length(vektor)\n",
        "#her bir karakterin uzunluğu:\n",
        "nchar(vektor)"
      ],
      "metadata": {
        "colab": {
          "base_uri": "https://localhost:8080/",
          "height": 52
        },
        "id": "mPlxQaEA4_R3",
        "outputId": "93b408ed-213c-43bd-9cf7-0905c6cb7761"
      },
      "execution_count": 154,
      "outputs": [
        {
          "output_type": "display_data",
          "data": {
            "text/html": [
              "6"
            ],
            "text/markdown": "6",
            "text/latex": "6",
            "text/plain": [
              "[1] 6"
            ]
          },
          "metadata": {}
        },
        {
          "output_type": "display_data",
          "data": {
            "text/html": [
              "<style>\n",
              ".list-inline {list-style: none; margin:0; padding: 0}\n",
              ".list-inline>li {display: inline-block}\n",
              ".list-inline>li:not(:last-child)::after {content: \"\\00b7\"; padding: 0 .5ex}\n",
              "</style>\n",
              "<ol class=list-inline><li>2</li><li>7</li><li>2</li><li>3</li><li>3</li><li>7</li></ol>\n"
            ],
            "text/markdown": "1. 2\n2. 7\n3. 2\n4. 3\n5. 3\n6. 7\n\n\n",
            "text/latex": "\\begin{enumerate*}\n\\item 2\n\\item 7\n\\item 2\n\\item 3\n\\item 3\n\\item 7\n\\end{enumerate*}\n",
            "text/plain": [
              "[1] 2 7 2 3 3 7"
            ]
          },
          "metadata": {}
        }
      ]
    },
    {
      "cell_type": "code",
      "source": [
        "# bir vektörü ters çevirme : rev()\n",
        "rev(vektor)"
      ],
      "metadata": {
        "colab": {
          "base_uri": "https://localhost:8080/",
          "height": 34
        },
        "id": "Kt9X-Mym5inx",
        "outputId": "f5baf37e-c462-43a4-f988-193b86d6a3db"
      },
      "execution_count": 155,
      "outputs": [
        {
          "output_type": "display_data",
          "data": {
            "text/html": [
              "<style>\n",
              ".list-inline {list-style: none; margin:0; padding: 0}\n",
              ".list-inline>li {display: inline-block}\n",
              ".list-inline>li:not(:last-child)::after {content: \"\\00b7\"; padding: 0 .5ex}\n",
              "</style>\n",
              "<ol class=list-inline><li>'MEVLANA'</li><li>'gel'</li><li>'R\\'a'</li><li>'ol'</li><li>'olursan'</li><li>'Ne'</li></ol>\n"
            ],
            "text/markdown": "1. 'MEVLANA'\n2. 'gel'\n3. 'R\\'a'\n4. 'ol'\n5. 'olursan'\n6. 'Ne'\n\n\n",
            "text/latex": "\\begin{enumerate*}\n\\item 'MEVLANA'\n\\item 'gel'\n\\item 'R\\textbackslash{}'a'\n\\item 'ol'\n\\item 'olursan'\n\\item 'Ne'\n\\end{enumerate*}\n",
            "text/plain": [
              "[1] \"MEVLANA\" \"gel\"     \"R'a\"     \"ol\"      \"olursan\" \"Ne\"     "
            ]
          },
          "metadata": {}
        }
      ]
    },
    {
      "cell_type": "code",
      "source": [
        "sort(vektor)  # string'lerde büyük/küçük harf ayrımı yapmadan"
      ],
      "metadata": {
        "colab": {
          "base_uri": "https://localhost:8080/",
          "height": 34
        },
        "id": "ho-dZAkM5pEs",
        "outputId": "cab62b9c-dc73-457e-d5b4-5db072194898"
      },
      "execution_count": 156,
      "outputs": [
        {
          "output_type": "display_data",
          "data": {
            "text/html": [
              "<style>\n",
              ".list-inline {list-style: none; margin:0; padding: 0}\n",
              ".list-inline>li {display: inline-block}\n",
              ".list-inline>li:not(:last-child)::after {content: \"\\00b7\"; padding: 0 .5ex}\n",
              "</style>\n",
              "<ol class=list-inline><li>'gel'</li><li>'MEVLANA'</li><li>'Ne'</li><li>'ol'</li><li>'olursan'</li><li>'R\\'a'</li></ol>\n"
            ],
            "text/markdown": "1. 'gel'\n2. 'MEVLANA'\n3. 'Ne'\n4. 'ol'\n5. 'olursan'\n6. 'R\\'a'\n\n\n",
            "text/latex": "\\begin{enumerate*}\n\\item 'gel'\n\\item 'MEVLANA'\n\\item 'Ne'\n\\item 'ol'\n\\item 'olursan'\n\\item 'R\\textbackslash{}'a'\n\\end{enumerate*}\n",
            "text/plain": [
              "[1] \"gel\"     \"MEVLANA\" \"Ne\"      \"ol\"      \"olursan\" \"R'a\"    "
            ]
          },
          "metadata": {}
        }
      ]
    },
    {
      "cell_type": "code",
      "source": [
        "notlar <- round(runif(20, min=1, max=100))\n",
        "print(notlar)"
      ],
      "metadata": {
        "colab": {
          "base_uri": "https://localhost:8080/"
        },
        "id": "ikya2v0H52-f",
        "outputId": "fbd8ebd8-f287-46de-a397-450735f953f4"
      },
      "execution_count": 157,
      "outputs": [
        {
          "output_type": "stream",
          "name": "stdout",
          "text": [
            " [1] 34 52 76 74 99 63 38 39 65 20 93 36 59 96 76 47  1 52 25 30\n"
          ]
        }
      ]
    },
    {
      "cell_type": "code",
      "source": [
        "# normal sıralama\n",
        "sort(notlar)"
      ],
      "metadata": {
        "colab": {
          "base_uri": "https://localhost:8080/",
          "height": 34
        },
        "id": "O4z7XFW46jaO",
        "outputId": "b3dac599-187c-46a2-d5fa-4123621914fb"
      },
      "execution_count": 163,
      "outputs": [
        {
          "output_type": "display_data",
          "data": {
            "text/html": [
              "<style>\n",
              ".list-inline {list-style: none; margin:0; padding: 0}\n",
              ".list-inline>li {display: inline-block}\n",
              ".list-inline>li:not(:last-child)::after {content: \"\\00b7\"; padding: 0 .5ex}\n",
              "</style>\n",
              "<ol class=list-inline><li>1</li><li>20</li><li>25</li><li>30</li><li>34</li><li>36</li><li>38</li><li>39</li><li>47</li><li>52</li><li>52</li><li>59</li><li>63</li><li>65</li><li>74</li><li>76</li><li>76</li><li>93</li><li>96</li><li>99</li></ol>\n"
            ],
            "text/markdown": "1. 1\n2. 20\n3. 25\n4. 30\n5. 34\n6. 36\n7. 38\n8. 39\n9. 47\n10. 52\n11. 52\n12. 59\n13. 63\n14. 65\n15. 74\n16. 76\n17. 76\n18. 93\n19. 96\n20. 99\n\n\n",
            "text/latex": "\\begin{enumerate*}\n\\item 1\n\\item 20\n\\item 25\n\\item 30\n\\item 34\n\\item 36\n\\item 38\n\\item 39\n\\item 47\n\\item 52\n\\item 52\n\\item 59\n\\item 63\n\\item 65\n\\item 74\n\\item 76\n\\item 76\n\\item 93\n\\item 96\n\\item 99\n\\end{enumerate*}\n",
            "text/plain": [
              " [1]  1 20 25 30 34 36 38 39 47 52 52 59 63 65 74 76 76 93 96 99"
            ]
          },
          "metadata": {}
        }
      ]
    },
    {
      "cell_type": "code",
      "source": [
        "# sıralama\n",
        "notlar <- sort(notlar)\n",
        "rev(notlar)"
      ],
      "metadata": {
        "colab": {
          "base_uri": "https://localhost:8080/",
          "height": 34
        },
        "id": "irCe8GBY6ERp",
        "outputId": "d5cf291f-9f98-441f-d232-c65c997ed0a0"
      },
      "execution_count": 162,
      "outputs": [
        {
          "output_type": "display_data",
          "data": {
            "text/html": [
              "<style>\n",
              ".list-inline {list-style: none; margin:0; padding: 0}\n",
              ".list-inline>li {display: inline-block}\n",
              ".list-inline>li:not(:last-child)::after {content: \"\\00b7\"; padding: 0 .5ex}\n",
              "</style>\n",
              "<ol class=list-inline><li>99</li><li>96</li><li>93</li><li>76</li><li>76</li><li>74</li><li>65</li><li>63</li><li>59</li><li>52</li><li>52</li><li>47</li><li>39</li><li>38</li><li>36</li><li>34</li><li>30</li><li>25</li><li>20</li><li>1</li></ol>\n"
            ],
            "text/markdown": "1. 99\n2. 96\n3. 93\n4. 76\n5. 76\n6. 74\n7. 65\n8. 63\n9. 59\n10. 52\n11. 52\n12. 47\n13. 39\n14. 38\n15. 36\n16. 34\n17. 30\n18. 25\n19. 20\n20. 1\n\n\n",
            "text/latex": "\\begin{enumerate*}\n\\item 99\n\\item 96\n\\item 93\n\\item 76\n\\item 76\n\\item 74\n\\item 65\n\\item 63\n\\item 59\n\\item 52\n\\item 52\n\\item 47\n\\item 39\n\\item 38\n\\item 36\n\\item 34\n\\item 30\n\\item 25\n\\item 20\n\\item 1\n\\end{enumerate*}\n",
            "text/plain": [
              " [1] 99 96 93 76 76 74 65 63 59 52 52 47 39 38 36 34 30 25 20  1"
            ]
          },
          "metadata": {}
        }
      ]
    },
    {
      "cell_type": "code",
      "source": [
        "sort(notlar, decreasing = TRUE)"
      ],
      "metadata": {
        "colab": {
          "base_uri": "https://localhost:8080/",
          "height": 34
        },
        "id": "LZF4aaaZ6SX_",
        "outputId": "3fa713bc-0c42-41fc-ec4c-e6d732c11718"
      },
      "execution_count": 160,
      "outputs": [
        {
          "output_type": "display_data",
          "data": {
            "text/html": [
              "<style>\n",
              ".list-inline {list-style: none; margin:0; padding: 0}\n",
              ".list-inline>li {display: inline-block}\n",
              ".list-inline>li:not(:last-child)::after {content: \"\\00b7\"; padding: 0 .5ex}\n",
              "</style>\n",
              "<ol class=list-inline><li>99</li><li>96</li><li>93</li><li>76</li><li>76</li><li>74</li><li>65</li><li>63</li><li>59</li><li>52</li><li>52</li><li>47</li><li>39</li><li>38</li><li>36</li><li>34</li><li>30</li><li>25</li><li>20</li><li>1</li></ol>\n"
            ],
            "text/markdown": "1. 99\n2. 96\n3. 93\n4. 76\n5. 76\n6. 74\n7. 65\n8. 63\n9. 59\n10. 52\n11. 52\n12. 47\n13. 39\n14. 38\n15. 36\n16. 34\n17. 30\n18. 25\n19. 20\n20. 1\n\n\n",
            "text/latex": "\\begin{enumerate*}\n\\item 99\n\\item 96\n\\item 93\n\\item 76\n\\item 76\n\\item 74\n\\item 65\n\\item 63\n\\item 59\n\\item 52\n\\item 52\n\\item 47\n\\item 39\n\\item 38\n\\item 36\n\\item 34\n\\item 30\n\\item 25\n\\item 20\n\\item 1\n\\end{enumerate*}\n",
            "text/plain": [
              " [1] 99 96 93 76 76 74 65 63 59 52 52 47 39 38 36 34 30 25 20  1"
            ]
          },
          "metadata": {}
        }
      ]
    },
    {
      "cell_type": "code",
      "source": [
        "notlar <- round(runif(20, min=1, max=100))\n",
        "print(notlar)\n",
        "# en küçük -en büyük not\n",
        "range(notlar)"
      ],
      "metadata": {
        "colab": {
          "base_uri": "https://localhost:8080/",
          "height": 53
        },
        "id": "8OT9PqYp6vig",
        "outputId": "7ce318a1-7161-42c4-dc33-4555a048bde6"
      },
      "execution_count": 164,
      "outputs": [
        {
          "output_type": "stream",
          "name": "stdout",
          "text": [
            " [1] 94 29 32 55 99 66 46 92 34 79 33 25 15 13 11  1 75 30 66 46\n"
          ]
        },
        {
          "output_type": "display_data",
          "data": {
            "text/html": [
              "<style>\n",
              ".list-inline {list-style: none; margin:0; padding: 0}\n",
              ".list-inline>li {display: inline-block}\n",
              ".list-inline>li:not(:last-child)::after {content: \"\\00b7\"; padding: 0 .5ex}\n",
              "</style>\n",
              "<ol class=list-inline><li>1</li><li>99</li></ol>\n"
            ],
            "text/markdown": "1. 1\n2. 99\n\n\n",
            "text/latex": "\\begin{enumerate*}\n\\item 1\n\\item 99\n\\end{enumerate*}\n",
            "text/plain": [
              "[1]  1 99"
            ]
          },
          "metadata": {}
        }
      ]
    },
    {
      "cell_type": "code",
      "source": [
        "nums <- c(5,6,7,3,2,1,78,54,32)\n",
        "rank(nums) # kendi içerisindeki sıralanmış sırasını/indisini verir"
      ],
      "metadata": {
        "colab": {
          "base_uri": "https://localhost:8080/",
          "height": 34
        },
        "id": "Efbd60SD7P0h",
        "outputId": "27a6b533-36cb-4005-f5ee-2ba13eefcaa4"
      },
      "execution_count": 167,
      "outputs": [
        {
          "output_type": "display_data",
          "data": {
            "text/html": [
              "<style>\n",
              ".list-inline {list-style: none; margin:0; padding: 0}\n",
              ".list-inline>li {display: inline-block}\n",
              ".list-inline>li:not(:last-child)::after {content: \"\\00b7\"; padding: 0 .5ex}\n",
              "</style>\n",
              "<ol class=list-inline><li>4</li><li>5</li><li>6</li><li>3</li><li>2</li><li>1</li><li>9</li><li>8</li><li>7</li></ol>\n"
            ],
            "text/markdown": "1. 4\n2. 5\n3. 6\n4. 3\n5. 2\n6. 1\n7. 9\n8. 8\n9. 7\n\n\n",
            "text/latex": "\\begin{enumerate*}\n\\item 4\n\\item 5\n\\item 6\n\\item 3\n\\item 2\n\\item 1\n\\item 9\n\\item 8\n\\item 7\n\\end{enumerate*}\n",
            "text/plain": [
              "[1] 4 5 6 3 2 1 9 8 7"
            ]
          },
          "metadata": {}
        }
      ]
    },
    {
      "cell_type": "code",
      "source": [
        "sort(nums)"
      ],
      "metadata": {
        "colab": {
          "base_uri": "https://localhost:8080/",
          "height": 34
        },
        "id": "AiwCAQAA7l5w",
        "outputId": "d64ad685-3774-4b3e-9e61-b53c3d8b95ff"
      },
      "execution_count": 168,
      "outputs": [
        {
          "output_type": "display_data",
          "data": {
            "text/html": [
              "<style>\n",
              ".list-inline {list-style: none; margin:0; padding: 0}\n",
              ".list-inline>li {display: inline-block}\n",
              ".list-inline>li:not(:last-child)::after {content: \"\\00b7\"; padding: 0 .5ex}\n",
              "</style>\n",
              "<ol class=list-inline><li>1</li><li>2</li><li>3</li><li>5</li><li>6</li><li>7</li><li>32</li><li>54</li><li>78</li></ol>\n"
            ],
            "text/markdown": "1. 1\n2. 2\n3. 3\n4. 5\n5. 6\n6. 7\n7. 32\n8. 54\n9. 78\n\n\n",
            "text/latex": "\\begin{enumerate*}\n\\item 1\n\\item 2\n\\item 3\n\\item 5\n\\item 6\n\\item 7\n\\item 32\n\\item 54\n\\item 78\n\\end{enumerate*}\n",
            "text/plain": [
              "[1]  1  2  3  5  6  7 32 54 78"
            ]
          },
          "metadata": {}
        }
      ]
    },
    {
      "cell_type": "code",
      "source": [
        "vektor = c(\"Ne\", \"olursan\", \"ol\", \"R'a\", \"gel\", \"MEVLANA\")\n",
        "sort(vektor)"
      ],
      "metadata": {
        "colab": {
          "base_uri": "https://localhost:8080/",
          "height": 34
        },
        "id": "RSWyVtjN7yZK",
        "outputId": "022121a8-1b06-4b94-f3a4-b78336699869"
      },
      "execution_count": 169,
      "outputs": [
        {
          "output_type": "display_data",
          "data": {
            "text/html": [
              "<style>\n",
              ".list-inline {list-style: none; margin:0; padding: 0}\n",
              ".list-inline>li {display: inline-block}\n",
              ".list-inline>li:not(:last-child)::after {content: \"\\00b7\"; padding: 0 .5ex}\n",
              "</style>\n",
              "<ol class=list-inline><li>'gel'</li><li>'MEVLANA'</li><li>'Ne'</li><li>'ol'</li><li>'olursan'</li><li>'R\\'a'</li></ol>\n"
            ],
            "text/markdown": "1. 'gel'\n2. 'MEVLANA'\n3. 'Ne'\n4. 'ol'\n5. 'olursan'\n6. 'R\\'a'\n\n\n",
            "text/latex": "\\begin{enumerate*}\n\\item 'gel'\n\\item 'MEVLANA'\n\\item 'Ne'\n\\item 'ol'\n\\item 'olursan'\n\\item 'R\\textbackslash{}'a'\n\\end{enumerate*}\n",
            "text/plain": [
              "[1] \"gel\"     \"MEVLANA\" \"Ne\"      \"ol\"      \"olursan\" \"R'a\"    "
            ]
          },
          "metadata": {}
        }
      ]
    },
    {
      "cell_type": "code",
      "source": [
        "rank(vektor)"
      ],
      "metadata": {
        "colab": {
          "base_uri": "https://localhost:8080/",
          "height": 34
        },
        "id": "3Tt8TCaS71Q6",
        "outputId": "4d835202-6c4c-496e-caa7-345d74ce070d"
      },
      "execution_count": 170,
      "outputs": [
        {
          "output_type": "display_data",
          "data": {
            "text/html": [
              "<style>\n",
              ".list-inline {list-style: none; margin:0; padding: 0}\n",
              ".list-inline>li {display: inline-block}\n",
              ".list-inline>li:not(:last-child)::after {content: \"\\00b7\"; padding: 0 .5ex}\n",
              "</style>\n",
              "<ol class=list-inline><li>3</li><li>5</li><li>4</li><li>6</li><li>1</li><li>2</li></ol>\n"
            ],
            "text/markdown": "1. 3\n2. 5\n3. 4\n4. 6\n5. 1\n6. 2\n\n\n",
            "text/latex": "\\begin{enumerate*}\n\\item 3\n\\item 5\n\\item 4\n\\item 6\n\\item 1\n\\item 2\n\\end{enumerate*}\n",
            "text/plain": [
              "[1] 3 5 4 6 1 2"
            ]
          },
          "metadata": {}
        }
      ]
    },
    {
      "cell_type": "code",
      "source": [
        "vektor = c(\"Ne\", \"olursan\", \"ol\", \"Ne\", \"gel\", \"MEVLANA\", NaN)\n",
        "tekrarsiz_vektor = unique(vektor)\n",
        "print(tekrarsiz_vektor)"
      ],
      "metadata": {
        "colab": {
          "base_uri": "https://localhost:8080/"
        },
        "id": "dVMhr8K88Bpb",
        "outputId": "802f9b2c-5c6e-460c-d697-361f557865c2"
      },
      "execution_count": 172,
      "outputs": [
        {
          "output_type": "stream",
          "name": "stdout",
          "text": [
            "[1] \"Ne\"      \"olursan\" \"ol\"      \"gel\"     \"MEVLANA\" \"NaN\"    \n"
          ]
        }
      ]
    },
    {
      "cell_type": "code",
      "source": [
        "vektor <- c(5,2,NA, NaN, 6, 7, NaN)\n",
        "is.nan(vektor) # (Not a Number)"
      ],
      "metadata": {
        "colab": {
          "base_uri": "https://localhost:8080/",
          "height": 34
        },
        "id": "M_G7RSAA8foE",
        "outputId": "7534f766-c1c8-4b9b-c44e-992b34b382b0"
      },
      "execution_count": 174,
      "outputs": [
        {
          "output_type": "display_data",
          "data": {
            "text/html": [
              "<style>\n",
              ".list-inline {list-style: none; margin:0; padding: 0}\n",
              ".list-inline>li {display: inline-block}\n",
              ".list-inline>li:not(:last-child)::after {content: \"\\00b7\"; padding: 0 .5ex}\n",
              "</style>\n",
              "<ol class=list-inline><li>FALSE</li><li>FALSE</li><li>FALSE</li><li>TRUE</li><li>FALSE</li><li>FALSE</li><li>TRUE</li></ol>\n"
            ],
            "text/markdown": "1. FALSE\n2. FALSE\n3. FALSE\n4. TRUE\n5. FALSE\n6. FALSE\n7. TRUE\n\n\n",
            "text/latex": "\\begin{enumerate*}\n\\item FALSE\n\\item FALSE\n\\item FALSE\n\\item TRUE\n\\item FALSE\n\\item FALSE\n\\item TRUE\n\\end{enumerate*}\n",
            "text/plain": [
              "[1] FALSE FALSE FALSE  TRUE FALSE FALSE  TRUE"
            ]
          },
          "metadata": {}
        }
      ]
    },
    {
      "cell_type": "code",
      "source": [
        "is.na(vektor)  # na kapsar NaN"
      ],
      "metadata": {
        "colab": {
          "base_uri": "https://localhost:8080/",
          "height": 34
        },
        "id": "nDc6NfgD88jn",
        "outputId": "fce4dff5-1f37-448b-9560-eb7ee8ab7b0c"
      },
      "execution_count": 175,
      "outputs": [
        {
          "output_type": "display_data",
          "data": {
            "text/html": [
              "<style>\n",
              ".list-inline {list-style: none; margin:0; padding: 0}\n",
              ".list-inline>li {display: inline-block}\n",
              ".list-inline>li:not(:last-child)::after {content: \"\\00b7\"; padding: 0 .5ex}\n",
              "</style>\n",
              "<ol class=list-inline><li>FALSE</li><li>FALSE</li><li>TRUE</li><li>TRUE</li><li>FALSE</li><li>FALSE</li><li>TRUE</li></ol>\n"
            ],
            "text/markdown": "1. FALSE\n2. FALSE\n3. TRUE\n4. TRUE\n5. FALSE\n6. FALSE\n7. TRUE\n\n\n",
            "text/latex": "\\begin{enumerate*}\n\\item FALSE\n\\item FALSE\n\\item TRUE\n\\item TRUE\n\\item FALSE\n\\item FALSE\n\\item TRUE\n\\end{enumerate*}\n",
            "text/plain": [
              "[1] FALSE FALSE  TRUE  TRUE FALSE FALSE  TRUE"
            ]
          },
          "metadata": {}
        }
      ]
    },
    {
      "cell_type": "code",
      "source": [
        "vektor <- c(5, 2, NA, 6, 7)\n",
        "rank(vektor, na.last=FALSE) # NA'ları başa atar"
      ],
      "metadata": {
        "colab": {
          "base_uri": "https://localhost:8080/",
          "height": 34
        },
        "id": "oSkA47OU9l-R",
        "outputId": "152321fd-4fc9-4a82-8d6d-4affcaa06073"
      },
      "execution_count": 194,
      "outputs": [
        {
          "output_type": "display_data",
          "data": {
            "text/html": [
              "<style>\n",
              ".list-inline {list-style: none; margin:0; padding: 0}\n",
              ".list-inline>li {display: inline-block}\n",
              ".list-inline>li:not(:last-child)::after {content: \"\\00b7\"; padding: 0 .5ex}\n",
              "</style>\n",
              "<ol class=list-inline><li>3</li><li>2</li><li>1</li><li>4</li><li>5</li></ol>\n"
            ],
            "text/markdown": "1. 3\n2. 2\n3. 1\n4. 4\n5. 5\n\n\n",
            "text/latex": "\\begin{enumerate*}\n\\item 3\n\\item 2\n\\item 1\n\\item 4\n\\item 5\n\\end{enumerate*}\n",
            "text/plain": [
              "[1] 3 2 1 4 5"
            ]
          },
          "metadata": {}
        }
      ]
    },
    {
      "cell_type": "code",
      "source": [
        "vektor <- c(5, 2, NA, 6, 7)\n",
        "rank(vektor, na.last=TRUE) # default: TRUE ve (NA'ları sona atar)"
      ],
      "metadata": {
        "colab": {
          "base_uri": "https://localhost:8080/",
          "height": 34
        },
        "id": "bUO1HoeKCmEg",
        "outputId": "004f0766-3f8d-4451-9ca8-57fd0db2c498"
      },
      "execution_count": 195,
      "outputs": [
        {
          "output_type": "display_data",
          "data": {
            "text/html": [
              "<style>\n",
              ".list-inline {list-style: none; margin:0; padding: 0}\n",
              ".list-inline>li {display: inline-block}\n",
              ".list-inline>li:not(:last-child)::after {content: \"\\00b7\"; padding: 0 .5ex}\n",
              "</style>\n",
              "<ol class=list-inline><li>2</li><li>1</li><li>5</li><li>3</li><li>4</li></ol>\n"
            ],
            "text/markdown": "1. 2\n2. 1\n3. 5\n4. 3\n5. 4\n\n\n",
            "text/latex": "\\begin{enumerate*}\n\\item 2\n\\item 1\n\\item 5\n\\item 3\n\\item 4\n\\end{enumerate*}\n",
            "text/plain": [
              "[1] 2 1 5 3 4"
            ]
          },
          "metadata": {}
        }
      ]
    },
    {
      "cell_type": "code",
      "source": [
        "vektor <- c(5, 2, NA, 6, 7)\n",
        "rank(vektor) # default: TRUE ve (NA'ları sona atar)"
      ],
      "metadata": {
        "colab": {
          "base_uri": "https://localhost:8080/",
          "height": 34
        },
        "id": "2U4lBQenC1DF",
        "outputId": "0b67bfba-3e80-4edb-f37a-be09bb47ecf9"
      },
      "execution_count": 196,
      "outputs": [
        {
          "output_type": "display_data",
          "data": {
            "text/html": [
              "<style>\n",
              ".list-inline {list-style: none; margin:0; padding: 0}\n",
              ".list-inline>li {display: inline-block}\n",
              ".list-inline>li:not(:last-child)::after {content: \"\\00b7\"; padding: 0 .5ex}\n",
              "</style>\n",
              "<ol class=list-inline><li>2</li><li>1</li><li>5</li><li>3</li><li>4</li></ol>\n"
            ],
            "text/markdown": "1. 2\n2. 1\n3. 5\n4. 3\n5. 4\n\n\n",
            "text/latex": "\\begin{enumerate*}\n\\item 2\n\\item 1\n\\item 5\n\\item 3\n\\item 4\n\\end{enumerate*}\n",
            "text/plain": [
              "[1] 2 1 5 3 4"
            ]
          },
          "metadata": {}
        }
      ]
    },
    {
      "cell_type": "code",
      "source": [
        "vektor <- c(5,2, NA, NaN, 6, 7, NaN)\n",
        "rank(vektor, na.last=\"keep\") # NA'lar yerinde kalır"
      ],
      "metadata": {
        "colab": {
          "base_uri": "https://localhost:8080/",
          "height": 34
        },
        "id": "qrD9WyCb-L_5",
        "outputId": "8c6fde2f-de8d-44ea-c220-6e57beea0393"
      },
      "execution_count": 182,
      "outputs": [
        {
          "output_type": "display_data",
          "data": {
            "text/html": [
              "<style>\n",
              ".list-inline {list-style: none; margin:0; padding: 0}\n",
              ".list-inline>li {display: inline-block}\n",
              ".list-inline>li:not(:last-child)::after {content: \"\\00b7\"; padding: 0 .5ex}\n",
              "</style>\n",
              "<ol class=list-inline><li>2</li><li>1</li><li>&lt;NA&gt;</li><li>&lt;NA&gt;</li><li>3</li><li>4</li><li>&lt;NA&gt;</li></ol>\n"
            ],
            "text/markdown": "1. 2\n2. 1\n3. &lt;NA&gt;\n4. &lt;NA&gt;\n5. 3\n6. 4\n7. &lt;NA&gt;\n\n\n",
            "text/latex": "\\begin{enumerate*}\n\\item 2\n\\item 1\n\\item <NA>\n\\item <NA>\n\\item 3\n\\item 4\n\\item <NA>\n\\end{enumerate*}\n",
            "text/plain": [
              "[1]  2  1 NA NA  3  4 NA"
            ]
          },
          "metadata": {}
        }
      ]
    },
    {
      "cell_type": "code",
      "source": [
        "vektor <- c(5,2, NA, NaN, 6, 7, NaN)\n",
        "rank(vektor, na.last=NA) # NA'lar GÖZÜKMEZZ"
      ],
      "metadata": {
        "colab": {
          "base_uri": "https://localhost:8080/",
          "height": 34
        },
        "id": "Pb2gRO0--UZR",
        "outputId": "d0a48259-0ec4-47cd-fe77-ded93bf73b30"
      },
      "execution_count": 183,
      "outputs": [
        {
          "output_type": "display_data",
          "data": {
            "text/html": [
              "<style>\n",
              ".list-inline {list-style: none; margin:0; padding: 0}\n",
              ".list-inline>li {display: inline-block}\n",
              ".list-inline>li:not(:last-child)::after {content: \"\\00b7\"; padding: 0 .5ex}\n",
              "</style>\n",
              "<ol class=list-inline><li>2</li><li>1</li><li>3</li><li>4</li></ol>\n"
            ],
            "text/markdown": "1. 2\n2. 1\n3. 3\n4. 4\n\n\n",
            "text/latex": "\\begin{enumerate*}\n\\item 2\n\\item 1\n\\item 3\n\\item 4\n\\end{enumerate*}\n",
            "text/plain": [
              "[1] 2 1 3 4"
            ]
          },
          "metadata": {}
        }
      ]
    },
    {
      "cell_type": "code",
      "source": [
        "vektor = c(\"Ne\", \"olursan\", \"ol\", \"Ne\", \"gel\", \"MEVLANA\", NA)\n",
        "is.na(vektor)"
      ],
      "metadata": {
        "colab": {
          "base_uri": "https://localhost:8080/",
          "height": 34
        },
        "id": "FHBLm4Fj9H7t",
        "outputId": "90a8be80-5c44-4365-9670-ac51d6ef3f54"
      },
      "execution_count": 176,
      "outputs": [
        {
          "output_type": "display_data",
          "data": {
            "text/html": [
              "<style>\n",
              ".list-inline {list-style: none; margin:0; padding: 0}\n",
              ".list-inline>li {display: inline-block}\n",
              ".list-inline>li:not(:last-child)::after {content: \"\\00b7\"; padding: 0 .5ex}\n",
              "</style>\n",
              "<ol class=list-inline><li>FALSE</li><li>FALSE</li><li>FALSE</li><li>FALSE</li><li>FALSE</li><li>FALSE</li><li>TRUE</li></ol>\n"
            ],
            "text/markdown": "1. FALSE\n2. FALSE\n3. FALSE\n4. FALSE\n5. FALSE\n6. FALSE\n7. TRUE\n\n\n",
            "text/latex": "\\begin{enumerate*}\n\\item FALSE\n\\item FALSE\n\\item FALSE\n\\item FALSE\n\\item FALSE\n\\item FALSE\n\\item TRUE\n\\end{enumerate*}\n",
            "text/plain": [
              "[1] FALSE FALSE FALSE FALSE FALSE FALSE  TRUE"
            ]
          },
          "metadata": {}
        }
      ]
    },
    {
      "cell_type": "markdown",
      "source": [
        "# all() ve any() fonksiyonları"
      ],
      "metadata": {
        "id": "A4nS7mEg-yOu"
      }
    },
    {
      "cell_type": "code",
      "source": [
        "notlar <- round(runif(20, min=1, max=100))\n",
        "any(notlar>95)  # hiç 95 ve üzeri var mı?"
      ],
      "metadata": {
        "colab": {
          "base_uri": "https://localhost:8080/",
          "height": 34
        },
        "id": "ODjv4YMT-23Y",
        "outputId": "166c12a8-64bd-48d9-ce77-39dc7d8143b3"
      },
      "execution_count": 186,
      "outputs": [
        {
          "output_type": "display_data",
          "data": {
            "text/html": [
              "TRUE"
            ],
            "text/markdown": "TRUE",
            "text/latex": "TRUE",
            "text/plain": [
              "[1] TRUE"
            ]
          },
          "metadata": {}
        }
      ]
    },
    {
      "cell_type": "code",
      "source": [
        "notlar <- round(runif(20, min=1, max=100))\n",
        "all(notlar>95)  # hepsi 95 ve üzeri var mı?"
      ],
      "metadata": {
        "colab": {
          "base_uri": "https://localhost:8080/",
          "height": 34
        },
        "id": "Y9UHOswZ_MIc",
        "outputId": "3f594731-949a-40fb-dd65-8f008f66b3d8"
      },
      "execution_count": 187,
      "outputs": [
        {
          "output_type": "display_data",
          "data": {
            "text/html": [
              "FALSE"
            ],
            "text/markdown": "FALSE",
            "text/latex": "FALSE",
            "text/plain": [
              "[1] FALSE"
            ]
          },
          "metadata": {}
        }
      ]
    },
    {
      "cell_type": "code",
      "source": [
        "0/0 # Tanımsız işlem"
      ],
      "metadata": {
        "colab": {
          "base_uri": "https://localhost:8080/",
          "height": 34
        },
        "id": "0_kXe9Tu_jan",
        "outputId": "f338d5db-8850-4832-f818-85433f63bc45"
      },
      "execution_count": 188,
      "outputs": [
        {
          "output_type": "display_data",
          "data": {
            "text/html": [
              "NaN"
            ],
            "text/markdown": "NaN",
            "text/latex": "NaN",
            "text/plain": [
              "[1] NaN"
            ]
          },
          "metadata": {}
        }
      ]
    },
    {
      "cell_type": "code",
      "source": [
        "# Bu iki vektör aynı mı?\n",
        "vek1 <- c(10, 11, 12, 13, 16)\n",
        "vek2 <- c(10, 11, 12, 14, 13)\n",
        "vek1==vek2  #birebir eşleme"
      ],
      "metadata": {
        "colab": {
          "base_uri": "https://localhost:8080/",
          "height": 34
        },
        "id": "wWAV2CUa_ui_",
        "outputId": "d31960ed-8ddc-4fdc-a1b0-e67dbac4209d"
      },
      "execution_count": 189,
      "outputs": [
        {
          "output_type": "display_data",
          "data": {
            "text/html": [
              "<style>\n",
              ".list-inline {list-style: none; margin:0; padding: 0}\n",
              ".list-inline>li {display: inline-block}\n",
              ".list-inline>li:not(:last-child)::after {content: \"\\00b7\"; padding: 0 .5ex}\n",
              "</style>\n",
              "<ol class=list-inline><li>TRUE</li><li>TRUE</li><li>TRUE</li><li>FALSE</li><li>FALSE</li></ol>\n"
            ],
            "text/markdown": "1. TRUE\n2. TRUE\n3. TRUE\n4. FALSE\n5. FALSE\n\n\n",
            "text/latex": "\\begin{enumerate*}\n\\item TRUE\n\\item TRUE\n\\item TRUE\n\\item FALSE\n\\item FALSE\n\\end{enumerate*}\n",
            "text/plain": [
              "[1]  TRUE  TRUE  TRUE FALSE FALSE"
            ]
          },
          "metadata": {}
        }
      ]
    },
    {
      "cell_type": "code",
      "source": [
        "all(vek1==vek2) # hepsi birbirine eşit mi?"
      ],
      "metadata": {
        "colab": {
          "base_uri": "https://localhost:8080/",
          "height": 34
        },
        "id": "2zT-LZMT_1mm",
        "outputId": "1f0628e1-e340-4428-c64e-4120e5ee4561"
      },
      "execution_count": 190,
      "outputs": [
        {
          "output_type": "display_data",
          "data": {
            "text/html": [
              "FALSE"
            ],
            "text/markdown": "FALSE",
            "text/latex": "FALSE",
            "text/plain": [
              "[1] FALSE"
            ]
          },
          "metadata": {}
        }
      ]
    },
    {
      "cell_type": "code",
      "source": [
        "setdiff(vek1,vek2)  #vek1 de olup vek2'de olmayanları listele"
      ],
      "metadata": {
        "colab": {
          "base_uri": "https://localhost:8080/",
          "height": 34
        },
        "id": "N9nYTrSrAAJZ",
        "outputId": "7052991b-f46e-48f9-e94f-e7774c3343a7"
      },
      "execution_count": 191,
      "outputs": [
        {
          "output_type": "display_data",
          "data": {
            "text/html": [
              "16"
            ],
            "text/markdown": "16",
            "text/latex": "16",
            "text/plain": [
              "[1] 16"
            ]
          },
          "metadata": {}
        }
      ]
    },
    {
      "cell_type": "code",
      "source": [
        "setdiff(vek2,vek1)  #vek2 de olup vek1'de olmayanları listele"
      ],
      "metadata": {
        "colab": {
          "base_uri": "https://localhost:8080/",
          "height": 34
        },
        "id": "ApcTB6NEAMtP",
        "outputId": "40bb3c98-726a-4f05-c111-782143bc494a"
      },
      "execution_count": 192,
      "outputs": [
        {
          "output_type": "display_data",
          "data": {
            "text/html": [
              "14"
            ],
            "text/markdown": "14",
            "text/latex": "14",
            "text/plain": [
              "[1] 14"
            ]
          },
          "metadata": {}
        }
      ]
    },
    {
      "cell_type": "markdown",
      "source": [
        "# index kavramı"
      ],
      "metadata": {
        "id": "R4qf-YkqEoDL"
      }
    },
    {
      "cell_type": "code",
      "source": [
        "# pozitif indis o elemanı, negatif ise o eleman haricindikileri işaret eder\n",
        "S = c(\"R\",\"S\",\"T\",\"U\",\"D\",\"I\",\"O\")\n",
        "print(S[1])\n",
        "print(S[3])\n",
        "print(S[-3])"
      ],
      "metadata": {
        "colab": {
          "base_uri": "https://localhost:8080/"
        },
        "id": "Gubwt9-sErSM",
        "outputId": "ae27d29d-5cef-46ac-cc31-cb887db625e5"
      },
      "execution_count": 197,
      "outputs": [
        {
          "output_type": "stream",
          "name": "stdout",
          "text": [
            "[1] \"R\"\n",
            "[1] \"T\"\n",
            "[1] \"R\" \"S\" \"U\" \"D\" \"I\" \"O\"\n"
          ]
        }
      ]
    },
    {
      "cell_type": "code",
      "source": [
        "#sesli harfleri çıkar,\n",
        "S = c(\"R\",\"S\",\"T\",\"U\",\"D\",\"I\",\"O\")\n",
        "new_S <- S[-4]\n",
        "new_S <- new_S[-5]\n",
        "new_S <- new_S[-5]\n",
        "new_S"
      ],
      "metadata": {
        "colab": {
          "base_uri": "https://localhost:8080/",
          "height": 34
        },
        "id": "Rj7Y1J3dE1lG",
        "outputId": "009be366-3697-41fe-967f-cfcf8f91b4b8"
      },
      "execution_count": 200,
      "outputs": [
        {
          "output_type": "display_data",
          "data": {
            "text/html": [
              "<style>\n",
              ".list-inline {list-style: none; margin:0; padding: 0}\n",
              ".list-inline>li {display: inline-block}\n",
              ".list-inline>li:not(:last-child)::after {content: \"\\00b7\"; padding: 0 .5ex}\n",
              "</style>\n",
              "<ol class=list-inline><li>'R'</li><li>'S'</li><li>'T'</li><li>'D'</li></ol>\n"
            ],
            "text/markdown": "1. 'R'\n2. 'S'\n3. 'T'\n4. 'D'\n\n\n",
            "text/latex": "\\begin{enumerate*}\n\\item 'R'\n\\item 'S'\n\\item 'T'\n\\item 'D'\n\\end{enumerate*}\n",
            "text/plain": [
              "[1] \"R\" \"S\" \"T\" \"D\""
            ]
          },
          "metadata": {}
        }
      ]
    },
    {
      "cell_type": "code",
      "source": [
        "exam_nots <- c(92, 90, 84, 95, 77, 92, 85L)\n",
        "exam_nots[c(1,3,7)]  # 92 84 85"
      ],
      "metadata": {
        "colab": {
          "base_uri": "https://localhost:8080/",
          "height": 34
        },
        "id": "fOmTX1kUFaPd",
        "outputId": "5d89348a-7a39-41fd-8405-9c11c27e8731"
      },
      "execution_count": 202,
      "outputs": [
        {
          "output_type": "display_data",
          "data": {
            "text/html": [
              "<style>\n",
              ".list-inline {list-style: none; margin:0; padding: 0}\n",
              ".list-inline>li {display: inline-block}\n",
              ".list-inline>li:not(:last-child)::after {content: \"\\00b7\"; padding: 0 .5ex}\n",
              "</style>\n",
              "<ol class=list-inline><li>92</li><li>84</li><li>85</li></ol>\n"
            ],
            "text/markdown": "1. 92\n2. 84\n3. 85\n\n\n",
            "text/latex": "\\begin{enumerate*}\n\\item 92\n\\item 84\n\\item 85\n\\end{enumerate*}\n",
            "text/plain": [
              "[1] 92 84 85"
            ]
          },
          "metadata": {}
        }
      ]
    },
    {
      "cell_type": "code",
      "source": [
        "S = c(\"R\",\"S\",\"T\",\"U\",\"D\",\"I\",\"O\")\n",
        "#sesli harfleri alalım\n",
        "S <- S[c(4,6,7)]\n",
        "S"
      ],
      "metadata": {
        "colab": {
          "base_uri": "https://localhost:8080/",
          "height": 34
        },
        "id": "ck1XZdkKFpFV",
        "outputId": "832558aa-5830-41fe-a351-50832a656269"
      },
      "execution_count": 204,
      "outputs": [
        {
          "output_type": "display_data",
          "data": {
            "text/html": [
              "<style>\n",
              ".list-inline {list-style: none; margin:0; padding: 0}\n",
              ".list-inline>li {display: inline-block}\n",
              ".list-inline>li:not(:last-child)::after {content: \"\\00b7\"; padding: 0 .5ex}\n",
              "</style>\n",
              "<ol class=list-inline><li>'U'</li><li>'I'</li><li>'O'</li></ol>\n"
            ],
            "text/markdown": "1. 'U'\n2. 'I'\n3. 'O'\n\n\n",
            "text/latex": "\\begin{enumerate*}\n\\item 'U'\n\\item 'I'\n\\item 'O'\n\\end{enumerate*}\n",
            "text/plain": [
              "[1] \"U\" \"I\" \"O\""
            ]
          },
          "metadata": {}
        }
      ]
    },
    {
      "cell_type": "code",
      "source": [
        "S = c(\"R\",\"S\",\"T\",\"U\",\"D\",\"I\",\"O\")\n",
        "#sessiz harfleri alalım\n",
        "S <- S[c(-4,-6,-7)]\n",
        "S"
      ],
      "metadata": {
        "colab": {
          "base_uri": "https://localhost:8080/",
          "height": 34
        },
        "id": "hbvg_XLmF16m",
        "outputId": "6f45ff81-5ecb-4f09-bfff-d193812708de"
      },
      "execution_count": 205,
      "outputs": [
        {
          "output_type": "display_data",
          "data": {
            "text/html": [
              "<style>\n",
              ".list-inline {list-style: none; margin:0; padding: 0}\n",
              ".list-inline>li {display: inline-block}\n",
              ".list-inline>li:not(:last-child)::after {content: \"\\00b7\"; padding: 0 .5ex}\n",
              "</style>\n",
              "<ol class=list-inline><li>'R'</li><li>'S'</li><li>'T'</li><li>'D'</li></ol>\n"
            ],
            "text/markdown": "1. 'R'\n2. 'S'\n3. 'T'\n4. 'D'\n\n\n",
            "text/latex": "\\begin{enumerate*}\n\\item 'R'\n\\item 'S'\n\\item 'T'\n\\item 'D'\n\\end{enumerate*}\n",
            "text/plain": [
              "[1] \"R\" \"S\" \"T\" \"D\""
            ]
          },
          "metadata": {}
        }
      ]
    },
    {
      "cell_type": "code",
      "source": [
        "beyin_dalgasi <- c(\"Alpha\", \"Beta\", \"Theta\", \"Delta\") # Vektör\n",
        "i <- c(FALSE, TRUE, FALSE, TRUE) # logical vector\n",
        "beyin_dalgasi[i] # TRUE'lara denk gelen dataları döndür\n",
        "beyin_dalgasi[!i] # FALSE'lara  denk gelen dataları döndür\n",
        "beyin_dalgasi[i == FALSE] # FALSE'lara  denk gelen dataları döndür\n"
      ],
      "metadata": {
        "colab": {
          "base_uri": "https://localhost:8080/",
          "height": 69
        },
        "id": "Mx4SG0RbGUwI",
        "outputId": "956f7d6e-1ce4-4b8e-95ac-6fdcbd59cae9"
      },
      "execution_count": 206,
      "outputs": [
        {
          "output_type": "display_data",
          "data": {
            "text/html": [
              "<style>\n",
              ".list-inline {list-style: none; margin:0; padding: 0}\n",
              ".list-inline>li {display: inline-block}\n",
              ".list-inline>li:not(:last-child)::after {content: \"\\00b7\"; padding: 0 .5ex}\n",
              "</style>\n",
              "<ol class=list-inline><li>'Beta'</li><li>'Delta'</li></ol>\n"
            ],
            "text/markdown": "1. 'Beta'\n2. 'Delta'\n\n\n",
            "text/latex": "\\begin{enumerate*}\n\\item 'Beta'\n\\item 'Delta'\n\\end{enumerate*}\n",
            "text/plain": [
              "[1] \"Beta\"  \"Delta\""
            ]
          },
          "metadata": {}
        },
        {
          "output_type": "display_data",
          "data": {
            "text/html": [
              "<style>\n",
              ".list-inline {list-style: none; margin:0; padding: 0}\n",
              ".list-inline>li {display: inline-block}\n",
              ".list-inline>li:not(:last-child)::after {content: \"\\00b7\"; padding: 0 .5ex}\n",
              "</style>\n",
              "<ol class=list-inline><li>'Alpha'</li><li>'Theta'</li></ol>\n"
            ],
            "text/markdown": "1. 'Alpha'\n2. 'Theta'\n\n\n",
            "text/latex": "\\begin{enumerate*}\n\\item 'Alpha'\n\\item 'Theta'\n\\end{enumerate*}\n",
            "text/plain": [
              "[1] \"Alpha\" \"Theta\""
            ]
          },
          "metadata": {}
        },
        {
          "output_type": "display_data",
          "data": {
            "text/html": [
              "<style>\n",
              ".list-inline {list-style: none; margin:0; padding: 0}\n",
              ".list-inline>li {display: inline-block}\n",
              ".list-inline>li:not(:last-child)::after {content: \"\\00b7\"; padding: 0 .5ex}\n",
              "</style>\n",
              "<ol class=list-inline><li>'Alpha'</li><li>'Theta'</li></ol>\n"
            ],
            "text/markdown": "1. 'Alpha'\n2. 'Theta'\n\n\n",
            "text/latex": "\\begin{enumerate*}\n\\item 'Alpha'\n\\item 'Theta'\n\\end{enumerate*}\n",
            "text/plain": [
              "[1] \"Alpha\" \"Theta\""
            ]
          },
          "metadata": {}
        }
      ]
    },
    {
      "cell_type": "code",
      "source": [
        "# subset() koşula uyan alt küme(vektör, seti)\n",
        "exam_nots <- c(92, 50, 84, 95, 47, 92, 85L, 44)\n",
        "# 45-85 arası notları almak\n",
        "nots <- subset(exam_nots, exam_nots>45 & exam_nots<85)\n",
        "nots"
      ],
      "metadata": {
        "colab": {
          "base_uri": "https://localhost:8080/",
          "height": 34
        },
        "id": "JmBDpmk4GvnC",
        "outputId": "aa74be19-65b2-4b75-ae10-962ff13d9347"
      },
      "execution_count": 207,
      "outputs": [
        {
          "output_type": "display_data",
          "data": {
            "text/html": [
              "<style>\n",
              ".list-inline {list-style: none; margin:0; padding: 0}\n",
              ".list-inline>li {display: inline-block}\n",
              ".list-inline>li:not(:last-child)::after {content: \"\\00b7\"; padding: 0 .5ex}\n",
              "</style>\n",
              "<ol class=list-inline><li>50</li><li>84</li><li>47</li></ol>\n"
            ],
            "text/markdown": "1. 50\n2. 84\n3. 47\n\n\n",
            "text/latex": "\\begin{enumerate*}\n\\item 50\n\\item 84\n\\item 47\n\\end{enumerate*}\n",
            "text/plain": [
              "[1] 50 84 47"
            ]
          },
          "metadata": {}
        }
      ]
    },
    {
      "cell_type": "code",
      "source": [
        "beyin_dalgasi <- c(\"Alpha\", \"Beta\", \"Theta\", \"Delta\", \"Baba\")\n",
        "startsWith(beyin_dalgasi, \"B\")"
      ],
      "metadata": {
        "colab": {
          "base_uri": "https://localhost:8080/",
          "height": 34
        },
        "id": "bk6nVyP2HloV",
        "outputId": "2793c9b9-6180-4045-e5b2-34e51b11d864"
      },
      "execution_count": 208,
      "outputs": [
        {
          "output_type": "display_data",
          "data": {
            "text/html": [
              "<style>\n",
              ".list-inline {list-style: none; margin:0; padding: 0}\n",
              ".list-inline>li {display: inline-block}\n",
              ".list-inline>li:not(:last-child)::after {content: \"\\00b7\"; padding: 0 .5ex}\n",
              "</style>\n",
              "<ol class=list-inline><li>FALSE</li><li>TRUE</li><li>FALSE</li><li>FALSE</li><li>TRUE</li></ol>\n"
            ],
            "text/markdown": "1. FALSE\n2. TRUE\n3. FALSE\n4. FALSE\n5. TRUE\n\n\n",
            "text/latex": "\\begin{enumerate*}\n\\item FALSE\n\\item TRUE\n\\item FALSE\n\\item FALSE\n\\item TRUE\n\\end{enumerate*}\n",
            "text/plain": [
              "[1] FALSE  TRUE FALSE FALSE  TRUE"
            ]
          },
          "metadata": {}
        }
      ]
    },
    {
      "cell_type": "code",
      "source": [
        "# B ile başlayanları al\n",
        "beyin_dalgasi <- c(\"Alpha\", \"Beta\", \"Theta\", \"Delta\", \"Baba\")\n",
        "subset(beyin_dalgasi, startsWith(beyin_dalgasi, \"B\"))"
      ],
      "metadata": {
        "colab": {
          "base_uri": "https://localhost:8080/",
          "height": 34
        },
        "id": "zCV8XwdkHso7",
        "outputId": "ef22dc75-a7a5-4fa1-8117-9cd5882af267"
      },
      "execution_count": 209,
      "outputs": [
        {
          "output_type": "display_data",
          "data": {
            "text/html": [
              "<style>\n",
              ".list-inline {list-style: none; margin:0; padding: 0}\n",
              ".list-inline>li {display: inline-block}\n",
              ".list-inline>li:not(:last-child)::after {content: \"\\00b7\"; padding: 0 .5ex}\n",
              "</style>\n",
              "<ol class=list-inline><li>'Beta'</li><li>'Baba'</li></ol>\n"
            ],
            "text/markdown": "1. 'Beta'\n2. 'Baba'\n\n\n",
            "text/latex": "\\begin{enumerate*}\n\\item 'Beta'\n\\item 'Baba'\n\\end{enumerate*}\n",
            "text/plain": [
              "[1] \"Beta\" \"Baba\""
            ]
          },
          "metadata": {}
        }
      ]
    }
  ]
}